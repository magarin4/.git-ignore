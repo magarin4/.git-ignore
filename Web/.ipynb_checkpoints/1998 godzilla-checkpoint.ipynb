{
 "cells": [
  {
   "cell_type": "markdown",
   "metadata": {},
   "source": [
    " ### 네이버 평점"
   ]
  },
  {
   "cell_type": "code",
   "execution_count": 5,
   "metadata": {},
   "outputs": [],
   "source": [
    "from bs4 import BeautifulSoup\n",
    "from urllib.request import urlopen"
   ]
  },
  {
   "cell_type": "code",
   "execution_count": 8,
   "metadata": {},
   "outputs": [],
   "source": [
    "url_base = \"https://movie.naver.com\"\n",
    "url_sub = '/movie/bi/mi/pointWriteFormList.nhn?code=19096&amp;type=after&amp;isActualPointWriteExecute=false&amp;isMileageSubscriptionAlready=false&amp;isMileageSubscriptionReject=false'\n",
    "url = url_base + url_sub\n",
    "html = urlopen(url)\n",
    "soup = BeautifulSoup(html, 'html.parser')"
   ]
  },
  {
   "cell_type": "code",
   "execution_count": 10,
   "metadata": {},
   "outputs": [
    {
     "ename": "TypeError",
     "evalue": "'NoneType' object is not subscriptable",
     "output_type": "error",
     "traceback": [
      "\u001b[1;31m---------------------------------------------------------------------------\u001b[0m",
      "\u001b[1;31mTypeError\u001b[0m                                 Traceback (most recent call last)",
      "\u001b[1;32m<ipython-input-10-91cc2fea97e9>\u001b[0m in \u001b[0;36m<module>\u001b[1;34m\u001b[0m\n\u001b[1;32m----> 1\u001b[1;33m \u001b[0mifr_url\u001b[0m \u001b[1;33m=\u001b[0m \u001b[0msoup\u001b[0m\u001b[1;33m.\u001b[0m\u001b[0mfind\u001b[0m\u001b[1;33m(\u001b[0m\u001b[1;34m'iframe'\u001b[0m\u001b[1;33m)\u001b[0m\u001b[1;33m[\u001b[0m\u001b[1;34m'src'\u001b[0m\u001b[1;33m]\u001b[0m\u001b[1;33m\u001b[0m\u001b[1;33m\u001b[0m\u001b[0m\n\u001b[0m\u001b[0;32m      2\u001b[0m \u001b[0mifr_url\u001b[0m\u001b[1;33m\u001b[0m\u001b[1;33m\u001b[0m\u001b[0m\n",
      "\u001b[1;31mTypeError\u001b[0m: 'NoneType' object is not subscriptable"
     ]
    }
   ],
   "source": [
    "ifr_url = soup.find('iframe')['src']\n",
    "ifr_url"
   ]
  },
  {
   "cell_type": "code",
   "execution_count": 11,
   "metadata": {},
   "outputs": [],
   "source": [
    "url = url_base + url_sub\n",
    "html = urlopen(url)\n",
    "soup = BeautifulSoup(html,'html.parser')"
   ]
  },
  {
   "cell_type": "code",
   "execution_count": 12,
   "metadata": {},
   "outputs": [
    {
     "data": {
      "text/plain": [
       "<strong class=\"total\">관람객 평점 <em>595</em>건<button class=\"btn_review\" id=\"open-form-btn\">내 평점 등록</button></strong>"
      ]
     },
     "execution_count": 12,
     "metadata": {},
     "output_type": "execute_result"
    }
   ],
   "source": [
    "count = soup.find('strong','total')\n",
    "count"
   ]
  },
  {
   "cell_type": "code",
   "execution_count": 13,
   "metadata": {},
   "outputs": [
    {
     "data": {
      "text/plain": [
       "'595'"
      ]
     },
     "execution_count": 13,
     "metadata": {},
     "output_type": "execute_result"
    }
   ],
   "source": [
    "count = count.find('em').string # get_text() 대신에 string\n",
    "count"
   ]
  },
  {
   "cell_type": "code",
   "execution_count": 14,
   "metadata": {},
   "outputs": [
    {
     "data": {
      "text/plain": [
       "595"
      ]
     },
     "execution_count": 14,
     "metadata": {},
     "output_type": "execute_result"
    }
   ],
   "source": [
    "count = int(count.replace(',',''))\n",
    "count"
   ]
  },
  {
   "cell_type": "code",
   "execution_count": 15,
   "metadata": {},
   "outputs": [],
   "source": [
    "result = soup.find(class_='score_result')"
   ]
  },
  {
   "cell_type": "code",
   "execution_count": 16,
   "metadata": {},
   "outputs": [
    {
     "data": {
      "text/plain": [
       "[<li>\n",
       " <div class=\"star_score\">\n",
       " <span class=\"st_off\"><span class=\"st_on\" style=\"width:80.0%\"></span></span><em>8</em>\n",
       " </div>\n",
       " <div class=\"score_reple\">\n",
       " <p>\n",
       " <!-- 스포일러 컨텐츠로 처리되는지 여부 -->\n",
       " <span id=\"_filtered_ment_0\">\n",
       " \t\t\t\t\t\t\t\t\t\t\t\t\t\t\n",
       " \t\t\t\t\t\t\t\t\t\t\t\t\t\t\t\n",
       " \t\t\t\t\t\t\t\t\t\t\t\t\t\t\t\n",
       " \t\t\t\t\t\t\t\t\t\t\t\t\t\t\t\t당시 라이언일병, 타이타닉, 쥬라기공원2에 가려서 그렇지... 15년전 영화라도 전혀 구린감이 없다.. 뉴욕에 등장하는 장면과 육해공으로 고질라 추격과 택시로 달아가는장면등.. 현재 한국영화도 이정도는 못만든다.. \n",
       " \t\t\t\t\t\t\t\t\t\t\t\t\t\t\t\n",
       " \t\t\t\t\t\t\t\t\t\t\t\t\t\t\n",
       " \t\t\t\t\t\t\t\t\t\t\t\t\t\t\n",
       " \t\t\t\t\t\t\t\t\t\t\t\t\t</span>\n",
       " </p>\n",
       " <dl>\n",
       " <dt>\n",
       " <em>\n",
       " <a href=\"#\" onclick=\"javascript:showPointListByNid(7132341, 'after');parent.clickcr(this, 'ara.uid', '', '', event); return false;\" target=\"_top\">\n",
       " <span>Shinon(maxi****)</span>\n",
       " </a>\n",
       " </em>\n",
       " <em>2013.01.19 12:51</em>\n",
       " </dt>\n",
       " <dd>\n",
       " <a class=\"go_report2\" href=\"#\" onclick=\"parent.clickcr(this, 'ara.report', '', '', event); common.report('false','maxi****', 'EvTlzHHDVy0M2yutQl5el/hxmxeW/CySaNyL35kllXI=', '당시 라이언일병, 타이타닉, 쥬라기공원2에 가려서 그렇지... 15년전 영화라도 전혀 구린감이 없다.. 뉴욕에 등장하는 장면과 육해공으로 고질라 추격과 택시로 달아가는장면등.. 현재 한국영화도 이정도는 못만든다.. ', '7132341', 'point_after', false);return false;\"><em>신고</em></a>\n",
       " </dd>\n",
       " </dl>\n",
       " </div>\n",
       " <div class=\"btn_area\">\n",
       " <a class=\"_sympathyButton\" href=\"#\" onclick=\"parent.clickcr(this, 'ara.sym', '', '', event);\">\n",
       " <span class=\"ico_up\"></span>\n",
       " <span class=\"blind\">공감</span>\n",
       " <strong class=\"sympathy_7132341\">243</strong>\n",
       " </a>\n",
       " <a class=\"_notSympathyButton\" href=\"#\" onclick=\"parent.clickcr(this, 'ara.opp', '', '', event);\">\n",
       " <span class=\"ico_down\"></span>\n",
       " <span class=\"blind\">비공감</span>\n",
       " <strong class=\"notSympathy_7132341\">22</strong>\n",
       " </a>\n",
       " </div>\n",
       " </li>,\n",
       " <li>\n",
       " <div class=\"star_score\">\n",
       " <span class=\"st_off\"><span class=\"st_on\" style=\"width:90.0%\"></span></span><em>9</em>\n",
       " </div>\n",
       " <div class=\"score_reple\">\n",
       " <p>\n",
       " <!-- 스포일러 컨텐츠로 처리되는지 여부 -->\n",
       " <span id=\"_filtered_ment_1\">\n",
       " \t\t\t\t\t\t\t\t\t\t\t\t\t\t\n",
       " \t\t\t\t\t\t\t\t\t\t\t\t\t\t\t\n",
       " \t\t\t\t\t\t\t\t\t\t\t\t\t\t\t\n",
       " \t\t\t\t\t\t\t\t\t\t\t\t\t\t\t\t옛날 영화지만 지금 나오는 그래픽 떡칠떡칠한 영화보다 훨씬 재미있다. \n",
       " \t\t\t\t\t\t\t\t\t\t\t\t\t\t\t\n",
       " \t\t\t\t\t\t\t\t\t\t\t\t\t\t\n",
       " \t\t\t\t\t\t\t\t\t\t\t\t\t\t\n",
       " \t\t\t\t\t\t\t\t\t\t\t\t\t</span>\n",
       " </p>\n",
       " <dl>\n",
       " <dt>\n",
       " <em>\n",
       " <a href=\"#\" onclick=\"javascript:showPointListByNid(7645123, 'after');parent.clickcr(this, 'ara.uid', '', '', event); return false;\" target=\"_top\">\n",
       " <span>레이지(dbsr****)</span>\n",
       " </a>\n",
       " </em>\n",
       " <em>2013.06.16 00:01</em>\n",
       " </dt>\n",
       " <dd>\n",
       " <a class=\"go_report2\" href=\"#\" onclick=\"parent.clickcr(this, 'ara.report', '', '', event); common.report('false','dbsr****', 'eKZ/w7kQP3Gj+bA6YWnyYu2aacXWvdBUoEe2fDUFM/8=', '옛날 영화지만 지금 나오는 그래픽 떡칠떡칠한 영화보다 훨씬 재미있다. ', '7645123', 'point_after', false);return false;\"><em>신고</em></a>\n",
       " </dd>\n",
       " </dl>\n",
       " </div>\n",
       " <div class=\"btn_area\">\n",
       " <a class=\"_sympathyButton\" href=\"#\" onclick=\"parent.clickcr(this, 'ara.sym', '', '', event);\">\n",
       " <span class=\"ico_up\"></span>\n",
       " <span class=\"blind\">공감</span>\n",
       " <strong class=\"sympathy_7645123\">133</strong>\n",
       " </a>\n",
       " <a class=\"_notSympathyButton\" href=\"#\" onclick=\"parent.clickcr(this, 'ara.opp', '', '', event);\">\n",
       " <span class=\"ico_down\"></span>\n",
       " <span class=\"blind\">비공감</span>\n",
       " <strong class=\"notSympathy_7645123\">20</strong>\n",
       " </a>\n",
       " </div>\n",
       " </li>,\n",
       " <li>\n",
       " <div class=\"star_score\">\n",
       " <span class=\"st_off\"><span class=\"st_on\" style=\"width:70.0%\"></span></span><em>7</em>\n",
       " </div>\n",
       " <div class=\"score_reple\">\n",
       " <p>\n",
       " <!-- 스포일러 컨텐츠로 처리되는지 여부 -->\n",
       " <span id=\"_filtered_ment_2\">\n",
       " \t\t\t\t\t\t\t\t\t\t\t\t\t\t\n",
       " \t\t\t\t\t\t\t\t\t\t\t\t\t\t\t\n",
       " \t\t\t\t\t\t\t\t\t\t\t\t\t\t\t\n",
       " \t\t\t\t\t\t\t\t\t\t\t\t\t\t\t\t오락성은 확실하게 갖춘 영화 재미요소도 있고 꼭 일본껄 리메이크 했다고 깍아내릴 필요는 없음 이영화의 백미는 고질라가 뚤고 나간 빌딩을 보여줄때 그안에 헬기가 왔다 갔다 하는 CG는 잊을수 없음.. \n",
       " \t\t\t\t\t\t\t\t\t\t\t\t\t\t\t\n",
       " \t\t\t\t\t\t\t\t\t\t\t\t\t\t\n",
       " \t\t\t\t\t\t\t\t\t\t\t\t\t\t\n",
       " \t\t\t\t\t\t\t\t\t\t\t\t\t</span>\n",
       " </p>\n",
       " <dl>\n",
       " <dt>\n",
       " <em>\n",
       " <a href=\"#\" onclick=\"javascript:showPointListByNid(7648650, 'after');parent.clickcr(this, 'ara.uid', '', '', event); return false;\" target=\"_top\">\n",
       " <span>료우마(solb****)</span>\n",
       " </a>\n",
       " </em>\n",
       " <em>2013.06.16 19:24</em>\n",
       " </dt>\n",
       " <dd>\n",
       " <a class=\"go_report2\" href=\"#\" onclick=\"parent.clickcr(this, 'ara.report', '', '', event); common.report('false','solb****', 'qu5NLpT3QD1xcp/a1Exz2SkrBYxSbRxfIt4i92IwtiE=', '오락성은 확실하게 갖춘 영화 재미요소도 있고 꼭 일본껄 리메이크 했다고 깍아내릴 필요는 없음 이영화의 백미는 고질라가 뚤고 나간 빌딩을 보여줄때 그안에 헬기가 왔다 갔다 하는 CG는 잊을수 없음.. ', '7648650', 'point_after', false);return false;\"><em>신고</em></a>\n",
       " </dd>\n",
       " </dl>\n",
       " </div>\n",
       " <div class=\"btn_area\">\n",
       " <a class=\"_sympathyButton\" href=\"#\" onclick=\"parent.clickcr(this, 'ara.sym', '', '', event);\">\n",
       " <span class=\"ico_up\"></span>\n",
       " <span class=\"blind\">공감</span>\n",
       " <strong class=\"sympathy_7648650\">95</strong>\n",
       " </a>\n",
       " <a class=\"_notSympathyButton\" href=\"#\" onclick=\"parent.clickcr(this, 'ara.opp', '', '', event);\">\n",
       " <span class=\"ico_down\"></span>\n",
       " <span class=\"blind\">비공감</span>\n",
       " <strong class=\"notSympathy_7648650\">10</strong>\n",
       " </a>\n",
       " </div>\n",
       " </li>,\n",
       " <li>\n",
       " <div class=\"star_score\">\n",
       " <span class=\"st_off\"><span class=\"st_on\" style=\"width:100.0%\"></span></span><em>10</em>\n",
       " </div>\n",
       " <div class=\"score_reple\">\n",
       " <p>\n",
       " <!-- 스포일러 컨텐츠로 처리되는지 여부 -->\n",
       " <span id=\"_filtered_ment_3\">\n",
       " \t\t\t\t\t\t\t\t\t\t\t\t\t\t\n",
       " \t\t\t\t\t\t\t\t\t\t\t\t\t\t\t\n",
       " \t\t\t\t\t\t\t\t\t\t\t\t\t\t\t\n",
       " \t\t\t\t\t\t\t\t\t\t\t\t\t\t\t\t여러가지 이유로 10점을 줄수있는 영화.확실한 액션, 극강의 스케일,소소한 웃음등 뭐하나 아쉬운게 없는듯 \n",
       " \t\t\t\t\t\t\t\t\t\t\t\t\t\t\t\n",
       " \t\t\t\t\t\t\t\t\t\t\t\t\t\t\n",
       " \t\t\t\t\t\t\t\t\t\t\t\t\t\t\n",
       " \t\t\t\t\t\t\t\t\t\t\t\t\t</span>\n",
       " </p>\n",
       " <dl>\n",
       " <dt>\n",
       " <em>\n",
       " <a href=\"#\" onclick=\"javascript:showPointListByNid(7694222, 'after');parent.clickcr(this, 'ara.uid', '', '', event); return false;\" target=\"_top\">\n",
       " <span>Fly Boy(outs****)</span>\n",
       " </a>\n",
       " </em>\n",
       " <em>2013.07.01 01:22</em>\n",
       " </dt>\n",
       " <dd>\n",
       " <a class=\"go_report2\" href=\"#\" onclick=\"parent.clickcr(this, 'ara.report', '', '', event); common.report('false','outs****', 'hSxJWypZn6e8dcFjTYXSn+ZyoEgaX5wWrsdNOsob48M=', '여러가지 이유로 10점을 줄수있는 영화.확실한 액션, 극강의 스케일,소소한 웃음등 뭐하나 아쉬운게 없는듯 ', '7694222', 'point_after', false);return false;\"><em>신고</em></a>\n",
       " </dd>\n",
       " </dl>\n",
       " </div>\n",
       " <div class=\"btn_area\">\n",
       " <a class=\"_sympathyButton\" href=\"#\" onclick=\"parent.clickcr(this, 'ara.sym', '', '', event);\">\n",
       " <span class=\"ico_up\"></span>\n",
       " <span class=\"blind\">공감</span>\n",
       " <strong class=\"sympathy_7694222\">78</strong>\n",
       " </a>\n",
       " <a class=\"_notSympathyButton\" href=\"#\" onclick=\"parent.clickcr(this, 'ara.opp', '', '', event);\">\n",
       " <span class=\"ico_down\"></span>\n",
       " <span class=\"blind\">비공감</span>\n",
       " <strong class=\"notSympathy_7694222\">12</strong>\n",
       " </a>\n",
       " </div>\n",
       " </li>,\n",
       " <li>\n",
       " <div class=\"star_score\">\n",
       " <span class=\"st_off\"><span class=\"st_on\" style=\"width:100.0%\"></span></span><em>10</em>\n",
       " </div>\n",
       " <div class=\"score_reple\">\n",
       " <p>\n",
       " <!-- 스포일러 컨텐츠로 처리되는지 여부 -->\n",
       " <span id=\"_filtered_ment_4\">\n",
       " \t\t\t\t\t\t\t\t\t\t\t\t\t\t\n",
       " \t\t\t\t\t\t\t\t\t\t\t\t\t\t\t\n",
       " \t\t\t\t\t\t\t\t\t\t\t\t\t\t\t\n",
       " \t\t\t\t\t\t\t\t\t\t\t\t\t\t\t\t15년전 어릴 때 몇번이고 다시 보던 기억이 새록새록 .. \n",
       " \t\t\t\t\t\t\t\t\t\t\t\t\t\t\t\n",
       " \t\t\t\t\t\t\t\t\t\t\t\t\t\t\n",
       " \t\t\t\t\t\t\t\t\t\t\t\t\t\t\n",
       " \t\t\t\t\t\t\t\t\t\t\t\t\t</span>\n",
       " </p>\n",
       " <dl>\n",
       " <dt>\n",
       " <em>\n",
       " <a href=\"#\" onclick=\"javascript:showPointListByNid(7612303, 'after');parent.clickcr(this, 'ara.uid', '', '', event); return false;\" target=\"_top\">\n",
       " <span>euns****</span>\n",
       " </a>\n",
       " </em>\n",
       " <em>2013.06.08 17:49</em>\n",
       " </dt>\n",
       " <dd>\n",
       " <a class=\"go_report2\" href=\"#\" onclick=\"parent.clickcr(this, 'ara.report', '', '', event); common.report('false','euns****', '+nabvDsx7NEM3/+UvD8KpdOASCtTJUQZffZ/3p37WoM=', '15년전 어릴 때 몇번이고 다시 보던 기억이 새록새록 .. ', '7612303', 'point_after', false);return false;\"><em>신고</em></a>\n",
       " </dd>\n",
       " </dl>\n",
       " </div>\n",
       " <div class=\"btn_area\">\n",
       " <a class=\"_sympathyButton\" href=\"#\" onclick=\"parent.clickcr(this, 'ara.sym', '', '', event);\">\n",
       " <span class=\"ico_up\"></span>\n",
       " <span class=\"blind\">공감</span>\n",
       " <strong class=\"sympathy_7612303\">77</strong>\n",
       " </a>\n",
       " <a class=\"_notSympathyButton\" href=\"#\" onclick=\"parent.clickcr(this, 'ara.opp', '', '', event);\">\n",
       " <span class=\"ico_down\"></span>\n",
       " <span class=\"blind\">비공감</span>\n",
       " <strong class=\"notSympathy_7612303\">12</strong>\n",
       " </a>\n",
       " </div>\n",
       " </li>,\n",
       " <li>\n",
       " <div class=\"star_score\">\n",
       " <span class=\"st_off\"><span class=\"st_on\" style=\"width:90.0%\"></span></span><em>9</em>\n",
       " </div>\n",
       " <div class=\"score_reple\">\n",
       " <p>\n",
       " <!-- 스포일러 컨텐츠로 처리되는지 여부 -->\n",
       " <span id=\"_filtered_ment_5\">\n",
       " \t\t\t\t\t\t\t\t\t\t\t\t\t\t\n",
       " \t\t\t\t\t\t\t\t\t\t\t\t\t\t\t\n",
       " \t\t\t\t\t\t\t\t\t\t\t\t\t\t\t\n",
       " \t\t\t\t\t\t\t\t\t\t\t\t\t\t\t\t어렸을 때 보고 커서 다시 봤는데 오드리 그 년 아주 나쁜 개같은 년이더만 지 인생 필려고 학구열 있는 과학자 팀에서 쫓겨나게 하고 배신하고 쓰레기 같은 년 \n",
       " \t\t\t\t\t\t\t\t\t\t\t\t\t\t\t\n",
       " \t\t\t\t\t\t\t\t\t\t\t\t\t\t\n",
       " \t\t\t\t\t\t\t\t\t\t\t\t\t\t\n",
       " \t\t\t\t\t\t\t\t\t\t\t\t\t</span>\n",
       " </p>\n",
       " <dl>\n",
       " <dt>\n",
       " <em>\n",
       " <a href=\"#\" onclick=\"javascript:showPointListByNid(8541025, 'after');parent.clickcr(this, 'ara.uid', '', '', event); return false;\" target=\"_top\">\n",
       " <span>돔 페리뇽(leey****)</span>\n",
       " </a>\n",
       " </em>\n",
       " <em>2014.02.27 03:04</em>\n",
       " </dt>\n",
       " <dd>\n",
       " <a class=\"go_report2\" href=\"#\" onclick=\"parent.clickcr(this, 'ara.report', '', '', event); common.report('false','leey****', 'xPOEBwVY7tLPzoGo0i7QuwPYmtl8BS97f4s/XGtU05M=', '어렸을 때 보고 커서 다시 봤는데 오드리 그 년 아주 나쁜 개같은 년이더만 지 인생 필려고 학구열 있는 과학자 팀에서 쫓겨나게 하고 배신하고 쓰레기 같은 년 ', '8541025', 'point_after', false);return false;\"><em>신고</em></a>\n",
       " </dd>\n",
       " </dl>\n",
       " </div>\n",
       " <div class=\"btn_area\">\n",
       " <a class=\"_sympathyButton\" href=\"#\" onclick=\"parent.clickcr(this, 'ara.sym', '', '', event);\">\n",
       " <span class=\"ico_up\"></span>\n",
       " <span class=\"blind\">공감</span>\n",
       " <strong class=\"sympathy_8541025\">42</strong>\n",
       " </a>\n",
       " <a class=\"_notSympathyButton\" href=\"#\" onclick=\"parent.clickcr(this, 'ara.opp', '', '', event);\">\n",
       " <span class=\"ico_down\"></span>\n",
       " <span class=\"blind\">비공감</span>\n",
       " <strong class=\"notSympathy_8541025\">9</strong>\n",
       " </a>\n",
       " </div>\n",
       " </li>,\n",
       " <li>\n",
       " <div class=\"star_score\">\n",
       " <span class=\"st_off\"><span class=\"st_on\" style=\"width:100.0%\"></span></span><em>10</em>\n",
       " </div>\n",
       " <div class=\"score_reple\">\n",
       " <p>\n",
       " <!-- 스포일러 컨텐츠로 처리되는지 여부 -->\n",
       " <span id=\"_filtered_ment_6\">\n",
       " \t\t\t\t\t\t\t\t\t\t\t\t\t\t\n",
       " \t\t\t\t\t\t\t\t\t\t\t\t\t\t\t\n",
       " \t\t\t\t\t\t\t\t\t\t\t\t\t\t\t\n",
       " \t\t\t\t\t\t\t\t\t\t\t\t\t\t\t\t진짜재밋게봣는데....마지막에고질라새끼한마리남아잇길래이번에나올고질라가그거후속작일줄알앗는데 \n",
       " \t\t\t\t\t\t\t\t\t\t\t\t\t\t\t\n",
       " \t\t\t\t\t\t\t\t\t\t\t\t\t\t\n",
       " \t\t\t\t\t\t\t\t\t\t\t\t\t\t\n",
       " \t\t\t\t\t\t\t\t\t\t\t\t\t</span>\n",
       " </p>\n",
       " <dl>\n",
       " <dt>\n",
       " <em>\n",
       " <a href=\"#\" onclick=\"javascript:showPointListByNid(8724678, 'after');parent.clickcr(this, 'ara.uid', '', '', event); return false;\" target=\"_top\">\n",
       " <span>바보z(jiln****)</span>\n",
       " </a>\n",
       " </em>\n",
       " <em>2014.05.11 22:39</em>\n",
       " </dt>\n",
       " <dd>\n",
       " <a class=\"go_report2\" href=\"#\" onclick=\"parent.clickcr(this, 'ara.report', '', '', event); common.report('false','jiln****', '5zm2mezjhl0Keanc1Ss0z5+Lwhm+fB+X7eL7CGv2BJo=', '진짜재밋게봣는데....마지막에고질라새끼한마리남아잇길래이번에나올고질라가그거후속작일줄알앗는데 ', '8724678', 'point_after', false);return false;\"><em>신고</em></a>\n",
       " </dd>\n",
       " </dl>\n",
       " </div>\n",
       " <div class=\"btn_area\">\n",
       " <a class=\"_sympathyButton\" href=\"#\" onclick=\"parent.clickcr(this, 'ara.sym', '', '', event);\">\n",
       " <span class=\"ico_up\"></span>\n",
       " <span class=\"blind\">공감</span>\n",
       " <strong class=\"sympathy_8724678\">32</strong>\n",
       " </a>\n",
       " <a class=\"_notSympathyButton\" href=\"#\" onclick=\"parent.clickcr(this, 'ara.opp', '', '', event);\">\n",
       " <span class=\"ico_down\"></span>\n",
       " <span class=\"blind\">비공감</span>\n",
       " <strong class=\"notSympathy_8724678\">3</strong>\n",
       " </a>\n",
       " </div>\n",
       " </li>,\n",
       " <li>\n",
       " <div class=\"star_score\">\n",
       " <span class=\"st_off\"><span class=\"st_on\" style=\"width:100.0%\"></span></span><em>10</em>\n",
       " </div>\n",
       " <div class=\"score_reple\">\n",
       " <p>\n",
       " <!-- 스포일러 컨텐츠로 처리되는지 여부 -->\n",
       " <span id=\"_filtered_ment_7\">\n",
       " \t\t\t\t\t\t\t\t\t\t\t\t\t\t\n",
       " \t\t\t\t\t\t\t\t\t\t\t\t\t\t\t\n",
       " \t\t\t\t\t\t\t\t\t\t\t\t\t\t\t\n",
       " \t\t\t\t\t\t\t\t\t\t\t\t\t\t\t\t2014년 고질라를 보고나니,, 이게 얼마나 명작인지를 알겟더라 ㅋ2014고질라보다 더 화끈해!! ㅋㅋ \n",
       " \t\t\t\t\t\t\t\t\t\t\t\t\t\t\t\n",
       " \t\t\t\t\t\t\t\t\t\t\t\t\t\t\n",
       " \t\t\t\t\t\t\t\t\t\t\t\t\t\t\n",
       " \t\t\t\t\t\t\t\t\t\t\t\t\t</span>\n",
       " </p>\n",
       " <dl>\n",
       " <dt>\n",
       " <em>\n",
       " <a href=\"#\" onclick=\"javascript:showPointListByNid(8732264, 'after');parent.clickcr(this, 'ara.uid', '', '', event); return false;\" target=\"_top\">\n",
       " <span>노란머리(bumy****)</span>\n",
       " </a>\n",
       " </em>\n",
       " <em>2014.05.15 11:43</em>\n",
       " </dt>\n",
       " <dd>\n",
       " <a class=\"go_report2\" href=\"#\" onclick=\"parent.clickcr(this, 'ara.report', '', '', event); common.report('false','bumy****', 'HqrmHFskXiKW1vdUIKeaQP+ccGq5etORVQTnNA+AUkk=', '2014년 고질라를 보고나니,, 이게 얼마나 명작인지를 알겟더라 ㅋ2014고질라보다 더 화끈해!! ㅋㅋ ', '8732264', 'point_after', false);return false;\"><em>신고</em></a>\n",
       " </dd>\n",
       " </dl>\n",
       " </div>\n",
       " <div class=\"btn_area\">\n",
       " <a class=\"_sympathyButton\" href=\"#\" onclick=\"parent.clickcr(this, 'ara.sym', '', '', event);\">\n",
       " <span class=\"ico_up\"></span>\n",
       " <span class=\"blind\">공감</span>\n",
       " <strong class=\"sympathy_8732264\">42</strong>\n",
       " </a>\n",
       " <a class=\"_notSympathyButton\" href=\"#\" onclick=\"parent.clickcr(this, 'ara.opp', '', '', event);\">\n",
       " <span class=\"ico_down\"></span>\n",
       " <span class=\"blind\">비공감</span>\n",
       " <strong class=\"notSympathy_8732264\">15</strong>\n",
       " </a>\n",
       " </div>\n",
       " </li>,\n",
       " <li>\n",
       " <div class=\"star_score\">\n",
       " <span class=\"st_off\"><span class=\"st_on\" style=\"width:100.0%\"></span></span><em>10</em>\n",
       " </div>\n",
       " <div class=\"score_reple\">\n",
       " <p>\n",
       " <!-- 스포일러 컨텐츠로 처리되는지 여부 -->\n",
       " <span id=\"_filtered_ment_8\">\n",
       " \t\t\t\t\t\t\t\t\t\t\t\t\t\t\n",
       " \t\t\t\t\t\t\t\t\t\t\t\t\t\t\t\n",
       " \t\t\t\t\t\t\t\t\t\t\t\t\t\t\t\n",
       " \t\t\t\t\t\t\t\t\t\t\t\t\t\t\t\t왜 평점이 7점대이지? 이만큼 재미있었고 때문에 많이본 영화도 몇 없는데? \n",
       " \t\t\t\t\t\t\t\t\t\t\t\t\t\t\t\n",
       " \t\t\t\t\t\t\t\t\t\t\t\t\t\t\n",
       " \t\t\t\t\t\t\t\t\t\t\t\t\t\t\n",
       " \t\t\t\t\t\t\t\t\t\t\t\t\t</span>\n",
       " </p>\n",
       " <dl>\n",
       " <dt>\n",
       " <em>\n",
       " <a href=\"#\" onclick=\"javascript:showPointListByNid(7867780, 'after');parent.clickcr(this, 'ara.uid', '', '', event); return false;\" target=\"_top\">\n",
       " <span>무적(hbk8****)</span>\n",
       " </a>\n",
       " </em>\n",
       " <em>2013.08.11 06:45</em>\n",
       " </dt>\n",
       " <dd>\n",
       " <a class=\"go_report2\" href=\"#\" onclick=\"parent.clickcr(this, 'ara.report', '', '', event); common.report('false','hbk8****', 'oDB6th966bPG8/xJqFcP0aME0Kk5QvoshRwGhbCTiiM=', '왜 평점이 7점대이지? 이만큼 재미있었고 때문에 많이본 영화도 몇 없는데? ', '7867780', 'point_after', false);return false;\"><em>신고</em></a>\n",
       " </dd>\n",
       " </dl>\n",
       " </div>\n",
       " <div class=\"btn_area\">\n",
       " <a class=\"_sympathyButton\" href=\"#\" onclick=\"parent.clickcr(this, 'ara.sym', '', '', event);\">\n",
       " <span class=\"ico_up\"></span>\n",
       " <span class=\"blind\">공감</span>\n",
       " <strong class=\"sympathy_7867780\">28</strong>\n",
       " </a>\n",
       " <a class=\"_notSympathyButton\" href=\"#\" onclick=\"parent.clickcr(this, 'ara.opp', '', '', event);\">\n",
       " <span class=\"ico_down\"></span>\n",
       " <span class=\"blind\">비공감</span>\n",
       " <strong class=\"notSympathy_7867780\">5</strong>\n",
       " </a>\n",
       " </div>\n",
       " </li>,\n",
       " <li class=\"last\">\n",
       " <div class=\"star_score\">\n",
       " <span class=\"st_off\"><span class=\"st_on\" style=\"width:100.0%\"></span></span><em>10</em>\n",
       " </div>\n",
       " <div class=\"score_reple\">\n",
       " <p>\n",
       " <!-- 스포일러 컨텐츠로 처리되는지 여부 -->\n",
       " <span id=\"_filtered_ment_9\">\n",
       " \t\t\t\t\t\t\t\t\t\t\t\t\t\t\n",
       " \t\t\t\t\t\t\t\t\t\t\t\t\t\t\t\n",
       " \t\t\t\t\t\t\t\t\t\t\t\t\t\t\t\n",
       " \t\t\t\t\t\t\t\t\t\t\t\t\t\t\t\t2014년이 되어서야 재평가 받는 고질라. 사실 이게 존나 재밌는 거였구나....난 이거 재밌게 봤었는데 원작을 파괴했다고 욕먹더라. 앞으로 느려터진 고질라 원작 소스 재탕하면 무조건 망하리. \n",
       " \t\t\t\t\t\t\t\t\t\t\t\t\t\t\t\n",
       " \t\t\t\t\t\t\t\t\t\t\t\t\t\t\n",
       " \t\t\t\t\t\t\t\t\t\t\t\t\t\t\n",
       " \t\t\t\t\t\t\t\t\t\t\t\t\t</span>\n",
       " </p>\n",
       " <dl>\n",
       " <dt>\n",
       " <em>\n",
       " <a href=\"#\" onclick=\"javascript:showPointListByNid(8734872, 'after');parent.clickcr(this, 'ara.uid', '', '', event); return false;\" target=\"_top\">\n",
       " <span>우주미아(comb****)</span>\n",
       " </a>\n",
       " </em>\n",
       " <em>2014.05.16 00:57</em>\n",
       " </dt>\n",
       " <dd>\n",
       " <a class=\"go_report2\" href=\"#\" onclick=\"parent.clickcr(this, 'ara.report', '', '', event); common.report('false','comb****', '5MVEpPe+wpkApIWu8zlBbOoiVsiHvkk/PFsAHHuudg4=', '2014년이 되어서야 재평가 받는 고질라. 사실 이게 존나 재밌는 거였구나....난 이거 재밌게 봤었는데 원작을 파괴했다고 욕먹더라. 앞으로 느려터진 고질라 원작 소스 재탕하면 무조건 망하리. ', '8734872', 'point_after', false);return false;\"><em>신고</em></a>\n",
       " </dd>\n",
       " </dl>\n",
       " </div>\n",
       " <div class=\"btn_area\">\n",
       " <a class=\"_sympathyButton\" href=\"#\" onclick=\"parent.clickcr(this, 'ara.sym', '', '', event);\">\n",
       " <span class=\"ico_up\"></span>\n",
       " <span class=\"blind\">공감</span>\n",
       " <strong class=\"sympathy_8734872\">30</strong>\n",
       " </a>\n",
       " <a class=\"_notSympathyButton\" href=\"#\" onclick=\"parent.clickcr(this, 'ara.opp', '', '', event);\">\n",
       " <span class=\"ico_down\"></span>\n",
       " <span class=\"blind\">비공감</span>\n",
       " <strong class=\"notSympathy_8734872\">8</strong>\n",
       " </a>\n",
       " </div>\n",
       " </li>]"
      ]
     },
     "execution_count": 16,
     "metadata": {},
     "output_type": "execute_result"
    }
   ],
   "source": [
    "lis = result.find_all('li')\n",
    "lis"
   ]
  },
  {
   "cell_type": "code",
   "execution_count": 17,
   "metadata": {},
   "outputs": [
    {
     "data": {
      "text/plain": [
       "<li>\n",
       "<div class=\"star_score\">\n",
       "<span class=\"st_off\"><span class=\"st_on\" style=\"width:80.0%\"></span></span><em>8</em>\n",
       "</div>\n",
       "<div class=\"score_reple\">\n",
       "<p>\n",
       "<!-- 스포일러 컨텐츠로 처리되는지 여부 -->\n",
       "<span id=\"_filtered_ment_0\">\n",
       "\t\t\t\t\t\t\t\t\t\t\t\t\t\t\n",
       "\t\t\t\t\t\t\t\t\t\t\t\t\t\t\t\n",
       "\t\t\t\t\t\t\t\t\t\t\t\t\t\t\t\n",
       "\t\t\t\t\t\t\t\t\t\t\t\t\t\t\t\t당시 라이언일병, 타이타닉, 쥬라기공원2에 가려서 그렇지... 15년전 영화라도 전혀 구린감이 없다.. 뉴욕에 등장하는 장면과 육해공으로 고질라 추격과 택시로 달아가는장면등.. 현재 한국영화도 이정도는 못만든다.. \n",
       "\t\t\t\t\t\t\t\t\t\t\t\t\t\t\t\n",
       "\t\t\t\t\t\t\t\t\t\t\t\t\t\t\n",
       "\t\t\t\t\t\t\t\t\t\t\t\t\t\t\n",
       "\t\t\t\t\t\t\t\t\t\t\t\t\t</span>\n",
       "</p>\n",
       "<dl>\n",
       "<dt>\n",
       "<em>\n",
       "<a href=\"#\" onclick=\"javascript:showPointListByNid(7132341, 'after');parent.clickcr(this, 'ara.uid', '', '', event); return false;\" target=\"_top\">\n",
       "<span>Shinon(maxi****)</span>\n",
       "</a>\n",
       "</em>\n",
       "<em>2013.01.19 12:51</em>\n",
       "</dt>\n",
       "<dd>\n",
       "<a class=\"go_report2\" href=\"#\" onclick=\"parent.clickcr(this, 'ara.report', '', '', event); common.report('false','maxi****', 'EvTlzHHDVy0M2yutQl5el/hxmxeW/CySaNyL35kllXI=', '당시 라이언일병, 타이타닉, 쥬라기공원2에 가려서 그렇지... 15년전 영화라도 전혀 구린감이 없다.. 뉴욕에 등장하는 장면과 육해공으로 고질라 추격과 택시로 달아가는장면등.. 현재 한국영화도 이정도는 못만든다.. ', '7132341', 'point_after', false);return false;\"><em>신고</em></a>\n",
       "</dd>\n",
       "</dl>\n",
       "</div>\n",
       "<div class=\"btn_area\">\n",
       "<a class=\"_sympathyButton\" href=\"#\" onclick=\"parent.clickcr(this, 'ara.sym', '', '', event);\">\n",
       "<span class=\"ico_up\"></span>\n",
       "<span class=\"blind\">공감</span>\n",
       "<strong class=\"sympathy_7132341\">243</strong>\n",
       "</a>\n",
       "<a class=\"_notSympathyButton\" href=\"#\" onclick=\"parent.clickcr(this, 'ara.opp', '', '', event);\">\n",
       "<span class=\"ico_down\"></span>\n",
       "<span class=\"blind\">비공감</span>\n",
       "<strong class=\"notSympathy_7132341\">22</strong>\n",
       "</a>\n",
       "</div>\n",
       "</li>"
      ]
     },
     "execution_count": 17,
     "metadata": {},
     "output_type": "execute_result"
    }
   ],
   "source": [
    "li = lis[0]\n",
    "li"
   ]
  },
  {
   "cell_type": "code",
   "execution_count": 18,
   "metadata": {},
   "outputs": [
    {
     "data": {
      "text/plain": [
       "8"
      ]
     },
     "execution_count": 18,
     "metadata": {},
     "output_type": "execute_result"
    }
   ],
   "source": [
    "score = li.find(class_='star_score').find('em').get_text()\n",
    "score = int(score)\n",
    "score"
   ]
  },
  {
   "cell_type": "code",
   "execution_count": 19,
   "metadata": {},
   "outputs": [
    {
     "data": {
      "text/plain": [
       "'\\r\\n\\t\\t\\t\\t\\t\\t\\t\\t\\t\\t\\t\\t\\t\\t\\r\\n\\t\\t\\t\\t\\t\\t\\t\\t\\t\\t\\t\\t\\t\\t\\t\\r\\n\\t\\t\\t\\t\\t\\t\\t\\t\\t\\t\\t\\t\\t\\t\\t\\r\\n\\t\\t\\t\\t\\t\\t\\t\\t\\t\\t\\t\\t\\t\\t\\t\\t당시 라이언일병, 타이타닉, 쥬라기공원2에 가려서 그렇지... 15년전 영화라도 전혀 구린감이 없다.. 뉴욕에 등장하는 장면과 육해공으로 고질라 추격과 택시로 달아가는장면등.. 현재 한국영화도 이정도는 못만든다.. \\r\\n\\t\\t\\t\\t\\t\\t\\t\\t\\t\\t\\t\\t\\t\\t\\t\\r\\n\\t\\t\\t\\t\\t\\t\\t\\t\\t\\t\\t\\t\\t\\t\\r\\n\\t\\t\\t\\t\\t\\t\\t\\t\\t\\t\\t\\t\\t\\t\\r\\n\\t\\t\\t\\t\\t\\t\\t\\t\\t\\t\\t\\t\\t'"
      ]
     },
     "execution_count": 19,
     "metadata": {},
     "output_type": "execute_result"
    }
   ],
   "source": [
    "review = li.find(class_='score_reple').find('p').find('span').get_text()\n",
    "review"
   ]
  },
  {
   "cell_type": "code",
   "execution_count": 20,
   "metadata": {},
   "outputs": [
    {
     "data": {
      "text/plain": [
       "'당시 라이언일병, 타이타닉, 쥬라기공원2에 가려서 그렇지... 15년전 영화라도 전혀 구린감이 없다.. 뉴욕에 등장하는 장면과 육해공으로 고질라 추격과 택시로 달아가는장면등.. 현재 한국영화도 이정도는 못만든다..'"
      ]
     },
     "execution_count": 20,
     "metadata": {},
     "output_type": "execute_result"
    }
   ],
   "source": [
    "review = review.strip(' \\t\\r\\n')\n",
    "review"
   ]
  },
  {
   "cell_type": "code",
   "execution_count": 21,
   "metadata": {},
   "outputs": [
    {
     "data": {
      "text/plain": [
       "[<em>\n",
       " <a href=\"#\" onclick=\"javascript:showPointListByNid(7132341, 'after');parent.clickcr(this, 'ara.uid', '', '', event); return false;\" target=\"_top\">\n",
       " <span>Shinon(maxi****)</span>\n",
       " </a>\n",
       " </em>,\n",
       " <em>2013.01.19 12:51</em>,\n",
       " <em>신고</em>]"
      ]
     },
     "execution_count": 21,
     "metadata": {},
     "output_type": "execute_result"
    }
   ],
   "source": [
    "li.find(class_='score_reple').find_all('em')"
   ]
  },
  {
   "cell_type": "code",
   "execution_count": 22,
   "metadata": {},
   "outputs": [
    {
     "data": {
      "text/plain": [
       "'2013.01.19 12:51'"
      ]
     },
     "execution_count": 22,
     "metadata": {},
     "output_type": "execute_result"
    }
   ],
   "source": [
    "date = li.find(class_='score_reple').find_all('em')[1].get_text()\n",
    "date"
   ]
  },
  {
   "cell_type": "code",
   "execution_count": 51,
   "metadata": {},
   "outputs": [
    {
     "data": {
      "text/plain": [
       "60"
      ]
     },
     "execution_count": 51,
     "metadata": {},
     "output_type": "execute_result"
    }
   ],
   "source": [
    "import math\n",
    "total_page = math.ceil(count/10)\n",
    "total_page"
   ]
  },
  {
   "cell_type": "code",
   "execution_count": 145,
   "metadata": {},
   "outputs": [],
   "source": [
    "point = []\n",
    "review = []\n",
    "date = []\n",
    "url_p = '&page='\n",
    "\n",
    "for page in range(1,total_page+1) :\n",
    "    result = soup.find(class_='score_result')\n",
    "    lis = result.find_all('li')\n",
    "    #print(page)\n",
    "    url = url_base + url_sub + url_p + str(page)\n",
    "    #print(url)\n",
    "    html = urlopen(url)\n",
    "    soup = BeautifulSoup(html, 'html.parser')\n",
    "    for li in lis:\n",
    "        score = li.find(class_='star_score').find('em').get_text()\n",
    "        score = int(score)\n",
    "        point.append(score)\n",
    "        review.append(li.find(class_='score_reple').find('p').find('span').get_text().strip(' \\t\\r\\n'))\n",
    "        date.append(li.find(class_='score_reple').find_all('em')[1].get_text())\n",
    "#print(page)"
   ]
  },
  {
   "cell_type": "code",
   "execution_count": 130,
   "metadata": {
    "scrolled": true
   },
   "outputs": [],
   "source": [
    "#page"
   ]
  },
  {
   "cell_type": "code",
   "execution_count": 131,
   "metadata": {
    "scrolled": true
   },
   "outputs": [],
   "source": [
    "#li"
   ]
  },
  {
   "cell_type": "code",
   "execution_count": 132,
   "metadata": {},
   "outputs": [],
   "source": [
    "#score\n",
    "#print(review)\n",
    "#print(date)"
   ]
  },
  {
   "cell_type": "code",
   "execution_count": 133,
   "metadata": {},
   "outputs": [],
   "source": [
    "#lis[6]"
   ]
  },
  {
   "cell_type": "code",
   "execution_count": 134,
   "metadata": {},
   "outputs": [],
   "source": [
    "#lis[6].find(class_='score_reple').find('p').find('span').get_text()"
   ]
  },
  {
   "cell_type": "code",
   "execution_count": 135,
   "metadata": {},
   "outputs": [],
   "source": [
    "#lis[6].find(class_='score_reple').find('p').find('span').get_text().strip(' \\t\\r\\n')"
   ]
  },
  {
   "cell_type": "code",
   "execution_count": 136,
   "metadata": {},
   "outputs": [],
   "source": [
    "#lis[7].find(class_='score_reple').find('p').find('span').get_text()"
   ]
  },
  {
   "cell_type": "code",
   "execution_count": 137,
   "metadata": {},
   "outputs": [],
   "source": [
    "#lis[7].find(class_='score_reple').find('p').find('span').string.strip(' \\t\\r\\n')"
   ]
  },
  {
   "cell_type": "code",
   "execution_count": 138,
   "metadata": {
    "scrolled": false
   },
   "outputs": [],
   "source": [
    "#li.find(class_='score_reple').find('p').find('span').get_text()"
   ]
  },
  {
   "cell_type": "code",
   "execution_count": 139,
   "metadata": {},
   "outputs": [],
   "source": [
    "#li.find(class_='score_reple').find('p').find('span').string.strip(' \\t\\r\\n')"
   ]
  },
  {
   "cell_type": "code",
   "execution_count": 140,
   "metadata": {},
   "outputs": [
    {
     "data": {
      "text/html": [
       "<div>\n",
       "<style scoped>\n",
       "    .dataframe tbody tr th:only-of-type {\n",
       "        vertical-align: middle;\n",
       "    }\n",
       "\n",
       "    .dataframe tbody tr th {\n",
       "        vertical-align: top;\n",
       "    }\n",
       "\n",
       "    .dataframe thead th {\n",
       "        text-align: right;\n",
       "    }\n",
       "</style>\n",
       "<table border=\"1\" class=\"dataframe\">\n",
       "  <thead>\n",
       "    <tr style=\"text-align: right;\">\n",
       "      <th></th>\n",
       "      <th>평점</th>\n",
       "      <th>일시</th>\n",
       "      <th>감상평</th>\n",
       "    </tr>\n",
       "  </thead>\n",
       "  <tbody>\n",
       "    <tr>\n",
       "      <th>0</th>\n",
       "      <td>10</td>\n",
       "      <td>2014.02.06 03:17</td>\n",
       "      <td>난 아직도 이 영화가 [용가리]보다 1년 먼저 나왔다는 사실이 믿기지 않는다. CG...</td>\n",
       "    </tr>\n",
       "    <tr>\n",
       "      <th>1</th>\n",
       "      <td>10</td>\n",
       "      <td>2013.02.25 21:45</td>\n",
       "      <td>개인적으로 재미있게 본 영화이다. 특수효과도 좋고. 재작비 많이 든 것이 그리 산으...</td>\n",
       "    </tr>\n",
       "    <tr>\n",
       "      <th>2</th>\n",
       "      <td>5</td>\n",
       "      <td>2019.05.29 12:25</td>\n",
       "      <td>고질라 원작을 생각하니 얘는 고질라가 아니라 그냥 공룡이었음...원작을 몰랐다면 9점.</td>\n",
       "    </tr>\n",
       "    <tr>\n",
       "      <th>3</th>\n",
       "      <td>10</td>\n",
       "      <td>2014.09.17 10:51</td>\n",
       "      <td>고질라 2014 보다가 이거 보니까 정말 꿀잼 잘만든 영화중 하나임 동원참치도 깜짝...</td>\n",
       "    </tr>\n",
       "    <tr>\n",
       "      <th>4</th>\n",
       "      <td>10</td>\n",
       "      <td>2019.09.15 14:16</td>\n",
       "      <td>내 인생영화 고질라 쥬라기 공원 사랑합니다 7점대로 하기엔 너무 아까운 영화에요!!</td>\n",
       "    </tr>\n",
       "    <tr>\n",
       "      <th>...</th>\n",
       "      <td>...</td>\n",
       "      <td>...</td>\n",
       "      <td>...</td>\n",
       "    </tr>\n",
       "    <tr>\n",
       "      <th>595</th>\n",
       "      <td>4</td>\n",
       "      <td>2015.07.16 20:56</td>\n",
       "      <td>일본의 문화를 먹칠한 영화라서 4점 줌</td>\n",
       "    </tr>\n",
       "    <tr>\n",
       "      <th>596</th>\n",
       "      <td>1</td>\n",
       "      <td>2018.12.10 10:49</td>\n",
       "      <td>원작파괴한 영화라 비추합니다. 고질라라는 이름만 없었음 그저그런 괴수영화였을텐데..</td>\n",
       "    </tr>\n",
       "    <tr>\n",
       "      <th>597</th>\n",
       "      <td>3</td>\n",
       "      <td>2018.08.07 22:16</td>\n",
       "      <td>재미없다. 보지 마...</td>\n",
       "    </tr>\n",
       "    <tr>\n",
       "      <th>598</th>\n",
       "      <td>4</td>\n",
       "      <td>2014.05.15 13:23</td>\n",
       "      <td>어릴때 봤던 영화중에서 베스트 10 안에 들던 영화였어요.몇일전 TV에서 틀어주길래...</td>\n",
       "    </tr>\n",
       "    <tr>\n",
       "      <th>599</th>\n",
       "      <td>2</td>\n",
       "      <td>2015.01.09 02:42</td>\n",
       "      <td>오락성은 2014판보다 나을수 있으나 헐리우드가 고질라라는 네임을 빌려 3류 블록버...</td>\n",
       "    </tr>\n",
       "  </tbody>\n",
       "</table>\n",
       "<p>600 rows × 3 columns</p>\n",
       "</div>"
      ],
      "text/plain": [
       "     평점                일시                                                감상평\n",
       "0    10  2014.02.06 03:17  난 아직도 이 영화가 [용가리]보다 1년 먼저 나왔다는 사실이 믿기지 않는다. CG...\n",
       "1    10  2013.02.25 21:45  개인적으로 재미있게 본 영화이다. 특수효과도 좋고. 재작비 많이 든 것이 그리 산으...\n",
       "2     5  2019.05.29 12:25   고질라 원작을 생각하니 얘는 고질라가 아니라 그냥 공룡이었음...원작을 몰랐다면 9점.\n",
       "3    10  2014.09.17 10:51  고질라 2014 보다가 이거 보니까 정말 꿀잼 잘만든 영화중 하나임 동원참치도 깜짝...\n",
       "4    10  2019.09.15 14:16     내 인생영화 고질라 쥬라기 공원 사랑합니다 7점대로 하기엔 너무 아까운 영화에요!!\n",
       "..   ..               ...                                                ...\n",
       "595   4  2015.07.16 20:56                              일본의 문화를 먹칠한 영화라서 4점 줌\n",
       "596   1  2018.12.10 10:49     원작파괴한 영화라 비추합니다. 고질라라는 이름만 없었음 그저그런 괴수영화였을텐데..\n",
       "597   3  2018.08.07 22:16                                      재미없다. 보지 마...\n",
       "598   4  2014.05.15 13:23  어릴때 봤던 영화중에서 베스트 10 안에 들던 영화였어요.몇일전 TV에서 틀어주길래...\n",
       "599   2  2015.01.09 02:42  오락성은 2014판보다 나을수 있으나 헐리우드가 고질라라는 네임을 빌려 3류 블록버...\n",
       "\n",
       "[600 rows x 3 columns]"
      ]
     },
     "execution_count": 140,
     "metadata": {},
     "output_type": "execute_result"
    }
   ],
   "source": [
    "import pandas as pd\n",
    "df = pd.DataFrame({'평점':point, '일시':date, '감상평':review})\n",
    "df"
   ]
  },
  {
   "cell_type": "code",
   "execution_count": 143,
   "metadata": {},
   "outputs": [],
   "source": [
    "df.to_csv('godzilla.csv')"
   ]
  },
  {
   "cell_type": "code",
   "execution_count": 144,
   "metadata": {},
   "outputs": [
    {
     "data": {
      "text/plain": [
       "600"
      ]
     },
     "execution_count": 144,
     "metadata": {},
     "output_type": "execute_result"
    }
   ],
   "source": [
    "len(df)"
   ]
  },
  {
   "cell_type": "code",
   "execution_count": null,
   "metadata": {},
   "outputs": [],
   "source": []
  }
 ],
 "metadata": {
  "kernelspec": {
   "display_name": "Python 3",
   "language": "python",
   "name": "python3"
  },
  "language_info": {
   "codemirror_mode": {
    "name": "ipython",
    "version": 3
   },
   "file_extension": ".py",
   "mimetype": "text/x-python",
   "name": "python",
   "nbconvert_exporter": "python",
   "pygments_lexer": "ipython3",
   "version": "3.7.6"
  }
 },
 "nbformat": 4,
 "nbformat_minor": 4
}

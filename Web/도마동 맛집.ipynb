{
 "cells": [
  {
   "cell_type": "markdown",
   "metadata": {},
   "source": [
    " ## 도마동 맛집"
   ]
  },
  {
   "cell_type": "code",
   "execution_count": 1,
   "metadata": {},
   "outputs": [],
   "source": [
    "from bs4 import BeautifulSoup\n",
    "from urllib.request import urlopen\n",
    "from urllib.parse import urljoin\n",
    "import pandas as pd"
   ]
  },
  {
   "cell_type": "code",
   "execution_count": 2,
   "metadata": {},
   "outputs": [],
   "source": [
    "url = 'https://www.diningcode.com/list.php?query=%EB%8C%80%EC%A0%84%EB%8F%84%EB%A7%88%EB%8F%99'\n",
    "page = urlopen(url)\n",
    "\n",
    "soup = BeautifulSoup(page, 'html.parser')"
   ]
  },
  {
   "cell_type": "code",
   "execution_count": 11,
   "metadata": {},
   "outputs": [
    {
     "data": {
      "text/plain": [
       "[<a class=\"blink\" href=\"/profile.php?rid=sB5c8Phu6cml\" target=\"_blank\">\n",
       " <span class=\"img\" style=\"overflow:hidden; background:url('https://s3-ap-northeast-1.amazonaws.com/dcreviewsresized/300_300_20190612052412_photo1_MA8nQeF15NoI.jpg') no-repeat; background-size:auto 100px; background-position:center;\"></span>\n",
       " <span class=\"btxt\">1. 소휴식</span>\n",
       " <span class=\"stxt\">카페</span>\n",
       " <span class=\"ctxt\"></span>\n",
       " <span class=\"ctxt\"><i class=\"loca\">배재대</i>대전광역시 서구 도마동 50-35</span>\n",
       " <span class=\"icons\">\n",
       " </span>\n",
       " </a>,\n",
       " <a class=\"blink\" href=\"/profile.php?rid=p3LERwr1hXfn\" target=\"_blank\">\n",
       " <span class=\"img\" style=\"overflow:hidden; background:url('https://s3-ap-northeast-1.amazonaws.com/dcreviewsresized/300_300_20200319032940494_photo_5ffea3357f5f.jpg') no-repeat; background-size:auto 100px; background-position:center;\"></span>\n",
       " <span class=\"btxt\">2. 이모네감자탕</span>\n",
       " <span class=\"stxt\">감자탕, 해물뼈찜</span>\n",
       " <span class=\"ctxt\">가성비좋은, 따끈한국물, 회식</span>\n",
       " <span class=\"ctxt\"><i class=\"loca\">대전</i>대전시 서구 도마1동 34-44</span>\n",
       " <span class=\"icons\">\n",
       " </span>\n",
       " </a>,\n",
       " <a class=\"blink\" href=\"/profile.php?rid=w8un3QJIowYS\" target=\"_blank\">\n",
       " <span class=\"img\" style=\"overflow:hidden; background:url('https://s3-ap-northeast-1.amazonaws.com/dcicons/new/images/web/noimage/1.jpg') no-repeat; background-size:auto 100px; background-position:center;\"></span>\n",
       " <span class=\"btxt\">3. 카페 아로스</span>\n",
       " <span class=\"stxt\">카페, 디저트</span>\n",
       " <span class=\"ctxt\"></span>\n",
       " <span class=\"ctxt\"><i class=\"loca\">대전도마동</i>대전광역시 서구 도마동 155-10</span>\n",
       " <span class=\"icons\">\n",
       " </span>\n",
       " </a>,\n",
       " <a class=\"blink\" href=\"/profile.php?rid=tHDsMJxg222b\" target=\"_blank\">\n",
       " <span class=\"img\" style=\"overflow:hidden; background:url('https://s3-ap-northeast-1.amazonaws.com/dcreviewsresized/300_300_20200123121708513_photo_3006180ae00d.jpg') no-repeat; background-size:auto 100px; background-position:center;\"></span>\n",
       " <span class=\"btxt\">4. 쓰촨</span>\n",
       " <span class=\"stxt\">중국집, 짬뽕</span>\n",
       " <span class=\"ctxt\">고급스러운, 불맛, 가족외식</span>\n",
       " <span class=\"ctxt\"><i class=\"loca\">배재대</i>대전광역시 서구 도마동 25-7</span>\n",
       " <span class=\"icons\">\n",
       " </span>\n",
       " </a>,\n",
       " <a class=\"blink\" href=\"/profile.php?rid=Sg24YgR9V3q4\" target=\"_blank\">\n",
       " <span class=\"img\" style=\"overflow:hidden; background:url('https://s3-ap-northeast-1.amazonaws.com/dcreviewsresized/300_300_20191215213435_photo1_2bf46bdc4045.jpg') no-repeat; background-size:auto 100px; background-position:center;\"></span>\n",
       " <span class=\"btxt\">5. 어반멜로우</span>\n",
       " <span class=\"stxt\">커피, 카페</span>\n",
       " <span class=\"ctxt\"></span>\n",
       " <span class=\"ctxt\"><i class=\"loca\">대전서구</i>대전시 서구 도마동 124-20</span>\n",
       " <span class=\"icons\">\n",
       " </span>\n",
       " </a>,\n",
       " <a class=\"blink\" href=\"/profile.php?rid=eDc7uLkhCokQ\" target=\"_blank\">\n",
       " <span class=\"img\" style=\"overflow:hidden; background:url('https://d2t7cq5f1ua57i.cloudfront.net/images/r_images/106493/267586/106493_267586__38_200x200.jpg') no-repeat; background-size:auto 100px; background-position:center;\"></span>\n",
       " <span class=\"btxt\">6. 시루향기</span>\n",
       " <span class=\"stxt\">콩나물국밥</span>\n",
       " <span class=\"ctxt\"></span>\n",
       " <span class=\"ctxt\"><i class=\"loca\">대전도마동</i>대전광역시 서구 도마1동 23-1</span>\n",
       " <span class=\"icons\">\n",
       " </span>\n",
       " </a>,\n",
       " <a class=\"blink\" href=\"/profile.php?rid=rkLdrlYrmwzM\" target=\"_blank\">\n",
       " <span class=\"img\" style=\"overflow:hidden; background:url('https://d2t7cq5f1ua57i.cloudfront.net/images/r_images/55066/51685/55066_51685_85_0_4731_2015921181532394_200x200.jpg') no-repeat; background-size:auto 100px; background-position:center;\"></span>\n",
       " <span class=\"btxt\">7. 추억의 가새바우</span>\n",
       " <span class=\"stxt\">생선조림, 낙지요리</span>\n",
       " <span class=\"ctxt\">모임</span>\n",
       " <span class=\"ctxt\"><i class=\"loca\">대전</i>대전광역시 서구 도마1동 17-4</span>\n",
       " <span class=\"icons\">\n",
       " </span>\n",
       " </a>,\n",
       " <a class=\"blink\" href=\"/profile.php?rid=vAyVNbvAVIyv\" target=\"_blank\">\n",
       " <span class=\"img\" style=\"overflow:hidden; background:url('https://d2t7cq5f1ua57i.cloudfront.net/images/r_images/50592/52513/50592_52513_80_0_6711_20147252910531_200x200.jpg') no-repeat; background-size:auto 100px; background-position:center;\"></span>\n",
       " <span class=\"btxt\">8. 대성콩국수</span>\n",
       " <span class=\"stxt\">콩국수, 콩국</span>\n",
       " <span class=\"ctxt\">모범음식점, 오래된맛집, 보양식</span>\n",
       " <span class=\"ctxt\"><i class=\"loca\">대전</i>대전시 서구 도마1동 67-5</span>\n",
       " <span class=\"icons\">\n",
       " </span>\n",
       " </a>,\n",
       " <a class=\"blink\" href=\"/profile.php?rid=ka2zw3PPcgN3\" target=\"_blank\">\n",
       " <span class=\"img\" style=\"overflow:hidden; background:url('https://s3-ap-northeast-1.amazonaws.com/dcreviewsresized/300_300_20191126080709328_photo_c4e8b90aa283.jpg') no-repeat; background-size:auto 100px; background-position:center;\"></span>\n",
       " <span class=\"btxt\">9. 로충칭 마라탕</span>\n",
       " <span class=\"stxt\">마라탕, 마라샹궈</span>\n",
       " <span class=\"ctxt\"></span>\n",
       " <span class=\"ctxt\"><i class=\"loca\">배재대</i>대전광역시 서구 도마동 25-8</span>\n",
       " <span class=\"icons\">\n",
       " </span>\n",
       " </a>,\n",
       " <a class=\"blink\" href=\"/profile.php?rid=Ge8mWylrAyeC\" target=\"_blank\">\n",
       " <span class=\"img\" style=\"overflow:hidden; background:url('https://s3-ap-northeast-1.amazonaws.com/dcreviewsresized/300_300_20200120115510177_photo_3006180ae00d.jpg') no-repeat; background-size:auto 100px; background-position:center;\"></span>\n",
       " <span class=\"btxt\">10. 행컵</span>\n",
       " <span class=\"stxt\">컵밥</span>\n",
       " <span class=\"ctxt\"></span>\n",
       " <span class=\"ctxt\"><i class=\"loca\">도마동</i>대전광역시 서구 도마동 26-9</span>\n",
       " <span class=\"icons\">\n",
       " </span>\n",
       " </a>]"
      ]
     },
     "execution_count": 11,
     "metadata": {},
     "output_type": "execute_result"
    }
   ],
   "source": [
    "number = soup.find_all(class_=\"blink\")\n",
    "number"
   ]
  },
  {
   "cell_type": "code",
   "execution_count": 13,
   "metadata": {},
   "outputs": [
    {
     "name": "stdout",
     "output_type": "stream",
     "text": [
      "['소휴식', '이모네감자탕', '카페 아로스', '쓰촨', '어반멜로우', '시루향기', '추억의 가새바우', '대성콩국수', '로충칭 마라탕', ' 행컵']\n"
     ]
    }
   ],
   "source": [
    "store = []\n",
    "for a in number:\n",
    "    store.append(a.find(class_='btxt').get_text()[3:])\n",
    "print(store)"
   ]
  },
  {
   "cell_type": "code",
   "execution_count": 14,
   "metadata": {},
   "outputs": [],
   "source": [
    "show_stores = pd.DataFrame({'도마동 맛집순위' : store})"
   ]
  },
  {
   "cell_type": "code",
   "execution_count": 15,
   "metadata": {},
   "outputs": [
    {
     "data": {
      "text/html": [
       "<div>\n",
       "<style scoped>\n",
       "    .dataframe tbody tr th:only-of-type {\n",
       "        vertical-align: middle;\n",
       "    }\n",
       "\n",
       "    .dataframe tbody tr th {\n",
       "        vertical-align: top;\n",
       "    }\n",
       "\n",
       "    .dataframe thead th {\n",
       "        text-align: right;\n",
       "    }\n",
       "</style>\n",
       "<table border=\"1\" class=\"dataframe\">\n",
       "  <thead>\n",
       "    <tr style=\"text-align: right;\">\n",
       "      <th></th>\n",
       "      <th>도마동 맛집순위</th>\n",
       "    </tr>\n",
       "  </thead>\n",
       "  <tbody>\n",
       "    <tr>\n",
       "      <th>0</th>\n",
       "      <td>소휴식</td>\n",
       "    </tr>\n",
       "    <tr>\n",
       "      <th>1</th>\n",
       "      <td>이모네감자탕</td>\n",
       "    </tr>\n",
       "    <tr>\n",
       "      <th>2</th>\n",
       "      <td>카페 아로스</td>\n",
       "    </tr>\n",
       "    <tr>\n",
       "      <th>3</th>\n",
       "      <td>쓰촨</td>\n",
       "    </tr>\n",
       "    <tr>\n",
       "      <th>4</th>\n",
       "      <td>어반멜로우</td>\n",
       "    </tr>\n",
       "    <tr>\n",
       "      <th>5</th>\n",
       "      <td>시루향기</td>\n",
       "    </tr>\n",
       "    <tr>\n",
       "      <th>6</th>\n",
       "      <td>추억의 가새바우</td>\n",
       "    </tr>\n",
       "    <tr>\n",
       "      <th>7</th>\n",
       "      <td>대성콩국수</td>\n",
       "    </tr>\n",
       "    <tr>\n",
       "      <th>8</th>\n",
       "      <td>로충칭 마라탕</td>\n",
       "    </tr>\n",
       "    <tr>\n",
       "      <th>9</th>\n",
       "      <td>행컵</td>\n",
       "    </tr>\n",
       "  </tbody>\n",
       "</table>\n",
       "</div>"
      ],
      "text/plain": [
       "   도마동 맛집순위\n",
       "0       소휴식\n",
       "1    이모네감자탕\n",
       "2    카페 아로스\n",
       "3        쓰촨\n",
       "4     어반멜로우\n",
       "5      시루향기\n",
       "6  추억의 가새바우\n",
       "7     대성콩국수\n",
       "8   로충칭 마라탕\n",
       "9        행컵"
      ]
     },
     "execution_count": 15,
     "metadata": {},
     "output_type": "execute_result"
    }
   ],
   "source": [
    "show_stores"
   ]
  },
  {
   "cell_type": "code",
   "execution_count": null,
   "metadata": {},
   "outputs": [],
   "source": []
  }
 ],
 "metadata": {
  "kernelspec": {
   "display_name": "Python 3",
   "language": "python",
   "name": "python3"
  },
  "language_info": {
   "codemirror_mode": {
    "name": "ipython",
    "version": 3
   },
   "file_extension": ".py",
   "mimetype": "text/x-python",
   "name": "python",
   "nbconvert_exporter": "python",
   "pygments_lexer": "ipython3",
   "version": "3.7.6"
  }
 },
 "nbformat": 4,
 "nbformat_minor": 4
}

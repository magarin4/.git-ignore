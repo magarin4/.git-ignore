{
 "cells": [
  {
   "cell_type": "code",
   "execution_count": 11,
   "metadata": {},
   "outputs": [],
   "source": [
    "import sqlite3"
   ]
  },
  {
   "cell_type": "code",
   "execution_count": 12,
   "metadata": {},
   "outputs": [],
   "source": [
    "conn = sqlite3.connect('./group.db')"
   ]
  },
  {
   "cell_type": "code",
   "execution_count": 13,
   "metadata": {},
   "outputs": [
    {
     "data": {
      "text/plain": [
       "<sqlite3.Cursor at 0x199dc95d8f0>"
      ]
     },
     "execution_count": 13,
     "metadata": {},
     "output_type": "execute_result"
    }
   ],
   "source": [
    "cur = conn.cursor()\n",
    "cur.execute('CREATE TABLE IF NOT EXISTS idol(id INTGEGER NOT NULL, name TEXT, 구성원수 INTEGER, 데뷔일자 TEXT, 소속사 TEXT, PRIMARY KEY(id));')"
   ]
  },
  {
   "cell_type": "code",
   "execution_count": 14,
   "metadata": {},
   "outputs": [
    {
     "ename": "IntegrityError",
     "evalue": "UNIQUE constraint failed: idol.id",
     "output_type": "error",
     "traceback": [
      "\u001b[1;31m---------------------------------------------------------------------------\u001b[0m",
      "\u001b[1;31mIntegrityError\u001b[0m                            Traceback (most recent call last)",
      "\u001b[1;32m<ipython-input-14-665f332adf24>\u001b[0m in \u001b[0;36m<module>\u001b[1;34m\u001b[0m\n\u001b[1;32m----> 1\u001b[1;33m \u001b[0mcur\u001b[0m\u001b[1;33m.\u001b[0m\u001b[0mexecute\u001b[0m\u001b[1;33m(\u001b[0m\u001b[1;34m\"INSERT INTO idol VALUES(1,'오마이걸', 8, '2015-04-21', 'WM엔터')\"\u001b[0m\u001b[1;33m)\u001b[0m\u001b[1;33m\u001b[0m\u001b[1;33m\u001b[0m\u001b[0m\n\u001b[0m",
      "\u001b[1;31mIntegrityError\u001b[0m: UNIQUE constraint failed: idol.id"
     ]
    }
   ],
   "source": [
    "cur.execute(\"INSERT INTO idol VALUES(1,'오마이걸', 8, '2015-04-21', 'WM엔터')\")"
   ]
  },
  {
   "cell_type": "code",
   "execution_count": null,
   "metadata": {},
   "outputs": [],
   "source": [
    "conn.commit()"
   ]
  },
  {
   "cell_type": "code",
   "execution_count": null,
   "metadata": {},
   "outputs": [],
   "source": [
    "sql = \"INSERT INTO idol(id, name, 구성원수, 데뷔일자, 소속사) VALUES(?,?,?,?,?)\"\n",
    "gr = [(2, '마마무',4,'2014-06-19','RBW'),\n",
    "     (3,'방탄소년단',7,'2013-06-13','빅히트 엔터'),\n",
    "     (4, '우주소녀',13,'2016-02-25','스타쉽 엔터'),\n",
    "     (5, '엑소',9,'2012-04-08','SM 엔터'),\n",
    "     (6, '트와이스',9,'2015-10-20','JYP 엔터')]\n",
    "for player in gr:\n",
    "    cur.execute(sql, player)"
   ]
  },
  {
   "cell_type": "code",
   "execution_count": null,
   "metadata": {},
   "outputs": [],
   "source": [
    "conn.commit()"
   ]
  },
  {
   "cell_type": "code",
   "execution_count": null,
   "metadata": {},
   "outputs": [],
   "source": [
    "cur.execute('CREATE TABLE IF NOT EXISTS song(song_id INTGEGER NOT NULL, song_name TEXT, 그룹id INTEGER, 발표년도 INT, 작곡가 TEXT, 도입부가사 TEXT, PRIMARY KEY(song_id));')"
   ]
  },
  {
   "cell_type": "code",
   "execution_count": null,
   "metadata": {},
   "outputs": [],
   "source": [
    "sql = \"INSERT INTO song(song_id, song_name, 그룹id, 발표년도, 작곡가, 도입부가사) VALUES(?,?,?,?,?,?)\"\n",
    "sn = [(1, '작은 것들을 위한 시', 3, 2019,'Pdogg 외', '모든게 궁금해 How`s your day'),\n",
    "     (2, 'FAKE LOVE', 3, 2018,'Pdogg 외', '널 위해서라면 난 슬퍼도 기쁜 척 할 수가 있어'),\n",
    "     (3, '넌 is 뭔들', 2, 2016,'김도훈 외', 'Hey 거기 미소가 예쁜 남자 바로 너'),\n",
    "     (4, '음아아예(Um oh Ah Yeh)', 2, 2015, '김도훈', 'oh yes 음 오 아 예 너에게 빠져들겠어 자꾸 반응하잖아'),\n",
    "     (5, '내 얘길 들어봐', 1, 2016, '황세준', '한 번 두번 세번 네 번 말해도'),\n",
    "     (6, '으르렁', 5, 2013, '신혁 외', '나 으르렁 으르렁 으르렁 대 나 으르렁 으르렁 으르렁 대'),\n",
    "     (7, 'MAMA', 5, 2013, '유영진', 'Careless careless Shoot anonymous anonymous'),\n",
    "     (8, 'CHEER UP', 6, 2016, '블랙아이드필승 외', 'CHEER UP BABY CHEER UP BABY 좀 더 힘을 내'),\n",
    "     (9, 'TT', 6, 2016, '블랙아이드필승 외', '이런 내맘 모르고 너무해 너무해'),\n",
    "     (10, '빨간맛', 11, 2017, 'Ludwing Lindell 외', '빨간 맛 궁금해 Honey 깨물면 점점 녹아든 스트로베리 그 맛')]\n",
    "\n",
    "for ss in sn :\n",
    "    cur.execute(sql, ss)"
   ]
  },
  {
   "cell_type": "code",
   "execution_count": null,
   "metadata": {},
   "outputs": [],
   "source": [
    "conn.commit()"
   ]
  },
  {
   "cell_type": "code",
   "execution_count": 17,
   "metadata": {},
   "outputs": [
    {
     "ename": "SyntaxError",
     "evalue": "EOL while scanning string literal (<ipython-input-17-e0cc109840bf>, line 3)",
     "output_type": "error",
     "traceback": [
      "\u001b[1;36m  File \u001b[1;32m\"<ipython-input-17-e0cc109840bf>\"\u001b[1;36m, line \u001b[1;32m3\u001b[0m\n\u001b[1;33m    cursor.execute(\"SELECT idol.name, idol.구성원수, idol.데뷔일자, song.song_name, song.발표년도\u001b[0m\n\u001b[1;37m                                                                                     ^\u001b[0m\n\u001b[1;31mSyntaxError\u001b[0m\u001b[1;31m:\u001b[0m EOL while scanning string literal\n"
     ]
    }
   ],
   "source": [
    "with sqlite3.connect(\"group.db\") as db:\n",
    "    cursor = conn.cursor()\n",
    "    cursor.execute(\"\"\"SELECT idol.name, idol.구성원수, idol.데뷔일자, song.song_name, song.발표년도\n",
    "                    FROM idol\n",
    "                    INNER JOIN song ON song.그룹id=idol.id;\"\"\",(data,))\n",
    "    ViewData = cursor.fetchall()\n",
    "    DataTableCompAndClient([ViewData])\n",
    "db.commit()"
   ]
  },
  {
   "cell_type": "code",
   "execution_count": 18,
   "metadata": {},
   "outputs": [
    {
     "data": {
      "text/plain": [
       "[('방탄소년단', 7, '2013-06-13', '작은 것들을 위한 시', 2019),\n",
       " ('방탄소년단', 7, '2013-06-13', 'FAKE LOVE', 2018),\n",
       " ('마마무', 4, '2014-06-19', '넌 is 뭔들', 2016),\n",
       " ('마마무', 4, '2014-06-19', '음아아예(Um oh Ah Yeh)', 2015),\n",
       " ('오마이걸', 8, '2015-04-21', '내 얘길 들어봐', 2016),\n",
       " ('엑소', 9, '2012-04-08', '으르렁', 2013),\n",
       " ('엑소', 9, '2012-04-08', 'MAMA', 2013),\n",
       " ('트와이스', 9, '2015-10-20', 'CHEER UP', 2016),\n",
       " ('트와이스', 9, '2015-10-20', 'TT', 2016)]"
      ]
     },
     "execution_count": 18,
     "metadata": {},
     "output_type": "execute_result"
    }
   ],
   "source": [
    "sql = \"SELECT idol.name, idol.구성원수, idol.데뷔일자, song.song_name, song.발표년도 FROM idol INNER JOIN song ON song.그룹id=idol.id\"\n",
    "cur.execute(sql)\n",
    "results = cur.fetchall()\n",
    "results"
   ]
  },
  {
   "cell_type": "code",
   "execution_count": 25,
   "metadata": {},
   "outputs": [],
   "source": [
    "import pandas as pd\n",
    "from pandas import DataFrame"
   ]
  },
  {
   "cell_type": "code",
   "execution_count": 28,
   "metadata": {},
   "outputs": [],
   "source": [
    "df = DataFrame(results, columns=['그룹이름', '구성원수', '데뷔일자', '노래이름', '발표년도'])"
   ]
  },
  {
   "cell_type": "code",
   "execution_count": 29,
   "metadata": {},
   "outputs": [
    {
     "data": {
      "text/html": [
       "<div>\n",
       "<style scoped>\n",
       "    .dataframe tbody tr th:only-of-type {\n",
       "        vertical-align: middle;\n",
       "    }\n",
       "\n",
       "    .dataframe tbody tr th {\n",
       "        vertical-align: top;\n",
       "    }\n",
       "\n",
       "    .dataframe thead th {\n",
       "        text-align: right;\n",
       "    }\n",
       "</style>\n",
       "<table border=\"1\" class=\"dataframe\">\n",
       "  <thead>\n",
       "    <tr style=\"text-align: right;\">\n",
       "      <th></th>\n",
       "      <th>그룹이름</th>\n",
       "      <th>구성원수</th>\n",
       "      <th>데뷔일자</th>\n",
       "      <th>노래이름</th>\n",
       "      <th>발표년도</th>\n",
       "    </tr>\n",
       "  </thead>\n",
       "  <tbody>\n",
       "    <tr>\n",
       "      <th>0</th>\n",
       "      <td>방탄소년단</td>\n",
       "      <td>7</td>\n",
       "      <td>2013-06-13</td>\n",
       "      <td>작은 것들을 위한 시</td>\n",
       "      <td>2019</td>\n",
       "    </tr>\n",
       "    <tr>\n",
       "      <th>1</th>\n",
       "      <td>방탄소년단</td>\n",
       "      <td>7</td>\n",
       "      <td>2013-06-13</td>\n",
       "      <td>FAKE LOVE</td>\n",
       "      <td>2018</td>\n",
       "    </tr>\n",
       "    <tr>\n",
       "      <th>2</th>\n",
       "      <td>마마무</td>\n",
       "      <td>4</td>\n",
       "      <td>2014-06-19</td>\n",
       "      <td>넌 is 뭔들</td>\n",
       "      <td>2016</td>\n",
       "    </tr>\n",
       "    <tr>\n",
       "      <th>3</th>\n",
       "      <td>마마무</td>\n",
       "      <td>4</td>\n",
       "      <td>2014-06-19</td>\n",
       "      <td>음아아예(Um oh Ah Yeh)</td>\n",
       "      <td>2015</td>\n",
       "    </tr>\n",
       "    <tr>\n",
       "      <th>4</th>\n",
       "      <td>오마이걸</td>\n",
       "      <td>8</td>\n",
       "      <td>2015-04-21</td>\n",
       "      <td>내 얘길 들어봐</td>\n",
       "      <td>2016</td>\n",
       "    </tr>\n",
       "    <tr>\n",
       "      <th>5</th>\n",
       "      <td>엑소</td>\n",
       "      <td>9</td>\n",
       "      <td>2012-04-08</td>\n",
       "      <td>으르렁</td>\n",
       "      <td>2013</td>\n",
       "    </tr>\n",
       "    <tr>\n",
       "      <th>6</th>\n",
       "      <td>엑소</td>\n",
       "      <td>9</td>\n",
       "      <td>2012-04-08</td>\n",
       "      <td>MAMA</td>\n",
       "      <td>2013</td>\n",
       "    </tr>\n",
       "    <tr>\n",
       "      <th>7</th>\n",
       "      <td>트와이스</td>\n",
       "      <td>9</td>\n",
       "      <td>2015-10-20</td>\n",
       "      <td>CHEER UP</td>\n",
       "      <td>2016</td>\n",
       "    </tr>\n",
       "    <tr>\n",
       "      <th>8</th>\n",
       "      <td>트와이스</td>\n",
       "      <td>9</td>\n",
       "      <td>2015-10-20</td>\n",
       "      <td>TT</td>\n",
       "      <td>2016</td>\n",
       "    </tr>\n",
       "  </tbody>\n",
       "</table>\n",
       "</div>"
      ],
      "text/plain": [
       "    그룹이름  구성원수        데뷔일자                노래이름  발표년도\n",
       "0  방탄소년단     7  2013-06-13         작은 것들을 위한 시  2019\n",
       "1  방탄소년단     7  2013-06-13           FAKE LOVE  2018\n",
       "2    마마무     4  2014-06-19             넌 is 뭔들  2016\n",
       "3    마마무     4  2014-06-19  음아아예(Um oh Ah Yeh)  2015\n",
       "4   오마이걸     8  2015-04-21            내 얘길 들어봐  2016\n",
       "5     엑소     9  2012-04-08                 으르렁  2013\n",
       "6     엑소     9  2012-04-08                MAMA  2013\n",
       "7   트와이스     9  2015-10-20            CHEER UP  2016\n",
       "8   트와이스     9  2015-10-20                  TT  2016"
      ]
     },
     "execution_count": 29,
     "metadata": {},
     "output_type": "execute_result"
    }
   ],
   "source": [
    "df"
   ]
  },
  {
   "cell_type": "code",
   "execution_count": null,
   "metadata": {},
   "outputs": [],
   "source": []
  }
 ],
 "metadata": {
  "kernelspec": {
   "display_name": "Python 3",
   "language": "python",
   "name": "python3"
  },
  "language_info": {
   "codemirror_mode": {
    "name": "ipython",
    "version": 3
   },
   "file_extension": ".py",
   "mimetype": "text/x-python",
   "name": "python",
   "nbconvert_exporter": "python",
   "pygments_lexer": "ipython3",
   "version": "3.7.6"
  }
 },
 "nbformat": 4,
 "nbformat_minor": 4
}

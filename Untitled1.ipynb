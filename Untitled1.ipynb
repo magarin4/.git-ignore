{
 "cells": [
  {
   "cell_type": "markdown",
   "metadata": {},
   "source": [
    "# Chapter 05. List"
   ]
  },
  {
   "cell_type": "code",
   "execution_count": 14,
   "metadata": {
    "scrolled": true
   },
   "outputs": [
    {
     "name": "stdout",
     "output_type": "stream",
     "text": [
      "['사과', '오렌지', '달끼', '포도', '감', '키위', '멜론', '수박']\n",
      "[5, 10.2, '탁구', True, [4, 5, 6]]\n",
      "[1, 3, 5, 7, 9]\n",
      "\n",
      "사과\n",
      "['오렌지', '달끼', '포도']\n",
      "['달끼', '포도', '감', '키위', '멜론', '수박']\n",
      "수박\n",
      "['감', '키위']\n",
      "['키위', '멜론', '수박']\n",
      "['감']\n"
     ]
    }
   ],
   "source": [
    "#ex 5-1\n",
    "fruits = ['사과','오렌지','달끼','포도','감','키위','멜론','수박']\n",
    "list1 = [5, 10.2, '탁구', True, [4,5,6]]\n",
    "numbers = list(range(1,10,2))\n",
    "          \n",
    "print(fruits)\n",
    "print(list1)\n",
    "print(numbers)\n",
    "          \n",
    "print()\n",
    "print(fruits[0])\n",
    "print(fruits[1:4])\n",
    "print(fruits[2:])\n",
    "print(fruits[-1])\n",
    "print(fruits[-4:-2])\n",
    "print(fruits[-3:])\n",
    "print(fruits[-4:-3])"
   ]
  },
  {
   "cell_type": "code",
   "execution_count": 18,
   "metadata": {},
   "outputs": [
    {
     "name": "stdout",
     "output_type": "stream",
     "text": [
      "['red', 'green', 'blue', 'yellow']\n",
      "['red', 'black', 'green', 'blue', 'yellow']\n",
      "['red', 'black', 'green', 'blue', 'yellow', 'purple', 'white']\n",
      "['red', 'black', 'green', 'blue', 'yellow', 'purple', 'white', 'purple', 'white']\n"
     ]
    }
   ],
   "source": [
    "#ex 5-2\n",
    "a = ['red', 'green', 'blue']\n",
    "a.append('yellow')\n",
    "print(a)\n",
    "\n",
    "a. insert(1,'black')\n",
    "print(a)\n",
    "\n",
    "b = ['purple', 'white']\n",
    "a.extend(b)\n",
    "print(a)\n",
    "\n",
    "c = a+b\n",
    "print(c)"
   ]
  },
  {
   "cell_type": "code",
   "execution_count": 23,
   "metadata": {},
   "outputs": [
    {
     "name": "stdout",
     "output_type": "stream",
     "text": [
      "2\n",
      "[10, 20, 40, 50, 60, 70, 80, 90, 100]\n",
      "[10, 20, 40, 50, 60, 70, 80, 100]\n",
      "[]\n"
     ]
    }
   ],
   "source": [
    "#ex 5-3\n",
    "a= [10,20,30,40,50,60,70,80,90,100]\n",
    "x = a.index(30)\n",
    "print(x)\n",
    "\n",
    "a.pop(x)\n",
    "print(a)\n",
    "\n",
    "a.remove(90)\n",
    "print(a)\n",
    "\n",
    "a.clear()\n",
    "print(a)"
   ]
  },
  {
   "cell_type": "code",
   "execution_count": 24,
   "metadata": {},
   "outputs": [
    {
     "name": "stdout",
     "output_type": "stream",
     "text": [
      "['h', 'e', 'l', 'l', 'o']\n"
     ]
    }
   ],
   "source": [
    "s = []\n",
    "for c in'hello':\n",
    "    s.append(c)\n",
    "print(s)"
   ]
  },
  {
   "cell_type": "code",
   "execution_count": 31,
   "metadata": {},
   "outputs": [
    {
     "name": "stdout",
     "output_type": "stream",
     "text": [
      "[-7, 1, 3, 5, 8, 9, 11, 13]\n",
      "[13, 11, 9, 8, 5, 3, 1, -7]\n"
     ]
    }
   ],
   "source": [
    "#ex5-5\n",
    "list2 = [-7, 1 ,5, 8, 3, 9, 11, 13]\n",
    "list2.sort()\n",
    "print(list2)\n",
    "\n",
    "list2.sort(reverse=True)\n",
    "print(list2)"
   ]
  },
  {
   "cell_type": "code",
   "execution_count": 33,
   "metadata": {},
   "outputs": [
    {
     "name": "stdout",
     "output_type": "stream",
     "text": [
      "92\n",
      "총점 : 666, 평균 : 83.25\n"
     ]
    }
   ],
   "source": [
    "#ex5-7\n",
    "scores = [88, 75, 90, 95, 77, 69, 80, 92]\n",
    "\\\n",
    "sum = 0\n",
    "for score in scores :\n",
    "    sum += score\n",
    "avg = sum/8\n",
    "\n",
    "print('총점 : %d, 평균 : %.2f' % (sum,avg))"
   ]
  },
  {
   "cell_type": "code",
   "execution_count": 34,
   "metadata": {},
   "outputs": [
    {
     "name": "stdout",
     "output_type": "stream",
     "text": [
      "[10, 20, 30]\n",
      "[40, 50, 60]\n",
      "10\n",
      "20\n",
      "30\n",
      "40\n",
      "50\n",
      "60\n"
     ]
    }
   ],
   "source": [
    "#ex 5-9\n",
    "numbers = [[10,20,30],[40,50,60]]\n",
    "\n",
    "print(numbers[0])\n",
    "print(numbers[1])\n",
    "\n",
    "print(numbers[0][0])\n",
    "print(numbers[0][1])\n",
    "print(numbers[0][2])\n",
    "\n",
    "print(numbers[1][0])\n",
    "print(numbers[1][1])\n",
    "print(numbers[1][2])"
   ]
  },
  {
   "cell_type": "code",
   "execution_count": null,
   "metadata": {},
   "outputs": [],
   "source": [
    "#Q5-6\n",
    "s = [64, 89, 100, 85, 77, 58, 79, 67, 96, 87, 87, 36, 82, 98, 84, 76 63, 69, 53,22]\n",
    "\n",
    "count_su = 0\n",
    "count_woo = 0\n",
    "count_mi = 0\n",
    "count_yang = 0\n",
    "count_ga = 0\n",
    "\n",
    "____\n",
    "while i < ____ :\n",
    "    if s[i] >= 90 and s[i] <= 100:\n",
    "        count_su = count_su + 1\n",
    "    if s[i] >= 80 and s[i] <= 89 :\n",
    "        count_woo = count_woo + 1\n",
    "    \n",
    "    if s[i] >= 70 and s[i] <= 79 :\n",
    "        count_mi = count_mi + 1\n",
    "    \n",
    "    if s[i] >= 60 and s[i] <= 69 :\n",
    "        conunt_yang = count_yang + 1\n",
    "    if s[i] >= 0 and s[i] <= 59 :\n",
    "        count_ga = count_ga + 1\n",
    "        \n",
    "        ____\n",
    "\n",
    "        \n",
    "print('수 : %d명' % count_su)\n",
    "print('우 : %d명' % count_su)\n",
    "print('미 : %d명' % count_su)\n",
    "print('양 : %d명' % count_su)\n",
    "print('가 : %d명' % count_su)"
   ]
  }
 ],
 "metadata": {
  "kernelspec": {
   "display_name": "Python 3",
   "language": "python",
   "name": "python3"
  },
  "language_info": {
   "codemirror_mode": {
    "name": "ipython",
    "version": 3
   },
   "file_extension": ".py",
   "mimetype": "text/x-python",
   "name": "python",
   "nbconvert_exporter": "python",
   "pygments_lexer": "ipython3",
   "version": "3.7.6"
  }
 },
 "nbformat": 4,
 "nbformat_minor": 4
}

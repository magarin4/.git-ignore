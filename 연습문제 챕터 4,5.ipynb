{
 "cells": [
  {
   "cell_type": "markdown",
   "metadata": {},
   "source": [
    "# 연습문제 Chapter 4, 5"
   ]
  },
  {
   "cell_type": "code",
   "execution_count": 2,
   "metadata": {},
   "outputs": [
    {
     "name": "stdout",
     "output_type": "stream",
     "text": [
      "* * * * * * * * * * \n",
      "* * * * * * * * * * \n",
      "* * * * * * * * * * \n",
      "* * * * * * * * * * \n",
      "* * * * * * * * * * \n",
      "* * * * * * * * * * \n"
     ]
    }
   ],
   "source": [
    "#4.1\n",
    "for i in range(6) :\n",
    "    for k in range(10) :\n",
    "        print('*',end=' ')\n",
    "    print()"
   ]
  },
  {
   "cell_type": "code",
   "execution_count": 13,
   "metadata": {},
   "outputs": [
    {
     "name": "stdout",
     "output_type": "stream",
     "text": [
      "* * * * * * * * * * \n",
      "* * * * * * * * * * \n",
      "* * * * * * * * * * \n",
      "* * * * * * * * * * \n",
      "* * * * * * * * * * \n",
      "* * * * * * * * * * \n"
     ]
    }
   ],
   "source": [
    "#4.2\n",
    "i=0\n",
    "k=0\n",
    "while i < 6 :\n",
    "    while k < 10 :\n",
    "        k += 1\n",
    "        print('*',end=' ')\n",
    "#        print(k)\n",
    "    print()\n",
    "#    print(k,i)\n",
    "    i += 1\n",
    "    k = 0"
   ]
  },
  {
   "cell_type": "code",
   "execution_count": 35,
   "metadata": {},
   "outputs": [
    {
     "name": "stdout",
     "output_type": "stream",
     "text": [
      "6 6 6 6 6 6 \n",
      "5 5 5 5 5 \n",
      "4 4 4 4 \n",
      "3 3 3 \n",
      "2 2 \n",
      "1 \n"
     ]
    }
   ],
   "source": [
    "#4.3\n",
    "for i in range(6,0,-1):\n",
    "#    i += 1\n",
    "#    print('%d'%(i),end='')\n",
    "    for k in range(0,i) :\n",
    "        print('%d'%(i),end=' ')\n",
    "        k += 1\n",
    "    print()"
   ]
  },
  {
   "cell_type": "code",
   "execution_count": 31,
   "metadata": {},
   "outputs": [
    {
     "name": "stdout",
     "output_type": "stream",
     "text": [
      "0 \n",
      "0 1 \n",
      "0 1 2 \n",
      "0 1 2 3 \n",
      "0 1 2 3 4 \n",
      "0 1 2 3 4 5 \n"
     ]
    }
   ],
   "source": [
    "#4.4\n",
    "for i in range(6) :\n",
    "    i += 1\n",
    "#    print('%d'%(i),end='')\n",
    "    for k in range(0,i) :\n",
    "        print('%d'%(k),end=' ')\n",
    "        k += 1\n",
    "    print()"
   ]
  },
  {
   "cell_type": "code",
   "execution_count": 158,
   "metadata": {},
   "outputs": [
    {
     "name": "stdout",
     "output_type": "stream",
     "text": [
      "* * * * * * *\n",
      "*           *\n",
      "*           *\n",
      "*           *\n",
      "*           *\n",
      "*           *\n",
      "* * * * * * *\n",
      "\n"
     ]
    }
   ],
   "source": [
    "#4.5\n",
    "k = 0\n",
    "for i in range(7) :\n",
    "    print('*',end=' ')\n",
    "    \n",
    "    if k == 0 or k == 6 :\n",
    "        print('* * * * * *')\n",
    "    else :\n",
    "        print('          *')\n",
    "#    for k in range(7) :\n",
    "#        print('*',end=' ')        \n",
    "#    if l >2 :\n",
    "#        print(' ')\n",
    "#    else :\n",
    "#        print('*')\n",
    "#        print(k)\n",
    "#        if l :\n",
    "#            print(end = ' ')\n",
    "    i += 1\n",
    "    k += 1\n",
    "#        if i == 4 :\n",
    "#            print('*')\n",
    "print()\n",
    "#    print(i)"
   ]
  },
  {
   "cell_type": "code",
   "execution_count": 179,
   "metadata": {},
   "outputs": [
    {
     "name": "stdout",
     "output_type": "stream",
     "text": [
      "1+3+5+7+9+11+13+15+17+19+21+23+25+27+29+31+33+35+37+39+41+43+45+47+49+51+53+55+57+59+61+63+65+67+69+71+73+75+77+79+81+83+85+87+89+91+93+95+97+99=\n",
      "2500\n"
     ]
    }
   ],
   "source": [
    "#4.6\n",
    "sum = 0\n",
    "i = -1\n",
    "while i < 97 :\n",
    "    i += 2\n",
    "    sum += i\n",
    "    print('%d+'%(i),end='')\n",
    "    if i == 97 :\n",
    "        i += 2\n",
    "        sum += i\n",
    "        print('%d='%(i))\n",
    "print(sum)"
   ]
  },
  {
   "cell_type": "code",
   "execution_count": 21,
   "metadata": {},
   "outputs": [
    {
     "name": "stdout",
     "output_type": "stream",
     "text": [
      "N의 값을 입력하세요 : 12\n",
      "N의 값: 12\n",
      "합계 : 15524694038166164674661959842\n"
     ]
    }
   ],
   "source": [
    "#4.7\n",
    "n1 = int(input('N의 값을 입력하세요 : '))\n",
    "print('N의 값: %d'%(n1))\n",
    "n = 1\n",
    "sum = 0\n",
    "while n < n1 : \n",
    "    n3 = 2*n-1\n",
    "    n2 = 2*n\n",
    "#    print(n,n2,n3)\n",
    "    n4 = n2**n3\n",
    "#    print(n4)\n",
    "    sum += n4\n",
    "    n += 1\n",
    "print('합계 : %d'%(sum))\n",
    "#print(sum)"
   ]
  },
  {
   "cell_type": "code",
   "execution_count": 42,
   "metadata": {},
   "outputs": [
    {
     "name": "stdout",
     "output_type": "stream",
     "text": [
      "N의 값을 입력해주세요 : 200\n",
      "2 3 5 7 11 13 17 19 23 29 31 37 41 43 47 53 59 61 67 71 73 79 83 89 97 101 103 107 109 113 127 131 137 139 149 151 157 163 167 173 179 181 191 193 197 199 "
     ]
    }
   ],
   "source": [
    "#4.8\n",
    "n = int(input('N의 값을 입력해주세요 : '))\n",
    "i = 2\n",
    "k = 3\n",
    "for i in range(2,n+1) :\n",
    "    for k in range(2,i+1) :\n",
    "        if i == k :\n",
    "            print(i,end=' ')\n",
    "        elif i%k == 0:\n",
    "            break"
   ]
  },
  {
   "cell_type": "code",
   "execution_count": 50,
   "metadata": {},
   "outputs": [
    {
     "name": "stdout",
     "output_type": "stream",
     "text": [
      "--------------------------------------------------\n",
      "달려($) 원화(원) 유료(α)\n",
      "--------------------------------------------------\n",
      "10 10800 8.1\n",
      "20 21600 16.2\n",
      "30 32400 24.3\n",
      "40 43200 32.4\n",
      "50 54000 40.5\n",
      "60 64800 48.6\n",
      "70 75600 56.7\n",
      "80 86400 64.8\n",
      "90 97200 72.9\n",
      "100 108000 81.0\n",
      "--------------------------------------------------\n"
     ]
    }
   ],
   "source": [
    "#4.9\n",
    "print('-'*50)\n",
    "print('달려($) 원화(원) 유료(α)')\n",
    "print('-'*50)\n",
    "i = 10\n",
    "while i < 101 :\n",
    "    w = i*1080\n",
    "    u = i*0.81\n",
    "    print('%d %d %.1f'%(i,w,u))\n",
    "    i += 10\n",
    "print('-'*50)"
   ]
  },
  {
   "cell_type": "code",
   "execution_count": 54,
   "metadata": {},
   "outputs": [
    {
     "name": "stdout",
     "output_type": "stream",
     "text": [
      "--------------------------------------------------\n",
      "cm mm m inch\n",
      "--------------------------------------------------\n",
      "1 10 0.01 0.39\n",
      "3 30 0.03 1.18\n",
      "5 50 0.05 1.97\n",
      "7 70 0.07 2.76\n",
      "9 90 0.09 3.54\n",
      "11 110 0.11 4.33\n",
      "13 130 0.13 5.12\n",
      "15 150 0.15 5.91\n",
      "17 170 0.17 6.69\n",
      "19 190 0.19 7.48\n",
      "21 210 0.21 8.27\n",
      "23 230 0.23 9.06\n",
      "25 250 0.25 9.84\n",
      "27 270 0.27 10.63\n",
      "29 290 0.29 11.42\n",
      "31 310 0.31 12.20\n",
      "33 330 0.33 12.99\n",
      "35 350 0.35 13.78\n",
      "37 370 0.37 14.57\n",
      "39 390 0.39 15.35\n",
      "41 410 0.41 16.14\n",
      "43 430 0.43 16.93\n",
      "45 450 0.45 17.72\n",
      "47 470 0.47 18.50\n",
      "49 490 0.49 19.29\n",
      "51 510 0.51 20.08\n",
      "53 530 0.53 20.87\n",
      "55 550 0.55 21.65\n",
      "57 570 0.57 22.44\n",
      "59 590 0.59 23.23\n",
      "61 610 0.61 24.02\n",
      "63 630 0.63 24.80\n",
      "65 650 0.65 25.59\n",
      "67 670 0.67 26.38\n",
      "69 690 0.69 27.17\n",
      "71 710 0.71 27.95\n",
      "73 730 0.73 28.74\n",
      "75 750 0.75 29.53\n",
      "77 770 0.77 30.31\n",
      "79 790 0.79 31.10\n",
      "81 810 0.81 31.89\n",
      "83 830 0.83 32.68\n",
      "85 850 0.85 33.46\n",
      "87 870 0.87 34.25\n",
      "89 890 0.89 35.04\n",
      "91 910 0.91 35.83\n",
      "93 930 0.93 36.61\n",
      "95 950 0.95 37.40\n",
      "97 970 0.97 38.19\n",
      "99 990 0.99 38.98\n",
      "--------------------------------------------------\n"
     ]
    }
   ],
   "source": [
    "#4.10\n",
    "print('-'*50)\n",
    "print('cm mm m inch')\n",
    "print('-'*50)\n",
    "cm = 1\n",
    "while cm < 100 :\n",
    "    mm = cm*10\n",
    "    m = cm*0.01\n",
    "    inch = cm*0.3937\n",
    "    print('%d %d %.2f %.2f'%(cm,mm,m,inch))\n",
    "    cm += 2\n",
    "print('-'*50)"
   ]
  },
  {
   "cell_type": "code",
   "execution_count": 6,
   "metadata": {},
   "outputs": [
    {
     "name": "stdout",
     "output_type": "stream",
     "text": [
      "10\n"
     ]
    }
   ],
   "source": [
    "#5.1\n",
    "data = [-12, 3, -9, 5, 8, -2, 0, -8, 3, 10]\n",
    "for datas in data :\n",
    "    data.sort(reverse=True)\n",
    "print(data[0])\n",
    "    "
   ]
  },
  {
   "cell_type": "code",
   "execution_count": 31,
   "metadata": {},
   "outputs": [
    {
     "name": "stdout",
     "output_type": "stream",
     "text": [
      "합계 : 8\n",
      "평균 : 1.60\n"
     ]
    }
   ],
   "source": [
    "#5.2\n",
    "data = [-12, 3, -9, 5, 8, -2, 0, -8, 3, 10]\n",
    "i = 1\n",
    "sum = 0\n",
    "while i < len(data) :\n",
    "    data[i]\n",
    "#    print(i)\n",
    "#    print(data[i])\n",
    "    sum += data[i]\n",
    "    i += 2\n",
    "avg = sum/((i-1)/2)\n",
    "print('합계 : %d'%sum)\n",
    "print('평균 : %.2f'%(avg))"
   ]
  },
  {
   "cell_type": "code",
   "execution_count": 33,
   "metadata": {},
   "outputs": [
    {
     "name": "stdout",
     "output_type": "stream",
     "text": [
      "[10, 8, 5, 3, 3, 0, -2, -8, -9, -12]\n"
     ]
    }
   ],
   "source": [
    "#5.3\n",
    "data.sort(reverse=True)\n",
    "print(data)"
   ]
  },
  {
   "cell_type": "code",
   "execution_count": 42,
   "metadata": {},
   "outputs": [
    {
     "name": "stdout",
     "output_type": "stream",
     "text": [
      "[-12, 3, -9, 5, 100, 8, -2, 0, -8, 3, 10]\n"
     ]
    }
   ],
   "source": [
    "#5.4\n",
    "data = [-12, 3, -9, 5, 8, -2, 0, -8, 3, 10]\n",
    "data.insert(4,100)\n",
    "print(data)"
   ]
  },
  {
   "cell_type": "code",
   "execution_count": 43,
   "metadata": {},
   "outputs": [
    {
     "name": "stdout",
     "output_type": "stream",
     "text": [
      "[3, -9, 5, 8, -2, 0, -8, 3, 10]\n"
     ]
    }
   ],
   "source": [
    "#5.5\n",
    "data = [-12, 3, -9, 5, 8, -2, 0, -8, 3, 10]\n",
    "data.remove(-12)\n",
    "print(data)"
   ]
  },
  {
   "cell_type": "code",
   "execution_count": 1,
   "metadata": {},
   "outputs": [
    {
     "name": "stdout",
     "output_type": "stream",
     "text": [
      "흑돌의 개수 : 17\n",
      "백돌의 개수 : 16\n"
     ]
    }
   ],
   "source": [
    "stone = [[0,0,0,0,0,0,0,0,0],\\\n",
    "         [0,1,0,1,2,1,2,1,0],\\\n",
    "         [0, 2, 1, 1, 1, 2, 2, 0, 0],\\\n",
    "         [0, 0, 2, 2, 2, 1, 0, 2, 0],\\\n",
    "         [0, 0, 0, 0, 0, 1, 0, 2, 1],\\\n",
    "         [0, 0, 0, 2, 0, 1, 2, 1, 0],\\\n",
    "         [0, 0, 0, 2, 1, 0, 1, 1, 0],\\\n",
    "         [0, 0, 0, 1, 1, 0, 0, 0, 0],\\\n",
    "         [0, 0, 0, 0, 2, 2, 2, 0, 0]]\n",
    "#5.6\n",
    "#print(len(stone))\n",
    "#b = stone.count(2)\n",
    "sum1 = 0\n",
    "sum2 = 0\n",
    "for i in range(len(stone)) :\n",
    "    a = stone[i].count(1)\n",
    "    b = stone[i].count(2)\n",
    "    sum1 += a\n",
    "    sum2 += b\n",
    "print('흑돌의 개수 : %d'%(sum1))\n",
    "print('백돌의 개수 : %d'%(sum2))\n",
    "#print(stone[1].count(1))\n",
    "#for i in range(len(stone)) :\n",
    "#    for k in range(len(stone[i])) :\n",
    "#        if stone[i][k] == 1\n",
    "        \n",
    "#a = stone[8][8].count(1)\n",
    "#print(a)\n",
    "#print(b)"
   ]
  },
  {
   "cell_type": "code",
   "execution_count": 2,
   "metadata": {},
   "outputs": [
    {
     "name": "stdout",
     "output_type": "stream",
     "text": [
      "  X  X  X  X  X  X  X  X  X\n",
      "  X  ●  X  ●  ○  ●  ○  ●  X\n",
      "  X  ○  ●  ●  ●  ○  ○  X  X\n",
      "  X  X  ○  ○  ○  ●  X  ○  X\n",
      "  X  X  X  X  X  ●  X  ○  ●\n",
      "  X  X  X  ○  X  ●  ○  ●  X\n",
      "  X  X  X  ○  ●  X  ●  ●  X\n",
      "  X  X  X  ●  ●  X  X  X  X\n",
      "  X  X  X  X  ○  ○  ○  X  X\n"
     ]
    }
   ],
   "source": [
    "#5.7\n",
    "for i in range(len(stone)) :\n",
    "    for k in range(len(stone[i])) :\n",
    "        if stone[i][k] == 1 :\n",
    "            print('%3s'%'●',end='')\n",
    "        elif stone[i][k] == 2 : \n",
    "            print('%3s'%'○',end='')\n",
    "        elif stone[i][k] == 0 :\n",
    "            print('%3s'%'X',end='')\n",
    "    print()"
   ]
  },
  {
   "cell_type": "code",
   "execution_count": 15,
   "metadata": {},
   "outputs": [
    {
     "name": "stdout",
     "output_type": "stream",
     "text": [
      "    01 02 03 04 05 06 07 08 09 \n",
      "01   X  X  X  X  X  X  X  X  X\n",
      "02   X  ●  X  ●  ○  ●  ○  ●  X\n",
      "03   X  ○  ●  ●  ●  ○  ○  X  X\n",
      "04   X  X  ○  ○  ○  ●  X  ○  X\n",
      "05   X  X  X  X  X  ●  X  ○  ●\n",
      "06   X  X  X  ○  X  ●  ○  ●  X\n",
      "07   X  X  X  ○  ●  X  ●  ●  X\n",
      "08   X  X  X  ●  ●  X  X  X  X\n",
      "09   X  X  X  X  ○  ○  ○  X  X\n"
     ]
    }
   ],
   "source": [
    "#5.8\n",
    "#for i in range(len(stone)) :\n",
    "#    w = i+1\n",
    "#    k = '%02d'%(w)\n",
    "#    if i >= 0 :\n",
    "#        stone[i].insert(0,k)\n",
    "#print()\n",
    "#a = '[' ', 01, 02, 03, 04, 05, 06, 07, 08, 09]'\n",
    "#stone.insert(0,a)\n",
    "#print()\n",
    "#print(stone)\n",
    "#print(a)\n",
    "print('    ',end='')\n",
    "for m in range(len(stone)) :\n",
    "    w = m+1\n",
    "    b = '%02d'%(w)\n",
    "    print(b, end = ' ')\n",
    "print()\n",
    "for i in range(len(stone)) :\n",
    "    w = i+1\n",
    "    b = '%02d'%(w)\n",
    "    print(b, end = ' ')\n",
    "    for k in range(len(stone[i])) :\n",
    "        if stone[i][k] == 1 :\n",
    "            print('%3s'%'●',end='')\n",
    "        elif stone[i][k] == 2 : \n",
    "            print('%3s'%'○',end='')\n",
    "        elif stone[i][k] == 0 :\n",
    "            print('%3s'%'X',end='')\n",
    "    print()"
   ]
  },
  {
   "cell_type": "code",
   "execution_count": 14,
   "metadata": {},
   "outputs": [
    {
     "name": "stdout",
     "output_type": "stream",
     "text": [
      "X축 좌표값을 입력하세요(1~9, 종료시-1 입력): 9\n",
      "Y축 좌표값을 입력하세요(1~9, 종료시-1 입력): 5\n",
      "흑돌\n",
      "X축 좌표값을 입력하세요(1~9, 종료시-1 입력): 7\n",
      "Y축 좌표값을 입력하세요(1~9, 종료시-1 입력): 2\n",
      "백돌\n",
      "X축 좌표값을 입력하세요(1~9, 종료시-1 입력): 4\n",
      "Y축 좌표값을 입력하세요(1~9, 종료시-1 입력): 1\n",
      "돌없음\n",
      "X축 좌표값을 입력하세요(1~9, 종료시-1 입력): -1\n",
      "종료되었습니다!\n"
     ]
    }
   ],
   "source": [
    "#5.9\n",
    "xl = int(input('X축 좌표값을 입력하세요(1~9, 종료시-1 입력): '))\n",
    "xl = xl-1\n",
    "if xl <= -1 :\n",
    "    print('종료되었습니다!')\n",
    "else :\n",
    "    while 1 :\n",
    "        if xl <= 0 :\n",
    "            print('종료되었습니다!')\n",
    "            break\n",
    "        yl = int(input('Y축 좌표값을 입력하세요(1~9, 종료시-1 입력): '))\n",
    "        yl = yl-1\n",
    "        if yl <= -1 or xl <= -1 :\n",
    "            print('종료되었습니다!')\n",
    "            break\n",
    "        elif stone[yl][xl] == 2 :\n",
    "            print('백돌')\n",
    "        elif stone[yl][xl] == 0 :\n",
    "            print('돌없음')\n",
    "        elif stone[yl][xl] == 1 :\n",
    "            print('흑돌')\n",
    "        xl = int(input('X축 좌표값을 입력하세요(1~9, 종료시-1 입력): '))\n",
    "        xl = xl-1"
   ]
  },
  {
   "cell_type": "code",
   "execution_count": null,
   "metadata": {},
   "outputs": [],
   "source": []
  }
 ],
 "metadata": {
  "kernelspec": {
   "display_name": "Python 3",
   "language": "python",
   "name": "python3"
  },
  "language_info": {
   "codemirror_mode": {
    "name": "ipython",
    "version": 3
   },
   "file_extension": ".py",
   "mimetype": "text/x-python",
   "name": "python",
   "nbconvert_exporter": "python",
   "pygments_lexer": "ipython3",
   "version": "3.7.6"
  }
 },
 "nbformat": 4,
 "nbformat_minor": 4
}

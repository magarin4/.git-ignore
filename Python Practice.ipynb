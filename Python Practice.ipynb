{
 "cells": [
  {
   "cell_type": "markdown",
   "metadata": {},
   "source": [
    " ## Python Practic"
   ]
  },
  {
   "cell_type": "code",
   "execution_count": 6,
   "metadata": {},
   "outputs": [
    {
     "name": "stdout",
     "output_type": "stream",
     "text": [
      "시간을 입력하세요 : 5\n",
      "분을 입력하세요 : 44\n",
      "알람이 4시 59분으로 설정 되었습니다.\n"
     ]
    }
   ],
   "source": [
    "hour = int(input('시간을 입력하세요 : '))\n",
    "minu = int(input('분을 입력하세요 : '))\n",
    "if minu > 44 :\n",
    "    minu -= 45\n",
    "else : \n",
    "    hour -= 1\n",
    "    minu += 15\n",
    "print('알람이 %d시 %d분으로 설정 되었습니다.'%(hour,minu))"
   ]
  },
  {
   "cell_type": "code",
   "execution_count": 113,
   "metadata": {
    "scrolled": true
   },
   "outputs": [
    {
     "name": "stdout",
     "output_type": "stream",
     "text": [
      "홀수를 입력하세요:9\n",
      "    *\n",
      "   ***\n",
      "  *****\n",
      " *******\n",
      "*********\n",
      " *******\n",
      "  *****\n",
      "   ***\n",
      "    *\n"
     ]
    }
   ],
   "source": [
    "space2 = []\n",
    "star = int(input('홀수를 입력하세요:'))\n",
    "for star in range(0,star,2) :\n",
    "    star += 1\n",
    "    space = int((8 - (star-1))/2)\n",
    "#    print(space)\n",
    "    print(' '*space,end='')\n",
    "    print('*'*star)\n",
    "    space2.append(space)\n",
    "#    print(space2)\n",
    "#for star in range(0,star,2):\n",
    "#    space = int((8 - (star-1))/2)\n",
    "#    print(' '*space,end='')\n",
    "#    print('*'*star)\n",
    "#print()\n",
    "#star2 = int((star-1)/2)\n",
    "#print(star2)\n",
    "#for space in range(0,star,2) :\n",
    "#    print(' '*space,end='')\n",
    "#print(space2)\n",
    "#space2.sort(reverse=True)\n",
    "#print(space2)\n",
    "star2 = star-2\n",
    "i = -2\n",
    "for star2 in range(star2,0,-2) :\n",
    "#    print(star2)\n",
    "#    star3 = int(star2-1)\n",
    "#        space = int((star2))\n",
    "#        print(space)\n",
    "#        print(' '*space,end='')\n",
    "    space3 = space2[i]\n",
    "    i -= 1\n",
    "#    print(space3)\n",
    "    print(' '*space3,end='')\n",
    "    print('*'*star2)"
   ]
  },
  {
   "cell_type": "code",
   "execution_count": null,
   "metadata": {},
   "outputs": [],
   "source": []
  }
 ],
 "metadata": {
  "kernelspec": {
   "display_name": "Python 3",
   "language": "python",
   "name": "python3"
  },
  "language_info": {
   "codemirror_mode": {
    "name": "ipython",
    "version": 3
   },
   "file_extension": ".py",
   "mimetype": "text/x-python",
   "name": "python",
   "nbconvert_exporter": "python",
   "pygments_lexer": "ipython3",
   "version": "3.7.6"
  }
 },
 "nbformat": 4,
 "nbformat_minor": 4
}

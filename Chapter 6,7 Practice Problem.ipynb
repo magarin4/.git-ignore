{
 "cells": [
  {
   "cell_type": "markdown",
   "metadata": {},
   "source": [
    " # Chapter 6,7 Practice"
   ]
  },
  {
   "cell_type": "code",
   "execution_count": 1,
   "metadata": {},
   "outputs": [
    {
     "name": "stdout",
     "output_type": "stream",
     "text": [
      "1. 아이디 : kim99, 마일리지 12000점\n",
      "2. 아이디 : lee66, 마일리지 11000점\n",
      "3. 아이디 : han55, 마일리지 3000점\n",
      "4. 아이디 : hong77, 마일리지 5000점\n",
      "5. 아이디 : hwang33, 마일리지 18000점\n"
     ]
    }
   ],
   "source": [
    "#6.1\n",
    "points = {'kim99' : 12000, 'lee66' : 11000, 'han55' : 3000, 'hong77' : 5000, 'hwang33' : 18000}\n",
    "a = 0\n",
    "for key in points :\n",
    "    a += 1\n",
    "    print('%d. 아이디 : %s, 마일리지 %s점'%(a,key,points[key]))"
   ]
  },
  {
   "cell_type": "code",
   "execution_count": 2,
   "metadata": {},
   "outputs": [
    {
     "name": "stdout",
     "output_type": "stream",
     "text": [
      "han55님의 마일리지가 5000점으로 수정 되었습니다.\n"
     ]
    }
   ],
   "source": [
    "#6.2\n",
    "points['han55'] = 5000\n",
    "#print(points)\n",
    "print('han55님의 마일리지가 5000점으로 수정 되었습니다.')"
   ]
  },
  {
   "cell_type": "code",
   "execution_count": null,
   "metadata": {},
   "outputs": [],
   "source": [
    "#6.3\n",
    "points.update({'jang88' : 7000})\n",
    "print('전체 딕셔너리 : %s'%points)\n",
    "print('jang88님의 마일리지(7000점)가 추가되었습니다.')"
   ]
  },
  {
   "cell_type": "code",
   "execution_count": 4,
   "metadata": {},
   "outputs": [
    {
     "name": "stdout",
     "output_type": "stream",
     "text": [
      "{'kim99': 12000, 'lee66': 11000, 'han55': 5000, 'hong77': 5000, 'hwang33': 18000, 'jang88': 7000}\n",
      "[]\n"
     ]
    }
   ],
   "source": [
    "#6.4\n",
    "pl = []\n",
    "key = 0\n",
    "print(points)\n",
    "print(pl)\n",
    "#for key in points :\n",
    "#    if points[key] =\n",
    "\n",
    "#for key in points :\n",
    " #   print(key)\n",
    " #   points[key]\n",
    "  #  pl.append(points[key])\n",
    "#print(pl)\n",
    "#pl.sort(reverse=True)\n",
    "#print()\n",
    "#print(pl)\n",
    "#print()\n",
    "#print(pl[0])\n",
    "#max(pl)"
   ]
  },
  {
   "cell_type": "code",
   "execution_count": 5,
   "metadata": {},
   "outputs": [
    {
     "name": "stdout",
     "output_type": "stream",
     "text": [
      "{'월': 25.5, '화': 28.3, '수': 33.2, '목': 32.1, '금': 17.3, '토': 35.3, '일': 33.3}\n",
      "------------------------------------------------------------------------------------------\n",
      "월 화 수 목 금 토 일 \n",
      "------------------------------------------------------------------------------------------\n",
      "25.5 28.3 33.2 32.1 17.3 35.3 33.3 \n",
      "------------------------------------------------------------------------------------------\n"
     ]
    }
   ],
   "source": [
    "#6.5\n",
    "tem = {'월' : 25.5, '화' : 28.3, '수' : 33.2, '목' : 32.1, '금' : 17.3, '토' : 35.3, '일' : 33.3}\n",
    "print(tem)\n",
    "print('-'*90)\n",
    "for i in tem :\n",
    "    print(i,end=' ')\n",
    "print()\n",
    "print('-'*90)\n",
    "i = 0\n",
    "for i in tem :\n",
    "    print(tem[i],end=' ')\n",
    "print()\n",
    "print('-'*90)"
   ]
  },
  {
   "cell_type": "code",
   "execution_count": 6,
   "metadata": {},
   "outputs": [
    {
     "name": "stdout",
     "output_type": "stream",
     "text": [
      "기온이 30도 이상인 요일 ['수', '목', '토', '일']\n"
     ]
    }
   ],
   "source": [
    "#6.7\n",
    "day = []\n",
    "for k in tem :\n",
    "#    print(tem[k])\n",
    "#    print(k)\n",
    "    if tem[k] >= 30 :\n",
    "        day.append(k)\n",
    "        \n",
    "print('기온이 30도 이상인 요일 %s'%day)"
   ]
  },
  {
   "cell_type": "code",
   "execution_count": 7,
   "metadata": {},
   "outputs": [
    {
     "name": "stdout",
     "output_type": "stream",
     "text": [
      "20, 10\n"
     ]
    }
   ],
   "source": [
    "#7.1\n",
    "def f1(a):\n",
    "    a += 10\n",
    "    print(a,end=', ')\n",
    "\n",
    "a = 10\n",
    "f1(a)\n",
    "print(a)"
   ]
  },
  {
   "cell_type": "code",
   "execution_count": null,
   "metadata": {},
   "outputs": [],
   "source": [
    "#7.3\n",
    "def decimal() :\n",
    "    n = int(input('n값을 입력해 주세요 : '))\n",
    "    dec = []\n",
    "    i = 2\n",
    "    k = 3\n",
    "    for i in range(2,n+1) :\n",
    "        for k in range(2,i+1) :\n",
    "            if i == k :\n",
    "                dec.append(i)\n",
    "                #print(dec)\n",
    "            elif i%k == 0:\n",
    "                break\n",
    "    print('2 ~ %d까지의 정수 중 소수 : %s'%(n,dec))\n",
    "decimal()"
   ]
  },
  {
   "cell_type": "code",
   "execution_count": null,
   "metadata": {},
   "outputs": [],
   "source": [
    "#7.5\n",
    "def numSquare(num):\n",
    "    list_new = []\n",
    "    for i in range(1,num+1):\n",
    "        list_new.append(i**2)\n",
    "        \n",
    "    return list_new\n",
    "\n",
    "n = 5\n",
    "result = numSquare(n)\n",
    "print(result)"
   ]
  },
  {
   "cell_type": "code",
   "execution_count": 1,
   "metadata": {},
   "outputs": [
    {
     "name": "stdout",
     "output_type": "stream",
     "text": [
      "※비밀번호는 10자리 이상, 영문 대문자를 포함하여야 합니다.\n",
      "비밀번호 : 12345\n",
      "비밀번호 확인 : 1234\n",
      "※비밀번호는 10자리 이상, 영문 대문자를 포함하여야 합니다.\n",
      "비밀번호 : 213456789A\n",
      "비밀번호 확인 : 123456789A\n",
      "비밀번호와 비밀번호 확인이 서로 다릅니다! 다시 입력해 주세요!\n",
      "비밀번호 : 123456789A\n",
      "비밀번호 확인 : 123456789A\n",
      "유효한 비밀번호입니다~~~\n"
     ]
    }
   ],
   "source": [
    "#7.7\n",
    "def eng(password) :\n",
    "    capital_letter = 'ABCDEFGHIJKLMNOPQRSTUVWXYZ'\n",
    "    for c in password :\n",
    "        if c in capital_letter:\n",
    "            return True\n",
    "    return False\n",
    "\n",
    "def validity(password):\n",
    "    if len(password) < 10:\n",
    "        return False\n",
    "    return eng(password)\n",
    "    \n",
    "\n",
    "print('※비밀번호는 10자리 이상, 영문 대문자를 포함하여야 합니다.')\n",
    "while True :\n",
    "    pw1 = input('비밀번호 : ')\n",
    "    pw2 = input('비밀번호 확인 : ')\n",
    "    if validity(pw1):\n",
    "        if pw1 != pw2 :\n",
    "            print('비밀번호와 비밀번호 확인이 서로 다릅니다! 다시 입력해 주세요!')\n",
    "        else :\n",
    "            print('유효한 비밀번호입니다~~~')\n",
    "            break\n",
    "    else:\n",
    "        print('※비밀번호는 10자리 이상, 영문 대문자를 포함하여야 합니다.')\n"
   ]
  },
  {
   "cell_type": "code",
   "execution_count": 37,
   "metadata": {},
   "outputs": [
    {
     "name": "stdout",
     "output_type": "stream",
     "text": [
      "b\n",
      "1\n",
      "2\n",
      "3\n",
      "4\n",
      "5\n",
      "6\n",
      "7\n",
      "8\n",
      "9\n",
      "a\n",
      "b\n"
     ]
    },
    {
     "data": {
      "text/plain": [
       "False"
      ]
     },
     "execution_count": 37,
     "metadata": {},
     "output_type": "execute_result"
    }
   ],
   "source": [
    "capital_letter = 'ABCDEFGHIJKLMNOPQRSTUVWXYZ'\n",
    "pw= '123456789ab'\n",
    "print(b)\n",
    "def tes():\n",
    "    for b in pw :\n",
    "        print(b)\n",
    "        if b in capital_letter:\n",
    "            print(b)\n",
    "            return True\n",
    "    return False\n",
    "\n",
    "tes()"
   ]
  },
  {
   "cell_type": "code",
   "execution_count": null,
   "metadata": {},
   "outputs": [],
   "source": []
  }
 ],
 "metadata": {
  "kernelspec": {
   "display_name": "Python 3",
   "language": "python",
   "name": "python3"
  },
  "language_info": {
   "codemirror_mode": {
    "name": "ipython",
    "version": 3
   },
   "file_extension": ".py",
   "mimetype": "text/x-python",
   "name": "python",
   "nbconvert_exporter": "python",
   "pygments_lexer": "ipython3",
   "version": "3.7.6"
  }
 },
 "nbformat": 4,
 "nbformat_minor": 4
}

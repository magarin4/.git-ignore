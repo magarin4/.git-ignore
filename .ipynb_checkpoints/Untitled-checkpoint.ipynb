{
 "cells": [
  {
   "cell_type": "markdown",
   "metadata": {},
   "source": [
    " # Chapter 04. 반복문"
   ]
  },
  {
   "cell_type": "code",
   "execution_count": 1,
   "metadata": {},
   "outputs": [
    {
     "name": "stdout",
     "output_type": "stream",
     "text": [
      "안녕하세요. 0\n",
      "안녕하세요. 1\n",
      "안녕하세요. 2\n",
      "안녕하세요. 3\n",
      "안녕하세요. 4\n"
     ]
    }
   ],
   "source": [
    "#ex 4-1\n",
    "for x in range(5):\n",
    "    print('안녕하세요.',x)"
   ]
  },
  {
   "cell_type": "code",
   "execution_count": 2,
   "metadata": {},
   "outputs": [
    {
     "name": "stdout",
     "output_type": "stream",
     "text": [
      "안녕하세요. 0\n",
      "안녕하세요. 1\n",
      "안녕하세요. 2\n",
      "안녕하세요. 3\n",
      "안녕하세요. 4\n"
     ]
    }
   ],
   "source": [
    "#ex 4-2\n",
    "x=0\n",
    "while x < 5:\n",
    "    print('안녕하세요.',x)\n",
    "    x += 1"
   ]
  },
  {
   "cell_type": "code",
   "execution_count": 18,
   "metadata": {
    "scrolled": true
   },
   "outputs": [
    {
     "name": "stdout",
     "output_type": "stream",
     "text": [
      "10\n",
      "1\n",
      "i의 값 : 1, 합계 : 56\n",
      "2\n",
      "i의 값 : 2, 합계 : 58\n",
      "3\n",
      "i의 값 : 3, 합계 : 61\n",
      "4\n",
      "i의 값 : 4, 합계 : 65\n",
      "5\n",
      "i의 값 : 5, 합계 : 70\n",
      "6\n",
      "i의 값 : 6, 합계 : 76\n",
      "7\n",
      "i의 값 : 7, 합계 : 83\n",
      "8\n",
      "i의 값 : 8, 합계 : 91\n",
      "9\n",
      "i의 값 : 9, 합계 : 100\n",
      "10\n",
      "i의 값 : 10, 합계 : 110\n"
     ]
    }
   ],
   "source": [
    "#ex4-3\n",
    "print(i)\n",
    "for i in range(1,11):\n",
    "    print(i)\n",
    "    sum += i\n",
    "    print('i의 값 : %d, 합계 : %d'%(i,sum))"
   ]
  },
  {
   "cell_type": "code",
   "execution_count": 19,
   "metadata": {
    "scrolled": true
   },
   "outputs": [
    {
     "name": "stdout",
     "output_type": "stream",
     "text": [
      "i의 값 : 1, 합계 : 1\n",
      "i의 값 : 2, 합계 : 3\n",
      "i의 값 : 3, 합계 : 6\n",
      "i의 값 : 4, 합계 : 10\n",
      "i의 값 : 5, 합계 : 15\n",
      "i의 값 : 6, 합계 : 21\n",
      "i의 값 : 7, 합계 : 28\n",
      "i의 값 : 8, 합계 : 36\n",
      "i의 값 : 9, 합계 : 45\n",
      "i의 값 : 10, 합계 : 55\n"
     ]
    }
   ],
   "source": [
    "sum = 0\n",
    "for i in range(1,11):\n",
    "    sum += i\n",
    "    print('i의 값 : %d, 합계 : %d'%(i,sum))"
   ]
  },
  {
   "cell_type": "code",
   "execution_count": 6,
   "metadata": {},
   "outputs": [
    {
     "name": "stdout",
     "output_type": "stream",
     "text": [
      "0 1 2 3 4 5 6 7 8 9 \n",
      "1 2 3 4 5 6 7 8 9 10 \n",
      "1 3 5 7 9 \n",
      "20 18 16 14 12 10 8 6 4 2 "
     ]
    }
   ],
   "source": [
    "#ex 4-4\n",
    "for i in range(10):\n",
    "    print(i,end = ' ')\n",
    "print()\n",
    "\n",
    "for i in range(1,11):\n",
    "    print(i, end = ' ')\n",
    "print()\n",
    "\n",
    "for i in range(1,10,2):\n",
    "    print(i,end = ' ')\n",
    "print()\n",
    "        \n",
    "for i in range(20,0,-2) :\n",
    "    print(i,end =' ')"
   ]
  },
  {
   "cell_type": "code",
   "execution_count": 14,
   "metadata": {},
   "outputs": [
    {
     "name": "stdout",
     "output_type": "stream",
     "text": [
      "3 6 9 12 15 18 21 24 27 30 33 36 39 42 45 48 51 54 57 60 63 66 69 72 75 78 81 84 87 90 93 96 99 \n",
      " --------------------------------------------------------------------------------\n",
      "1~100에서 3의 배수의 합계 : 1683\n"
     ]
    }
   ],
   "source": [
    "#ex 4-5\n",
    "sum = 0\n",
    "for i in range(1,101) :\n",
    "    if i%3 == 0 :\n",
    "        print('%d' %i, end=' ')\n",
    "        sum += i\n",
    "\n",
    "print('\\n','-' * 80)\n",
    "print('1~100에서 3의 배수의 합계 : %d'% sum)"
   ]
  },
  {
   "cell_type": "code",
   "execution_count": 16,
   "metadata": {},
   "outputs": [
    {
     "name": "stdout",
     "output_type": "stream",
     "text": [
      "영어 문장을 입력하세요 : serdf\n",
      "s\n",
      "e\n",
      "r\n",
      "d\n",
      "f\n"
     ]
    }
   ],
   "source": [
    "#ex 4-6\n",
    "word = input('영어 문장을 입력하세요 : ')\n",
    "\n",
    "for x in word :\n",
    "    print(x)"
   ]
  },
  {
   "cell_type": "code",
   "execution_count": 22,
   "metadata": {},
   "outputs": [
    {
     "name": "stdout",
     "output_type": "stream",
     "text": [
      "------------------------------\n",
      " 섭씨 화씨\n",
      "------------------------------\n",
      "     -20   -4.0\n",
      "     -15    5.0\n",
      "     -10   14.0\n",
      "      -5   23.0\n",
      "       0   32.0\n",
      "       5   41.0\n",
      "      10   50.0\n",
      "      15   59.0\n",
      "      20   68.0\n",
      "      25   77.0\n",
      "      30   86.0\n",
      "------------------------------\n"
     ]
    }
   ],
   "source": [
    "#ex 4-7\n",
    "print('-'*30)\n",
    "print(' 섭씨 화씨')\n",
    "print('-'*30)\n",
    "\n",
    "for c in range(-20,31,5) :\n",
    "    f = c * 9.0/ 5.0 + 32.0\n",
    "    print('%8d %6.1f' %(c,f))\n",
    "    \n",
    "print('-'*30)"
   ]
  },
  {
   "cell_type": "code",
   "execution_count": 24,
   "metadata": {},
   "outputs": [
    {
     "name": "stdout",
     "output_type": "stream",
     "text": [
      "시작 수를 입력하세요 :100\n",
      "끝 수를 입력하세요 :200\n",
      "--------------------------------------------------\n",
      "100에서 200까지 5의 배수가 아닌 수의 합계 : 12000\n"
     ]
    }
   ],
   "source": [
    "#Q 4-1\n",
    "n1 = int(input('시작 수를 입력하세요 :'))\n",
    "n2 = int(input('끝 수를 입력하세요 :'))\n",
    "\n",
    "sum = 0\n",
    "for i in range(n1, n2+1) :\n",
    "    if i%5 != 0 :\n",
    "        sum += i\n",
    "\n",
    "print('-'*50)\n",
    "print('%d에서 %d까지 5의 배수가 아닌 수의 합계 : %d' % (n1,n2,sum))"
   ]
  },
  {
   "cell_type": "code",
   "execution_count": 31,
   "metadata": {},
   "outputs": [
    {
     "name": "stdout",
     "output_type": "stream",
     "text": [
      "하이픈(-)을 포함한 휴대폰 번호를 입력하세요 : 01087242487\n",
      "0 1 0 8 7 2 4 2 4 8 7 "
     ]
    }
   ],
   "source": [
    "#Q4-2\n",
    "number = input('하이픈(-)을 포함한 휴대폰 번호를 입력하세요 : ')\n",
    "\n",
    "for x in number :\n",
    "    if x != '-' :\n",
    "        print('%s' % x, end=' ')"
   ]
  },
  {
   "cell_type": "code",
   "execution_count": 32,
   "metadata": {},
   "outputs": [
    {
     "name": "stdout",
     "output_type": "stream",
     "text": [
      "하이픈(-)을 뺸 11자리의 휴대폰 번호를 입력하세요: 01064875178\n",
      "010-6487-5178\n"
     ]
    }
   ],
   "source": [
    "#Q4-3\n",
    "phone = input('하이픈(-)을 뺸 11자리의 휴대폰 번호를 입력하세요: ')\n",
    "\n",
    "number ='';\n",
    "for i in range(len(phone)):\n",
    "    if i == 2:\n",
    "        number = number + (phone[2]+'-')\n",
    "    elif i == 6 :\n",
    "        number = number + (phone[6]+'-')\n",
    "    else :\n",
    "        number = number + phone[i]\n",
    "\n",
    "print(number)"
   ]
  },
  {
   "cell_type": "code",
   "execution_count": 34,
   "metadata": {},
   "outputs": [
    {
     "name": "stdout",
     "output_type": "stream",
     "text": [
      "--------------------------------------------------\n",
      "2 x 1 = 2\n",
      "2 x 2 = 4\n",
      "2 x 3 = 6\n",
      "2 x 4 = 8\n",
      "2 x 5 = 10\n",
      "2 x 6 = 12\n",
      "2 x 7 = 14\n",
      "2 x 8 = 16\n",
      "2 x 9 = 18\n",
      "--------------------------------------------------\n",
      "3 x 1 = 3\n",
      "3 x 2 = 6\n",
      "3 x 3 = 9\n",
      "3 x 4 = 12\n",
      "3 x 5 = 15\n",
      "3 x 6 = 18\n",
      "3 x 7 = 21\n",
      "3 x 8 = 24\n",
      "3 x 9 = 27\n",
      "--------------------------------------------------\n",
      "4 x 1 = 4\n",
      "4 x 2 = 8\n",
      "4 x 3 = 12\n",
      "4 x 4 = 16\n",
      "4 x 5 = 20\n",
      "4 x 6 = 24\n",
      "4 x 7 = 28\n",
      "4 x 8 = 32\n",
      "4 x 9 = 36\n",
      "--------------------------------------------------\n",
      "5 x 1 = 5\n",
      "5 x 2 = 10\n",
      "5 x 3 = 15\n",
      "5 x 4 = 20\n",
      "5 x 5 = 25\n",
      "5 x 6 = 30\n",
      "5 x 7 = 35\n",
      "5 x 8 = 40\n",
      "5 x 9 = 45\n",
      "--------------------------------------------------\n",
      "6 x 1 = 6\n",
      "6 x 2 = 12\n",
      "6 x 3 = 18\n",
      "6 x 4 = 24\n",
      "6 x 5 = 30\n",
      "6 x 6 = 36\n",
      "6 x 7 = 42\n",
      "6 x 8 = 48\n",
      "6 x 9 = 54\n",
      "--------------------------------------------------\n",
      "7 x 1 = 7\n",
      "7 x 2 = 14\n",
      "7 x 3 = 21\n",
      "7 x 4 = 28\n",
      "7 x 5 = 35\n",
      "7 x 6 = 42\n",
      "7 x 7 = 49\n",
      "7 x 8 = 56\n",
      "7 x 9 = 63\n",
      "--------------------------------------------------\n",
      "8 x 1 = 8\n",
      "8 x 2 = 16\n",
      "8 x 3 = 24\n",
      "8 x 4 = 32\n",
      "8 x 5 = 40\n",
      "8 x 6 = 48\n",
      "8 x 7 = 56\n",
      "8 x 8 = 64\n",
      "8 x 9 = 72\n",
      "--------------------------------------------------\n",
      "9 x 1 = 9\n",
      "9 x 2 = 18\n",
      "9 x 3 = 27\n",
      "9 x 4 = 36\n",
      "9 x 5 = 45\n",
      "9 x 6 = 54\n",
      "9 x 7 = 63\n",
      "9 x 8 = 72\n",
      "9 x 9 = 81\n",
      "--------------------------------------------------\n"
     ]
    }
   ],
   "source": [
    "#ex 4-9\n",
    "print('-'*50)\n",
    "\n",
    "for i in range(2,10) :\n",
    "    for k in range(1,10) :\n",
    "        print('%d x %d = %d' % (i,k,i*k))\n",
    "\n",
    "    print('-'*50)"
   ]
  },
  {
   "cell_type": "code",
   "execution_count": 71,
   "metadata": {},
   "outputs": [
    {
     "name": "stdout",
     "output_type": "stream",
     "text": [
      "         \n",
      "        *\n",
      "       **\n",
      "      ***\n",
      "     ****\n",
      "    *****\n",
      "   ******\n",
      "  *******\n",
      " ********\n",
      "*********\n"
     ]
    }
   ],
   "source": [
    "#Q4-8\n",
    "for i in range(1,11) :\n",
    "    for j in range(1,11-i):\n",
    "        print(' ',end='')\n",
    "    for k in range(1,i):\n",
    "        print('*',end='')\n",
    "    print()"
   ]
  },
  {
   "cell_type": "code",
   "execution_count": 74,
   "metadata": {},
   "outputs": [
    {
     "name": "stdout",
     "output_type": "stream",
     "text": [
      "46 1035\n"
     ]
    }
   ],
   "source": [
    "# 합이 1000에 가장 가까운  경우는 1에서부터 얼마까지 더한 경우인가?\n",
    "sum = 0\n",
    "count = 1\n",
    "while sum < 1000 :\n",
    "    sum += count\n",
    "    count += 1\n",
    "print(count,sum)"
   ]
  },
  {
   "cell_type": "code",
   "execution_count": 76,
   "metadata": {},
   "outputs": [
    {
     "name": "stdout",
     "output_type": "stream",
     "text": [
      "989 46\n"
     ]
    }
   ],
   "source": [
    "sum = 0\n",
    "count = 1\n",
    "while True :\n",
    "    if sum > 1000:\n",
    "        break\n",
    "    sum += count\n",
    "    count += 1\n",
    "print(sum-count,count)"
   ]
  },
  {
   "cell_type": "code",
   "execution_count": 77,
   "metadata": {},
   "outputs": [
    {
     "name": "stdout",
     "output_type": "stream",
     "text": [
      "\n",
      "0 \n",
      "0 1 \n",
      "0 1 2 \n",
      "0 1 2 3 \n"
     ]
    }
   ],
   "source": [
    "#중첩에서 break\n",
    "\n",
    "for i  in range(5):\n",
    "    for k in range(5):\n",
    "        if k == i :\n",
    "            break;\n",
    "        print(k, end=' ')\n",
    "    print()"
   ]
  },
  {
   "cell_type": "code",
   "execution_count": 78,
   "metadata": {},
   "outputs": [
    {
     "name": "stdout",
     "output_type": "stream",
     "text": [
      "([2, 3, 5, 6, 7], [1, 3, 5, 7, 9], [2, 4, 6, 8, 10])\n"
     ]
    }
   ],
   "source": [
    "list = [2,3,5,6,7],[ 1,3,5,7,9],[2,4,6,8,10]\n",
    "print(list)"
   ]
  },
  {
   "cell_type": "code",
   "execution_count": null,
   "metadata": {},
   "outputs": [],
   "source": []
  }
 ],
 "metadata": {
  "kernelspec": {
   "display_name": "Python 3",
   "language": "python",
   "name": "python3"
  },
  "language_info": {
   "codemirror_mode": {
    "name": "ipython",
    "version": 3
   },
   "file_extension": ".py",
   "mimetype": "text/x-python",
   "name": "python",
   "nbconvert_exporter": "python",
   "pygments_lexer": "ipython3",
   "version": "3.7.6"
  }
 },
 "nbformat": 4,
 "nbformat_minor": 4
}

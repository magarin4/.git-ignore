{
 "cells": [
  {
   "cell_type": "markdown",
   "metadata": {},
   "source": [
    " ## Python Practic"
   ]
  },
  {
   "cell_type": "code",
   "execution_count": 6,
   "metadata": {},
   "outputs": [
    {
     "name": "stdout",
     "output_type": "stream",
     "text": [
      "시간을 입력하세요 : 5\n",
      "분을 입력하세요 : 44\n",
      "알람이 4시 59분으로 설정 되었습니다.\n"
     ]
    }
   ],
   "source": [
    "hour = int(input('시간을 입력하세요 : '))\n",
    "minu = int(input('분을 입력하세요 : '))\n",
    "if minu > 44 :\n",
    "    minu -= 45\n",
    "else : \n",
    "    hour -= 1\n",
    "    minu += 15\n",
    "print('알람이 %d시 %d분으로 설정 되었습니다.'%(hour,minu))"
   ]
  },
  {
   "cell_type": "code",
   "execution_count": null,
   "metadata": {},
   "outputs": [],
   "source": [
    "star = int(input('홀수를 입력하세요:'))\n",
    "for star in range(0,star,2) :\n",
    "    star += 1\n",
    "    space = int((8 - (star-1))/2)\n",
    "#    print(space)\n",
    "    print(' '*space,end='')\n",
    "    print('*'*star)\n",
    "    \n",
    "print()\n",
    "star2 = (star+1)/2\n",
    "print(star2)\n",
    "for star2 in rang(10,star2,-2) :\n",
    " #   star = 1\n",
    "  #  star %= 2\n",
    "    print(star2)\n",
    "    space = int((8 - (star-1))/2)\n",
    "#    print(space)\n",
    "    print(' '*space,end='')\n",
    "    print('*'*star)  \n",
    "\n",
    "    "
   ]
  },
  {
   "cell_type": "code",
   "execution_count": null,
   "metadata": {},
   "outputs": [],
   "source": []
  }
 ],
 "metadata": {
  "kernelspec": {
   "display_name": "Python 3",
   "language": "python",
   "name": "python3"
  },
  "language_info": {
   "codemirror_mode": {
    "name": "ipython",
    "version": 3
   },
   "file_extension": ".py",
   "mimetype": "text/x-python",
   "name": "python",
   "nbconvert_exporter": "python",
   "pygments_lexer": "ipython3",
   "version": "3.7.6"
  }
 },
 "nbformat": 4,
 "nbformat_minor": 4
}

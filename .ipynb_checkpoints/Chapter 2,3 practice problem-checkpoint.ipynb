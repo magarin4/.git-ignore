{
 "cells": [
  {
   "cell_type": "markdown",
   "metadata": {},
   "source": [
    " # Chapter 2 연습문제"
   ]
  },
  {
   "cell_type": "markdown",
   "metadata": {},
   "source": [
    "1.\n",
    "1)숫자 : int인 정수형과 float인 소수점이 있는 실수형이 있다.\n",
    "2)문자열 : string(str), 문자형"
   ]
  },
  {
   "cell_type": "markdown",
   "metadata": {},
   "source": [
    "2.\n",
    "a = 7\n",
    "b = 10\n",
    "c = 7 + 20\n",
    "c = 27%5 = 2\n",
    "2^3 = 8\n",
    "c -= c*10 => 8-80 = -72 = c\n",
    "답 : -72"
   ]
  },
  {
   "cell_type": "code",
   "execution_count": 1,
   "metadata": {},
   "outputs": [
    {
     "name": "stdout",
     "output_type": "stream",
     "text": [
      "반지름을 입력하세요 :10\n",
      "반지름 : 10 cm\n",
      "원의 둘레 : 62.80 cm\n",
      "원의면적 : 314.00 cm2\n"
     ]
    }
   ],
   "source": [
    "#3.\n",
    "r = int(input('반지름을 입력하세요 :'))\n",
    "print('반지름 : %s cm' %r)\n",
    "cir = 2*3.14*r\n",
    "print('원의 둘레 : %.2f cm' %cir)\n",
    "r **= 2\n",
    "#print(r)\n",
    "S = 3.14*r\n",
    "print('원의면적 : %.2f cm2' %S)"
   ]
  },
  {
   "cell_type": "code",
   "execution_count": 2,
   "metadata": {},
   "outputs": [
    {
     "name": "stdout",
     "output_type": "stream",
     "text": [
      "책 값을 입력하세요 : 15000\n",
      "할인율을 입력하세요(%) : 15\n",
      "배송료를 입력하세요 : 3000\n",
      "결제 금액 : 15750\n"
     ]
    }
   ],
   "source": [
    "#4\n",
    "a = int(input('책 값을 입력하세요 : '))\n",
    "b = int(input('할인율을 입력하세요(%) : '))\n",
    "c = int(input('배송료를 입력하세요 : '))\n",
    "d = a - (a*b/100) + c\n",
    "print('결제 금액 : %i' %d)"
   ]
  },
  {
   "cell_type": "code",
   "execution_count": 7,
   "metadata": {},
   "outputs": [
    {
     "name": "stdout",
     "output_type": "stream",
     "text": [
      "이름을 입력하세요 : 안지영\n",
      "현재년을 입력하세요 : 2020\n",
      "탄생년을 입력하세요 : 1997\n",
      "안지영님의 나이는 24세 입니다!\n"
     ]
    }
   ],
   "source": [
    "#5 \n",
    "name = str(input('이름을 입력하세요 : '))\n",
    "now = int(input('현재년을 입력하세요 : ')) \n",
    "bir = int(input('탄생년을 입력하세요 : '))\n",
    "age = now-bir+1\n",
    "print('%s님의 나이는 %i세 입니다!'%(name,age))"
   ]
  },
  {
   "cell_type": "code",
   "execution_count": 4,
   "metadata": {
    "scrolled": true
   },
   "outputs": [
    {
     "name": "stdout",
     "output_type": "stream",
     "text": [
      "연을 입력하세요 : 2020\n",
      "월을 입력하세요 : 1\n",
      "일을 입력하세요 : 5\n",
      "2020-01-05\n"
     ]
    }
   ],
   "source": [
    "#6\n",
    "year = int(input('연을 입력하세요 : '))\n",
    "month = int(input('월을 입력하세요 : '))\n",
    "day = int(input('일을 입력하세요 : '))\n",
    "a= '%d-%02d-%02d'%(year,month,day)\n",
    "print(a)"
   ]
  },
  {
   "cell_type": "markdown",
   "metadata": {},
   "source": [
    " # Chapter 3 연습문제"
   ]
  },
  {
   "cell_type": "code",
   "execution_count": 8,
   "metadata": {},
   "outputs": [
    {
     "name": "stdout",
     "output_type": "stream",
     "text": [
      "False\n",
      "False\n",
      "False\n",
      "True\n",
      "False\n",
      "False\n",
      "True\n",
      "False\n",
      "True\n"
     ]
    }
   ],
   "source": [
    " #1. \n",
    "a = 2\n",
    "b = 5\n",
    "c = -3\n",
    "print(a !=2)\n",
    "print(not(b>=a))\n",
    "print(c/2>a*3)\n",
    "a = 3\n",
    "b = 7\n",
    "c = -4\n",
    "print(a !=2)\n",
    "print(not(b>=a))\n",
    "print(c/2>a*3)\n",
    "a = -10\n",
    "b = 10\n",
    "c = -2\n",
    "print(a !=2)\n",
    "print(not(b>=a))\n",
    "print(c/2>a*3)"
   ]
  },
  {
   "cell_type": "code",
   "execution_count": 13,
   "metadata": {},
   "outputs": [
    {
     "name": "stdout",
     "output_type": "stream",
     "text": [
      "False\n",
      "True\n",
      "True\n",
      "False\n",
      "False\n",
      "True\n"
     ]
    }
   ],
   "source": [
    "#2\n",
    "a = -5\n",
    "b = 3\n",
    "c = 2\n",
    "print(a>2 or c>b and c>2)\n",
    "print(not(a>5 or b>c and c>=3))\n",
    "a = 10\n",
    "b = 5\n",
    "c = 7\n",
    "print(a>2 or c>b and c>2)\n",
    "print(not(a>5 or b>c and c>=3))\n",
    "a = -3\n",
    "b = 10\n",
    "c = 2\n",
    "print(a>2 or c>b and c>2)\n",
    "print(not(a>5 or b>c and c>=3))"
   ]
  },
  {
   "cell_type": "code",
   "execution_count": 16,
   "metadata": {},
   "outputs": [
    {
     "name": "stdout",
     "output_type": "stream",
     "text": [
      "4\n"
     ]
    }
   ],
   "source": [
    "#3\n",
    "#a = 2\n",
    "#z = 10\n",
    "#w = 7*0+10 = 10\n",
    "#y = 4 답은 4\n",
    "a = 2\n",
    "z = a*5\n",
    "w = (z-3)*(a-2)/7+10\n",
    "if a>z or w>a :\n",
    "    y = 2*a\n",
    "else:\n",
    "    y=4*a\n",
    "print(y)"
   ]
  },
  {
   "cell_type": "code",
   "execution_count": 65,
   "metadata": {},
   "outputs": [
    {
     "name": "stdout",
     "output_type": "stream",
     "text": [
      "단위를 입력하세요(1:섭씨, 2:화씨): 1\n",
      "온도를 입력하세요 : 80\n",
      "물의 화씨 온도 : 176, 상태 : 액체\n"
     ]
    }
   ],
   "source": [
    "#4\n",
    "a = int(input('단위를 입력하세요(1:섭씨, 2:화씨): '))\n",
    "if a == 1 :\n",
    "    temc = int(input('온도를 입력하세요 : '))\n",
    "    temh = temc*9/5+32\n",
    "    print('물의 화씨 온도 : %i, ' %temh,end='')\n",
    "    if 0 > temc :\n",
    "        print('상태 : 기체')\n",
    "    elif temc < 100 :\n",
    "        print('상태 : 액체')\n",
    "    else :\n",
    "        print('상태 : 기체')\n",
    "else :\n",
    "    temh = int(input('온도를 입력하세요 : '))\n",
    "    temc = (temh-32)*5/9\n",
    "    print('물의 섭씨 온도 : %.2f, '%temc,end='')\n",
    "    if 0 > temc :\n",
    "        print('상태 : 기체')\n",
    "    elif temc < 100 :\n",
    "        print('상태 : 액체')\n",
    "    else :\n",
    "        print('상태 : 기체')"
   ]
  },
  {
   "cell_type": "code",
   "execution_count": 86,
   "metadata": {},
   "outputs": [
    {
     "name": "stdout",
     "output_type": "stream",
     "text": [
      "아이디를 입력하세요 : 8\n",
      "회원 레벨을 입력해주세요 : 1\n",
      "콘텐츠 이용 불가\n"
     ]
    }
   ],
   "source": [
    "#5\n",
    "id = input('아이디를 입력하세요 : ')\n",
    "if id == 'admin' :\n",
    "    print('모든 콘텐츠 이용 가능')\n",
    "else :\n",
    "    lv = int(input('회원 레벨을 입력해주세요 : '))\n",
    "    if lv > 1 and lv <8 :\n",
    "        print('일부 콘텐츠 이용 가능')\n",
    "    else :\n",
    "        print('콘텐츠 이용 불가')"
   ]
  },
  {
   "cell_type": "code",
   "execution_count": 91,
   "metadata": {},
   "outputs": [
    {
     "name": "stdout",
     "output_type": "stream",
     "text": [
      "나이를 입력하세요 : 45\n",
      "기본 입장료는 2000원 입니다.\n"
     ]
    }
   ],
   "source": [
    "#6\n",
    "age = int(input('나이를 입력하세요 : '))\n",
    "if 10 >= age :\n",
    "    print('입장료는 1000원 입니다.')\n",
    "else :\n",
    "    if age > 64 :\n",
    "        print('입장료는 0원 입니다.')\n",
    "    else :\n",
    "          print('기본 입장료는 2000원 입니다.')"
   ]
  },
  {
   "cell_type": "code",
   "execution_count": 97,
   "metadata": {},
   "outputs": [
    {
     "name": "stdout",
     "output_type": "stream",
     "text": [
      "영어시험 점수를 입력하세요 : 65\n",
      "수학시험 점수를 입력하세요 : 80\n",
      "재시험 기회제공\n"
     ]
    }
   ],
   "source": [
    "#7\n",
    "eng = int(input('영어시험 점수를 입력하세요 : '))\n",
    "mat = int(input('수학시험 점수를 입력하세요 : '))\n",
    "if eng > 79 and mat > 79 :\n",
    "    print('합격')\n",
    "elif eng < 80 and mat < 80 :\n",
    "    print('불합격')\n",
    "else :\n",
    "    print('재시험 기회제공')"
   ]
  }
 ],
 "metadata": {
  "kernelspec": {
   "display_name": "Python 3",
   "language": "python",
   "name": "python3"
  },
  "language_info": {
   "codemirror_mode": {
    "name": "ipython",
    "version": 3
   },
   "file_extension": ".py",
   "mimetype": "text/x-python",
   "name": "python",
   "nbconvert_exporter": "python",
   "pygments_lexer": "ipython3",
   "version": "3.7.6"
  }
 },
 "nbformat": 4,
 "nbformat_minor": 4
}

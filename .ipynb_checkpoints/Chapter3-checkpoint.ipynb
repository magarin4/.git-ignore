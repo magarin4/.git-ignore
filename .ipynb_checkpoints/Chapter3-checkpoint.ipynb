{
 "cells": [
  {
   "cell_type": "markdown",
   "metadata": {},
   "source": [
    " # Chapter 03. 조건문"
   ]
  },
  {
   "cell_type": "code",
   "execution_count": null,
   "metadata": {},
   "outputs": [],
   "source": [
    "#ex 3-1\n",
    "x = int(input('숫자를 입력하세요 : '))\n",
    "\n",
    "if x > 0 :\n",
    "    print('양수')\n",
    "else:\n",
    "        print('0 또는 음수')"
   ]
  },
  {
   "cell_type": "code",
   "execution_count": null,
   "metadata": {},
   "outputs": [],
   "source": [
    "x = int(input('숫자를 입력하세요 :'))\n",
    "\n",
    "if x > 0 :\n",
    "    print('양수')\n",
    "else:\n",
    "    if x < 0:\n",
    "        print('음수')\n",
    "    else:\n",
    "        print('0')"
   ]
  },
  {
   "cell_type": "code",
   "execution_count": 2,
   "metadata": {},
   "outputs": [
    {
     "name": "stdout",
     "output_type": "stream",
     "text": [
      "필기성적을 입력하세요:45\n",
      "실기성적을 입력하세요:64\n",
      "불합격!\n"
     ]
    }
   ],
   "source": [
    "#ex 3-4 \n",
    "score1 = int(input('필기성적을 입력하세요:'))\n",
    "score2 = int(input('실기성적을 입력하세요:'))\n",
    "\n",
    "if score1 >= 80 and score2 >= 80:\n",
    "    print('합격!')\n",
    "else :\n",
    "    print('불합격!')"
   ]
  },
  {
   "cell_type": "code",
   "execution_count": 1,
   "metadata": {},
   "outputs": [
    {
     "name": "stdout",
     "output_type": "stream",
     "text": [
      "이름을 입력하세요 :sd\n",
      "이름:sd\n"
     ]
    }
   ],
   "source": [
    "#ex 3-6\n",
    "name = input('이름을 입력하세요 :')\n",
    "\n",
    "if not name:\n",
    "    print('이름이 입력되지 않았다.')\n",
    "else:\n",
    "    print('이름:%s'%name)"
   ]
  },
  {
   "cell_type": "code",
   "execution_count": 13,
   "metadata": {},
   "outputs": [
    {
     "name": "stdout",
     "output_type": "stream",
     "text": [
      "나이를 입력하세요36\n",
      "입장료 : 3000원\n"
     ]
    }
   ],
   "source": [
    "#ex 3-8\n",
    "age = int(input('나이를 입력하세요'))\n",
    "pay = '3000원'\n",
    "\n",
    "if age >= 65 or age < 7:\n",
    "    pay ='무료'\n",
    "\n",
    "print('입장료 : %s' % pay)"
   ]
  },
  {
   "cell_type": "code",
   "execution_count": 7,
   "metadata": {},
   "outputs": [
    {
     "name": "stdout",
     "output_type": "stream",
     "text": [
      "나이를 입력하세요45\n",
      "입장료 : 3000.0\n"
     ]
    }
   ],
   "source": [
    "age = int(input('나이를 입력하세요'))\n",
    "if age >= 65 or age < 7:\n",
    "    pay ='무료'\n",
    "elif age <= 18:\n",
    "    pay = 1500\n",
    "else:\n",
    "    pay *= 2\n",
    "\n",
    "print('입장료 : %s' %pay)"
   ]
  },
  {
   "cell_type": "code",
   "execution_count": null,
   "metadata": {},
   "outputs": [],
   "source": [
    "#ex 3-10\n",
    "score = int(input('점수를 입력하세요:'))\n",
    "\n",
    "if score >= 90 :\n",
    "    grade ='A'\n",
    "elif score >= 80:\n",
    "    grade = 'B'\n",
    "elif score >= 70:\n",
    "    grade = 'C'\n",
    "elif score >= 60:\n",
    "    grade = 'D'\n",
    "else :\n",
    "    grade = 'F'\n",
    "    \n",
    "print('성적 : %d점' % score)\n",
    "print('등급 : %s' % grade)"
   ]
  },
  {
   "cell_type": "code",
   "execution_count": null,
   "metadata": {},
   "outputs": [],
   "source": []
  }
 ],
 "metadata": {
  "kernelspec": {
   "display_name": "Python 3",
   "language": "python",
   "name": "python3"
  },
  "language_info": {
   "codemirror_mode": {
    "name": "ipython",
    "version": 3
   },
   "file_extension": ".py",
   "mimetype": "text/x-python",
   "name": "python",
   "nbconvert_exporter": "python",
   "pygments_lexer": "ipython3",
   "version": "3.7.6"
  }
 },
 "nbformat": 4,
 "nbformat_minor": 4
}

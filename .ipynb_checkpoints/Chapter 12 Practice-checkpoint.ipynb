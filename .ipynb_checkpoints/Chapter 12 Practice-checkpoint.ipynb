{
 "cells": [
  {
   "cell_type": "markdown",
   "metadata": {},
   "source": [
    " ## Chapter 12 Practice"
   ]
  },
  {
   "cell_type": "code",
   "execution_count": 95,
   "metadata": {},
   "outputs": [],
   "source": [
    "#basic\n",
    "import matplotlib.pyplot as plt\n",
    "import matplotlib as mpl\n",
    "mpl.rcParams['axes.unicode_minus'] = False\n",
    "mpl.rc('font', family='Malgun Gothic')\n",
    "%matplotlib inline"
   ]
  },
  {
   "cell_type": "code",
   "execution_count": 96,
   "metadata": {},
   "outputs": [],
   "source": [
    "plt.rcParams[\"figure.figsize\"] = (10,6)\n",
    "plt.rcParams[\"font.size\"] = 14"
   ]
  },
  {
   "cell_type": "code",
   "execution_count": 161,
   "metadata": {},
   "outputs": [
    {
     "name": "stdout",
     "output_type": "stream",
     "text": [
      "[['201710', '79296'], ['201711', '80738'], ['201712', '76923'], ['201801', '77942'], ['201802', '84967'], ['201803', '80719'], ['201804', '80719'], ['201805', '87156'], ['201806', '81248'], ['201807', '82191'], ['201808', '82858'], ['201809', '88742'], ['201810', '89050'], ['201811', '89661'], ['201812', '95650'], ['201901', '96352'], ['201902', '97009'], ['201903', '97415'], ['201904', '97421'], ['201905', '97740'], ['201906', '98217'], ['201907', '98311'], ['201908', '98538'], ['201909', '98779']]\n"
     ]
    }
   ],
   "source": [
    "#1\n",
    "import csv\n",
    "import numpy as np\n",
    "\n",
    "f = open('cafe_2year.csv', 'r', encoding='utf-8')\n",
    "lines = csv.reader(f)\n",
    "\n",
    "header = next(lines)\n",
    "#print(header)\n",
    "\n",
    "list_data = []\n",
    "for line in lines :\n",
    "    list_data.append(line[:])\n",
    "    \n",
    "length = len(list_data)\n",
    "print(list_data)"
   ]
  },
  {
   "cell_type": "code",
   "execution_count": 162,
   "metadata": {},
   "outputs": [
    {
     "name": "stdout",
     "output_type": "stream",
     "text": [
      "['201710', '201801', '201804', '201807', '201810', '201901', '201904', '201907']\n",
      "[79296, 77942, 80719, 82191, 89050, 96352, 97421, 98311]\n"
     ]
    }
   ],
   "source": [
    "x = []\n",
    "y = []\n",
    "for i in range(0, length, 3):\n",
    "    x.append(list_data[i][0])\n",
    "    y.append(int(list_data[i][1]))\n",
    "    \n",
    "print(x)\n",
    "print(y)"
   ]
  },
  {
   "cell_type": "code",
   "execution_count": 163,
   "metadata": {},
   "outputs": [
    {
     "data": {
      "image/png": "[encoded data removed]",
      "text/plain": [
       "<Figure size 720x432 with 1 Axes>"
      ]
     },
     "metadata": {
      "needs_background": "light"
     },
     "output_type": "display_data"
    }
   ],
   "source": [
    "plt.title('전국의 월별 까페수')\n",
    "plt.bar(x,y)\n",
    "plt.ylabel('카페수')\n",
    "plt.xlabel('년월')\n",
    "plt.show()"
   ]
  },
  {
   "cell_type": "code",
   "execution_count": 313,
   "metadata": {
    "scrolled": false
   },
   "outputs": [
    {
     "name": "stdout",
     "output_type": "stream",
     "text": [
      "[[201710  79296]\n",
      " [201711  80738]\n",
      " [201712  76923]\n",
      " [201801  77942]\n",
      " [201802  84967]\n",
      " [201803  80719]\n",
      " [201804  80719]\n",
      " [201805  87156]\n",
      " [201806  81248]\n",
      " [201807  82191]\n",
      " [201808  82858]\n",
      " [201809  88742]\n",
      " [201810  89050]\n",
      " [201811  89661]\n",
      " [201812  95650]\n",
      " [201901  96352]\n",
      " [201902  97009]\n",
      " [201903  97415]\n",
      " [201904  97421]\n",
      " [201905  97740]\n",
      " [201906  98217]\n",
      " [201907  98311]\n",
      " [201908  98538]\n",
      " [201909  98779]]\n",
      "\n",
      "[[201710  79296]\n",
      " [201711  80738]\n",
      " [201712  76923]\n",
      " [201801  77942]\n",
      " [201802  84967]\n",
      " [201803  80719]\n",
      " [201804  80719]\n",
      " [201805  87156]\n",
      " [201806  81248]\n",
      " [201807  82191]\n",
      " [201808  82858]\n",
      " [201809  88742]\n",
      " [201810  89050]\n",
      " [201811  89661]\n",
      " [201812  95650]\n",
      " [201901  96352]\n",
      " [201902  97009]\n",
      " [201903  97415]\n",
      " [201904  97421]\n",
      " [201905  97740]\n",
      " [201906  98217]\n",
      " [201907  98311]\n",
      " [201908  98538]\n",
      " [201909  98779]]\n",
      "8\n",
      "[[201710  79296]\n",
      " [201711  80738]\n",
      " [201712  76923]\n",
      " [201801  77942]\n",
      " [201802  84967]\n",
      " [201803  80719]\n",
      " [201804  80719]\n",
      " [201805  87156]\n",
      " [201806  81248]\n",
      " [201807  82191]\n",
      " [201808  82858]\n",
      " [201809  88742]\n",
      " [201810  89050]\n",
      " [201811  89661]\n",
      " [201812  95650]\n",
      " [201901  96352]\n",
      " [201902  97009]\n",
      " [201903  97415]\n",
      " [201904  97421]\n",
      " [201905  97740]\n",
      " [201906  98217]\n",
      " [201907  98311]\n",
      " [201908  98538]\n",
      " [201909  98779]]\n",
      "['201710', '201801', '201804', '201807', '201810', '201901', '201904', '201907']\n",
      "[79296, 77942, 80719, 82191, 89050, 96352, 97421, 98311]\n"
     ]
    },
    {
     "data": {
      "image/png": "[encoded data removed]",
      "text/plain": [
       "<Figure size 720x432 with 1 Axes>"
      ]
     },
     "metadata": {
      "needs_background": "light"
     },
     "output_type": "display_data"
    }
   ],
   "source": [
    "# 1\n",
    "import csv\n",
    "import numpy as np\n",
    "\n",
    "f = open('cafe_2year.csv', 'r', encoding='utf-8')\n",
    "lines = csv.reader(f)\n",
    "\n",
    "header = next(lines)\n",
    "#print(header)\n",
    "\n",
    "list_data = []\n",
    "for line in lines :\n",
    "    list_data.append(line[:])\n",
    "    \n",
    "length = len(list_data)\n",
    "#print(length)\n",
    "\n",
    "data = np.zeros((length,2), dtype='int32')\n",
    "#print(data)\n",
    "\n",
    "for i in range(length) :\n",
    "    for j in range(2) :\n",
    "        data[i][j] = list_data[i][j]\n",
    "    \n",
    "print(data)\n",
    "print()\n",
    "print(data[:])\n",
    "\n",
    "length2 = int(length/3)\n",
    "print(length2)\n",
    "data1 = np.zeros((length2,2), dtype='int32')\n",
    "x1 = []\n",
    "y1 = []\n",
    "#x = np.zeros((8,), dtype = 'int32')\n",
    "#y = np.zeros((8,), dtype = 'int32')\n",
    "print(data)\n",
    "for i in range(0,length2) :\n",
    "    x1.append(str(data[i*3][0]))\n",
    "    y1.append(data[i*3][1])\n",
    "print(x1)    \n",
    "print(y1)\n",
    "#print()\n",
    "#print(data1)\n",
    "#x.T\n",
    "#y.T\n",
    "#print(x.T)\n",
    "#print(y.T)\n",
    "\n",
    "plt.title('전국의 월별 까페수')\n",
    "#plt.plot(x,y)\n",
    "plt.bar(x1, y1)\n",
    "plt.ylabel('카페수')\n",
    "plt.xlabel('년월')\n",
    "plt.show()"
   ]
  },
  {
   "cell_type": "code",
   "execution_count": 605,
   "metadata": {},
   "outputs": [
    {
     "name": "stdout",
     "output_type": "stream",
     "text": [
      "['지역', '병원명', '일반의 수', '인턴 수', '레지던트 수', '전문의 수']\n",
      "355\n",
      "['서울' '부산' '대구' '인천' '대전' '광주' '울산']\n"
     ]
    }
   ],
   "source": [
    "# 2\n",
    "import csv\n",
    "import numpy as np\n",
    "\n",
    "f1 = open('doctor_2019.csv', 'r', encoding='utf-8')\n",
    "lines = csv.reader(f1)\n",
    "\n",
    "header = next(lines)\n",
    "print(header)\n",
    "\n",
    "list_data = []\n",
    "for line in lines :\n",
    "    list_data.append(line[:])\n",
    "    \n",
    "length = len(list_data)\n",
    "print(length)\n",
    "#print(list_data)\n",
    "\n",
    "data = np.zeros((length,6), dtype='int32')\n",
    "#print(data)\n",
    "lo = np.array(['서울', '부산', '대구', '인천', '대전', '광주', '울산'])\n",
    "print(lo)\n",
    "#print(data)\n",
    "#print()\n",
    "#print(list_data)\n",
    "#print(list_data[5][0])"
   ]
  },
  {
   "cell_type": "code",
   "execution_count": 606,
   "metadata": {
    "scrolled": false
   },
   "outputs": [
    {
     "name": "stdout",
     "output_type": "stream",
     "text": [
      "[[ 162 1196 4757 9375]\n",
      " [  58  197  785 2211]\n",
      " [  27  215  712 1436]\n",
      " [  47  138  444 1518]\n",
      " [  25  142  425 1006]\n",
      " [  16  102  356 1006]\n",
      " [  19   23  104  467]]\n"
     ]
    }
   ],
   "source": [
    "sum1 = np.zeros((7,4), dtype='int32')\n",
    "n = 0\n",
    "for i in lo : \n",
    "#    print(i)\n",
    "#    print(n)\n",
    "#    print()\n",
    "    for k in range(length) :\n",
    "        if i[:] == list_data[k][0] :\n",
    "#            print(sum1)\n",
    "            sum1[n][0] += int(list_data[k][2])\n",
    "            sum1[n][1] += int(list_data[k][3])\n",
    "            sum1[n][2] += int(list_data[k][4])\n",
    "            sum1[n][3] += int(list_data[k][5])\n",
    "#            print(i)\n",
    "#            print(k)\n",
    "#            print(sum1)\n",
    "#            print(sum1[0])\n",
    "    n += 1\n",
    "print(sum1)"
   ]
  },
  {
   "cell_type": "code",
   "execution_count": 607,
   "metadata": {
    "scrolled": true
   },
   "outputs": [
    {
     "name": "stdout",
     "output_type": "stream",
     "text": [
      "[['서울']\n",
      " ['부산']\n",
      " ['대구']\n",
      " ['인천']\n",
      " ['대전']\n",
      " ['광주']\n",
      " ['울산']]\n"
     ]
    }
   ],
   "source": [
    "lo = np.array(['서울', '부산', '대구', '인천', '대전', '광주', '울산'])\n",
    "t1 = np.array(lo).reshape(7,1)\n",
    "print(t1)"
   ]
  },
  {
   "cell_type": "code",
   "execution_count": 608,
   "metadata": {
    "scrolled": true
   },
   "outputs": [
    {
     "name": "stdout",
     "output_type": "stream",
     "text": [
      "['지역', '병원명', '일반의 수', '인턴 수', '레지던트 수', '전문의 수'] [['서울' '162' '1196' '4757' '9375']\n",
      " ['부산' '58' '197' '785' '2211']\n",
      " ['대구' '27' '215' '712' '1436']\n",
      " ['인천' '47' '138' '444' '1518']\n",
      " ['대전' '25' '142' '425' '1006']\n",
      " ['광주' '16' '102' '356' '1006']\n",
      " ['울산' '19' '23' '104' '467']]\n"
     ]
    },
    {
     "data": {
      "text/plain": [
       "<function print>"
      ]
     },
     "execution_count": 608,
     "metadata": {},
     "output_type": "execute_result"
    }
   ],
   "source": [
    "p1 = header\n",
    "#print(t1)\n",
    "pl = np.hstack((t1,sum1))\n",
    "print(p1,pl)\n",
    "print"
   ]
  },
  {
   "cell_type": "code",
   "execution_count": 609,
   "metadata": {},
   "outputs": [
    {
     "name": "stdout",
     "output_type": "stream",
     "text": [
      "지역 일반의 수 인턴 수 레지던트 수 전문의 수\n",
      "서울 162 1196 4757 9375\n",
      "부산 58 197 785 2211\n",
      "대구 27 215 712 1436\n",
      "인천 47 138 444 1518\n",
      "대전 25 142 425 1006\n",
      "광주 16 102 356 1006\n",
      "울산 19 23 104 467\n"
     ]
    }
   ],
   "source": [
    "print('지역', '일반의 수', '인턴 수', '레지던트 수', '전문의 수')\n",
    "for i in range(0,7):\n",
    "    print(pl[i][0], pl[i][1], pl[i][2], pl[i][3], pl[i][4])"
   ]
  },
  {
   "cell_type": "code",
   "execution_count": 611,
   "metadata": {},
   "outputs": [
    {
     "name": "stdout",
     "output_type": "stream",
     "text": [
      "doctor2.csv 파일 쓰기 완료!\n"
     ]
    }
   ],
   "source": [
    "#3\n",
    "f3 = open('doctor2.csv', 'w', encoding='utf-8', newline='')\n",
    "writer3 = csv.writer(f3)\n",
    "\n",
    "writer3.writerow(['지역', '일반의 수', '인턴 수', '레지던트 수', '전문의 수'])\n",
    "\n",
    "for i in range(7) :     \n",
    "        writer3.writerow([pl[i][0], pl[i][1], pl[i][2], pl[i][3], pl[i][4]])\n",
    "\n",
    "\n",
    "print('doctor2.csv 파일 쓰기 완료!')\n",
    "\n",
    "f1.close()\n",
    "f3.close()"
   ]
  },
  {
   "cell_type": "code",
   "execution_count": 612,
   "metadata": {},
   "outputs": [
    {
     "data": {
      "image/png": "[encoded data removed]",
      "text/plain": [
       "<Figure size 720x432 with 1 Axes>"
      ]
     },
     "metadata": {
      "needs_background": "light"
     },
     "output_type": "display_data"
    }
   ],
   "source": [
    "#4\n",
    "f = open('doctor2.csv', 'r', encoding='utf-8')\n",
    "lines = csv.reader(f)\n",
    "\n",
    "header = next(lines)\n",
    "\n",
    "xdata = []\n",
    "ydata = []\n",
    "\n",
    "for line in lines:\n",
    "    xdata.append(line[0])\n",
    "    ydata.append(int(line[4]))    # doctor2 파일이라서 위치가 4가 되었음\n",
    "\n",
    "font1 = {'size':26, 'color':'green'}\n",
    "\n",
    "plt.scatter(xdata, ydata)\n",
    "\n",
    "plt.title('서울 및 광역시 종합병원 전문의 수', fontdict=font1)\n",
    "plt.xlabel('시')\n",
    "plt.ylabel('의사 수')\n",
    "\n",
    "plt.show()\n",
    "        \n",
    "f.close()"
   ]
  },
  {
   "cell_type": "code",
   "execution_count": 613,
   "metadata": {},
   "outputs": [
    {
     "data": {
      "image/png": "[encoded data removed]",
      "text/plain": [
       "<Figure size 720x432 with 1 Axes>"
      ]
     },
     "metadata": {
      "needs_background": "light"
     },
     "output_type": "display_data"
    }
   ],
   "source": [
    "#5\n",
    "f = open('doctor2.csv', 'r', encoding='utf-8')\n",
    "lines = csv.reader(f)\n",
    "\n",
    "header = next(lines)\n",
    "\n",
    "xdata = []\n",
    "ydata1 = []\n",
    "ydata2 = []\n",
    "ydata3 = []\n",
    "ydata4 = []\n",
    "\n",
    "\n",
    "for line in lines:\n",
    "    xdata.append(line[0])\n",
    "    ydata1.append(int(line[1]))\n",
    "    ydata2.append(int(line[2]))\n",
    "    ydata3.append(int(line[3]))\n",
    "    ydata4.append(int(line[4]))\n",
    "\n",
    "\n",
    "font1 = {'size':26, 'color':'green'}\n",
    "\n",
    "plt.plot(xdata, ydata1, label = '일반의', color='red', linestyle='-', marker='o')\n",
    "plt.plot(xdata, ydata2, label = '인턴', color='blue', linestyle='--', marker='x')\n",
    "plt.plot(xdata, ydata3, label = '레지던트', color='yellow', linestyle=':', marker='s')\n",
    "plt.plot(xdata, ydata4, label = '전문의', color='magenta', linestyle='-.', marker='d')\n",
    "\n",
    "\n",
    "plt.title('서울 및 광역시 종합병원 의사 수', fontdict=font1)\n",
    "plt.xlabel('시')\n",
    "plt.ylabel('의사 수')\n",
    "plt.legend(loc='best')\n",
    "plt.show()\n",
    "        \n",
    "f.close()"
   ]
  },
  {
   "cell_type": "code",
   "execution_count": 615,
   "metadata": {},
   "outputs": [
    {
     "data": {
      "image/png": "[encoded data removed]",
      "text/plain": [
       "<Figure size 720x432 with 1 Axes>"
      ]
     },
     "metadata": {},
     "output_type": "display_data"
    }
   ],
   "source": [
    "#6\n",
    "plt.axis('equal')\n",
    "\n",
    "f = open('doctor2.csv', 'r', encoding='utf-8')\n",
    "lines = csv.reader(f)\n",
    "\n",
    "header = next(lines)\n",
    "\n",
    "\n",
    "labels = ['일반의', '인턴', '레지던트', '전문의']\n",
    "sizes = []\n",
    "seoul = next(lines)\n",
    "\n",
    "total = 0\n",
    "for i in range(4) :\n",
    "    total += int(seoul[i+1])\n",
    "    \n",
    "for i in range(4) :\n",
    "    persent = int(seoul[i+1])/total;\n",
    "    sizes.append(persent)\n",
    "\n",
    "\n",
    "colors = ['blue', 'orange', 'green', 'red']\n",
    "explode = (0, 0.1, 0, 0)\n",
    "plt.title(\"서울 종합병원 의사 유형별 분포\", color='green')\n",
    "plt.pie(sizes, explode=(0, 0.1, 0, 0), labels=labels, colors=colors,\n",
    "        autopct='%1.1f%%', shadow=True, startangle=90)\n",
    "plt.axis('equal')\n",
    "plt.show()"
   ]
  },
  {
   "cell_type": "code",
   "execution_count": null,
   "metadata": {},
   "outputs": [],
   "source": []
  }
 ],
 "metadata": {
  "kernelspec": {
   "display_name": "Python 3",
   "language": "python",
   "name": "python3"
  },
  "language_info": {
   "codemirror_mode": {
    "name": "ipython",
    "version": 3
   },
   "file_extension": ".py",
   "mimetype": "text/x-python",
   "name": "python",
   "nbconvert_exporter": "python",
   "pygments_lexer": "ipython3",
   "version": "3.7.6"
  }
 },
 "nbformat": 4,
 "nbformat_minor": 4
}

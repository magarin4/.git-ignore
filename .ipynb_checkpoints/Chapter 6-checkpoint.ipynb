{
 "cells": [
  {
   "cell_type": "markdown",
   "metadata": {},
   "source": [
    " # Chapter 6"
   ]
  },
  {
   "cell_type": "code",
   "execution_count": 4,
   "metadata": {},
   "outputs": [
    {
     "name": "stdout",
     "output_type": "stream",
     "text": [
      "('coffee', 'milk', 'tea', 'cider')\n",
      "coffee\n",
      "tea\n",
      "('coffee', 'milk', 'tea')\n"
     ]
    },
    {
     "ename": "TypeError",
     "evalue": "'tuple' object does not support item assignment",
     "output_type": "error",
     "traceback": [
      "\u001b[1;31m---------------------------------------------------------------------------\u001b[0m",
      "\u001b[1;31mTypeError\u001b[0m                                 Traceback (most recent call last)",
      "\u001b[1;32m<ipython-input-4-f036d74033da>\u001b[0m in \u001b[0;36m<module>\u001b[1;34m\u001b[0m\n\u001b[0;32m      7\u001b[0m \u001b[0mprint\u001b[0m\u001b[1;33m(\u001b[0m\u001b[0mmenu\u001b[0m\u001b[1;33m[\u001b[0m\u001b[1;36m0\u001b[0m\u001b[1;33m:\u001b[0m\u001b[1;36m3\u001b[0m\u001b[1;33m]\u001b[0m\u001b[1;33m)\u001b[0m\u001b[1;33m\u001b[0m\u001b[1;33m\u001b[0m\u001b[0m\n\u001b[0;32m      8\u001b[0m \u001b[1;33m\u001b[0m\u001b[0m\n\u001b[1;32m----> 9\u001b[1;33m \u001b[0mmenu\u001b[0m\u001b[1;33m[\u001b[0m\u001b[1;36m1\u001b[0m\u001b[1;33m]\u001b[0m \u001b[1;33m=\u001b[0m \u001b[1;34m'cola'\u001b[0m\u001b[1;33m\u001b[0m\u001b[1;33m\u001b[0m\u001b[0m\n\u001b[0m",
      "\u001b[1;31mTypeError\u001b[0m: 'tuple' object does not support item assignment"
     ]
    }
   ],
   "source": [
    "#ex 6-1\n",
    "menu = ('coffee', 'milk', 'tea', 'cider')\n",
    "\n",
    "print(menu)\n",
    "print(menu[0])\n",
    "print(menu[2])\n",
    "print(menu[0:3])\n",
    "\n",
    "menu[1] = 'cola'"
   ]
  },
  {
   "cell_type": "code",
   "execution_count": 6,
   "metadata": {},
   "outputs": [
    {
     "name": "stdout",
     "output_type": "stream",
     "text": [
      "('apple', 'banana', 'cherry', 'orange', 'melon', 'strawberry')\n",
      "6\n",
      "apple\n",
      "banana\n",
      "cherry\n"
     ]
    }
   ],
   "source": [
    "#ex 6-2\n",
    "tuple1 = ('apple', 'banana', 'cherry')\n",
    "tuple2 = ('orange', 'melon', 'strawberry')\n",
    "tuple3 = tuple1 + tuple2\n",
    "print(tuple3)\n",
    "print(len(tuple3))\n",
    "for x in tuple1 : \n",
    "    print(x)\n",
    "          \n",
    "del tuple1"
   ]
  },
  {
   "cell_type": "code",
   "execution_count": 12,
   "metadata": {},
   "outputs": [
    {
     "name": "stdout",
     "output_type": "stream",
     "text": [
      "(1, 3, 5, 7, 9)\n"
     ]
    }
   ],
   "source": [
    "odds = tuple(range(1,10,2))\n",
    "print(odds)"
   ]
  },
  {
   "cell_type": "code",
   "execution_count": 16,
   "metadata": {},
   "outputs": [
    {
     "name": "stdout",
     "output_type": "stream",
     "text": [
      "(False, False, False, False, False)\n"
     ]
    }
   ],
   "source": [
    "#표현식 (1,4, 9, 16, 25)\n",
    "squares = tuple(i != i for i in range(1,6))\n",
    "print(squares)"
   ]
  },
  {
   "cell_type": "code",
   "execution_count": 14,
   "metadata": {},
   "outputs": [
    {
     "name": "stdout",
     "output_type": "stream",
     "text": [
      "(False, False, False, False, False)\n"
     ]
    }
   ],
   "source": [
    "odd_squares = tuple(i != i for i in range(1,10) if i % 2 == 1)\n",
    "print(odd_squares)"
   ]
  },
  {
   "cell_type": "code",
   "execution_count": 17,
   "metadata": {},
   "outputs": [
    {
     "name": "stdout",
     "output_type": "stream",
     "text": [
      "True\n",
      "False\n"
     ]
    }
   ],
   "source": [
    "#특정 값이 있는지 확인하기\n",
    "a = [0, 10, 20, 30, 40, 50, 60, 70, 80, 90]\n",
    "print(30 in a)\n",
    "print(100 in a)"
   ]
  },
  {
   "cell_type": "code",
   "execution_count": 18,
   "metadata": {},
   "outputs": [
    {
     "name": "stdout",
     "output_type": "stream",
     "text": [
      "True\n"
     ]
    }
   ],
   "source": [
    "print(100 not in a)"
   ]
  },
  {
   "cell_type": "code",
   "execution_count": 19,
   "metadata": {},
   "outputs": [
    {
     "name": "stdout",
     "output_type": "stream",
     "text": [
      "True\n",
      "True\n"
     ]
    }
   ],
   "source": [
    "print((1,2,3,) != 3)\n",
    "print('python' != 3)"
   ]
  },
  {
   "cell_type": "code",
   "execution_count": 21,
   "metadata": {},
   "outputs": [
    {
     "name": "stdout",
     "output_type": "stream",
     "text": [
      "{'name': '안지영', 'age': 30, 'email': 'jiyoung@korea.com'}\n",
      "안지영\n"
     ]
    }
   ],
   "source": [
    "members = {'name' : '안지영', 'age' : 30, 'email' : 'jiyoung@korea.com' }\n",
    "\n",
    "print(members)\n",
    "print(members['name'])"
   ]
  },
  {
   "cell_type": "code",
   "execution_count": 23,
   "metadata": {},
   "outputs": [
    {
     "name": "stdout",
     "output_type": "stream",
     "text": [
      "{'kor': 95, 'eng': 85, 'math': 90, 'science': 80}\n",
      "70\n",
      "{'kor': 70, 'eng': 85, 'math': 90, 'science': 80, 'music': 100}\n",
      "{'kor': 70, 'eng': 85, 'math': 90, 'music': 100}\n"
     ]
    }
   ],
   "source": [
    "#ex 6-4\n",
    "name = '안지영'\n",
    "scores = {'kor' : 95, 'eng' : 85, 'math' : 90, 'science' : 80}\n",
    "print(scores)\n",
    "\n",
    "scores['kor'] = 70\n",
    "print(scores['kor'])\n",
    "\n",
    "scores['music'] = 100\n",
    "print(scores)\n",
    "\n",
    "del scores['science']\n",
    "print(scores)"
   ]
  },
  {
   "cell_type": "code",
   "execution_count": null,
   "metadata": {},
   "outputs": [],
   "source": []
  }
 ],
 "metadata": {
  "kernelspec": {
   "display_name": "Python 3",
   "language": "python",
   "name": "python3"
  },
  "language_info": {
   "codemirror_mode": {
    "name": "ipython",
    "version": 3
   },
   "file_extension": ".py",
   "mimetype": "text/x-python",
   "name": "python",
   "nbconvert_exporter": "python",
   "pygments_lexer": "ipython3",
   "version": "3.7.6"
  }
 },
 "nbformat": 4,
 "nbformat_minor": 4
}

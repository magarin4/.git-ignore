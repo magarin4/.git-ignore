{
 "cells": [
  {
   "cell_type": "markdown",
   "metadata": {},
   "source": [
    " # Chapter 02. 파이썬의 기본 문법 "
   ]
  },
  {
   "cell_type": "code",
   "execution_count": 1,
   "metadata": {},
   "outputs": [
    {
     "name": "stdout",
     "output_type": "stream",
     "text": [
      "50\n"
     ]
    }
   ],
   "source": [
    "# 예제 2-1\n",
    "a = 20\n",
    "b = 30\n",
    "c = a+b\n",
    "print(c)"
   ]
  },
  {
   "cell_type": "code",
   "execution_count": 2,
   "metadata": {},
   "outputs": [
    {
     "name": "stdout",
     "output_type": "stream",
     "text": [
      "20 Mac 30 70 홍길동 1997 20.3\n"
     ]
    }
   ],
   "source": [
    "# 예제 2-2\n",
    "x = 20\n",
    "Computer = 'Mac'\n",
    "Age = 30\n",
    "my_score = 70\n",
    "_name = '홍길동'\n",
    "myBirthYear = 1997\n",
    "data2 = 20.3\n",
    "\n",
    "print(x, Computer, Age, my_score, _name, myBirthYear, data2)"
   ]
  },
  {
   "cell_type": "code",
   "execution_count": 3,
   "metadata": {},
   "outputs": [
    {
     "name": "stdout",
     "output_type": "stream",
     "text": [
      "20 Mac 30 70 홍길동 1997 20.3\n"
     ]
    }
   ],
   "source": [
    "# 예제 2-2 mod\n",
    "x = 20\n",
    "computer = 'Mac'\n",
    "age = 30\n",
    "my_score = 70\n",
    "_name = '홍길동'\n",
    "my_birth_year = 1997\n",
    "data2 = 20.3\n",
    "\n",
    "print(x, computer, age, my_score, _name, my_birth_year, data2)"
   ]
  },
  {
   "cell_type": "code",
   "execution_count": 4,
   "metadata": {},
   "outputs": [
    {
     "name": "stdout",
     "output_type": "stream",
     "text": [
      "30\n",
      "<class 'int'>\n"
     ]
    }
   ],
   "source": [
    "#ex 예제 2-4\n",
    "x = 30\n",
    "print(x)\n",
    "print(type(x))"
   ]
  },
  {
   "cell_type": "code",
   "execution_count": 5,
   "metadata": {},
   "outputs": [
    {
     "name": "stdout",
     "output_type": "stream",
     "text": [
      "3.3764 3.0\n",
      "<class 'float'> <class 'float'>\n"
     ]
    }
   ],
   "source": [
    "#예제 2-5\n",
    "x = 3.3764\n",
    "y = 6/2\n",
    "print(x,y)\n",
    "print(type(x), type(y))"
   ]
  },
  {
   "cell_type": "code",
   "execution_count": 9,
   "metadata": {},
   "outputs": [
    {
     "name": "stdout",
     "output_type": "stream",
     "text": [
      "I am happy!\n",
      "I\n",
      "I a\n",
      "happy!\n",
      "!\n",
      "py!\n",
      " \n",
      "pp\n"
     ]
    }
   ],
   "source": [
    "#예제 2-8\n",
    "x = 'I am happy!'\n",
    "\n",
    "print(x)\n",
    "print(x[0])\n",
    "print(x[0:3])\n",
    "print(x[5:])\n",
    "print(x[-1])\n",
    "print(x[-3:])\n",
    "print(x[1])\n",
    "print(x[-4:-2])\n"
   ]
  },
  {
   "cell_type": "code",
   "execution_count": 10,
   "metadata": {},
   "outputs": [
    {
     "name": "stdout",
     "output_type": "stream",
     "text": [
      "강아지 happy happy\n"
     ]
    }
   ],
   "source": [
    "z = '내 강아지 이름은 happy에요.'\n",
    "print(z[2:5], z[10:15], z[-8:-3])"
   ]
  },
  {
   "cell_type": "code",
   "execution_count": 12,
   "metadata": {},
   "outputs": [
    {
     "name": "stdout",
     "output_type": "stream",
     "text": [
      "True\n",
      "False\n",
      "False\n",
      "<class 'bool'>\n"
     ]
    }
   ],
   "source": [
    "# 예제 2-9\n",
    "a = True\n",
    "b = False\n",
    "print(a)\n",
    "print(b)\n",
    "\n",
    "c = 10 > 20\n",
    "print(c)\n",
    "\n",
    "print(type(a))"
   ]
  },
  {
   "cell_type": "code",
   "execution_count": 13,
   "metadata": {},
   "outputs": [
    {
     "name": "stdout",
     "output_type": "stream",
     "text": [
      "15\n"
     ]
    }
   ],
   "source": [
    "# 예제 2-16\n",
    "a = '쥐 구멍에 볕 들 날 있다.'\n",
    "\n",
    "b = len(a)\n",
    "\n",
    "print(len(a))"
   ]
  },
  {
   "cell_type": "code",
   "execution_count": 20,
   "metadata": {},
   "outputs": [
    {
     "name": "stdout",
     "output_type": "stream",
     "text": [
      "홍지수님 안녕하세요!\n",
      "홍지수님 안녕하세요!\n"
     ]
    }
   ],
   "source": [
    "#예제 2-17\n",
    "name = '홍지수'\n",
    "greet = name +'님 안녕하세요!'\n",
    "print(greet)\n",
    "\n",
    "add = '님 안녕하세요!'\n",
    "greet2 = name + add\n",
    "print(greet2)"
   ]
  },
  {
   "cell_type": "code",
   "execution_count": 24,
   "metadata": {},
   "outputs": [
    {
     "name": "stdout",
     "output_type": "stream",
     "text": [
      "영어점수 : 80점\n"
     ]
    }
   ],
   "source": [
    "#예제2-19\n",
    "eng = 80\n",
    "result ='영어점수 : ' + str(eng) + '점'\n",
    "print(result)"
   ]
  },
  {
   "cell_type": "code",
   "execution_count": 25,
   "metadata": {},
   "outputs": [
    {
     "name": "stdout",
     "output_type": "stream",
     "text": [
      "나는 김수영입니다.\n"
     ]
    }
   ],
   "source": [
    "#예제 2-20\n",
    "name = '김수영'\n",
    "a = '나는 %s입니다.' %name\n",
    "print(a)"
   ]
  },
  {
   "cell_type": "code",
   "execution_count": 27,
   "metadata": {},
   "outputs": [
    {
     "name": "stdout",
     "output_type": "stream",
     "text": [
      "2020-03-05\n"
     ]
    }
   ],
   "source": [
    "#에제2-20\n",
    "year = 2020\n",
    "month = 3\n",
    "day = 5\n",
    "\n",
    "a = '%d-%02d-%02d' % (year,month,day)\n",
    "print(a)"
   ]
  },
  {
   "cell_type": "code",
   "execution_count": 32,
   "metadata": {},
   "outputs": [
    {
     "name": "stdout",
     "output_type": "stream",
     "text": [
      "키는 172.50입니다.\n",
      "키는     172.50입니다.\n"
     ]
    }
   ],
   "source": [
    "#예제 2-23\n",
    "height = 172.5\n",
    "a = '키는 %.2f입니다.' % height\n",
    "print(a)\n",
    "\n",
    "a = '키는 %10.2f입니다.' % height\n",
    "print(a)"
   ]
  },
  {
   "cell_type": "code",
   "execution_count": 34,
   "metadata": {},
   "outputs": [
    {
     "name": "stdout",
     "output_type": "stream",
     "text": [
      "이름 : 황예린\n",
      "나이 : 18세\n",
      "시력 : 1.2\n"
     ]
    }
   ],
   "source": [
    "#예제 2-24\n",
    "name = '황예린'\n",
    "age = 18\n",
    "eyesight = 1.2\n",
    "\n",
    "a = '이름 : {}'.format(name)\n",
    "b = '나이 : {}세'.format(age)\n",
    "c = '시력 : {}'.format(eyesight)\n",
    "\n",
    "print(a)\n",
    "print(b)\n",
    "print(c)"
   ]
  },
  {
   "cell_type": "code",
   "execution_count": 48,
   "metadata": {},
   "outputs": [
    {
     "data": {
      "text/plain": [
       "False"
      ]
     },
     "execution_count": 48,
     "metadata": {},
     "output_type": "execute_result"
    }
   ],
   "source": [
    "#문자열 매소드\n",
    "x = 'I am happy!'\n",
    "x.count('am')\n",
    "x.count(' ')\n",
    "x.replace('am', 'was')\n",
    "x.split(' ')\n",
    "x.isspace()"
   ]
  },
  {
   "cell_type": "code",
   "execution_count": 50,
   "metadata": {},
   "outputs": [
    {
     "name": "stdout",
     "output_type": "stream",
     "text": [
      "두 과목 점수 : 80,87\n",
      "합계 : 167, 평균 : 83.50\n"
     ]
    }
   ],
   "source": [
    "#예제2-27\n",
    "score1 = 80\n",
    "score2 = 87\n",
    "\n",
    "sum = score1 + score2\n",
    "avg = sum/2\n",
    "\n",
    "print('두 과목 점수 : %d,%d' % (score1, score2))\n",
    "print('합계 : %d, 평균 : %.2f' % (sum,avg))"
   ]
  },
  {
   "cell_type": "code",
   "execution_count": 51,
   "metadata": {},
   "outputs": [
    {
     "name": "stdout",
     "output_type": "stream",
     "text": [
      "오늘은\n",
      "2020 5 29\n",
      "입니다\n"
     ]
    }
   ],
   "source": [
    "# sep, end\n",
    "print('오늘은')\n",
    "year=2020\n",
    "month=5\n",
    "day=29\n",
    "print(year,month,day)\n",
    "print('입니다')"
   ]
  },
  {
   "cell_type": "code",
   "execution_count": 52,
   "metadata": {},
   "outputs": [
    {
     "name": "stdout",
     "output_type": "stream",
     "text": [
      "오늘은 2020/5/29 입니다\n"
     ]
    }
   ],
   "source": [
    "# 오늘은 2020/5/29 입니다.\n",
    "print('오늘은', end=' ')\n",
    "print(year,month,day, sep='/',end=' ')\n",
    "print('입니다')"
   ]
  },
  {
   "cell_type": "code",
   "execution_count": 53,
   "metadata": {},
   "outputs": [
    {
     "name": "stdout",
     "output_type": "stream",
     "text": [
      "이름을 입력하세요 : ㅇ\n",
      "ㅇ님 반갑습니다.\n"
     ]
    }
   ],
   "source": [
    "#예제 2-31\n",
    "name = input('이름을 입력하세요 : ')\n",
    "\n",
    "print('%s님 반갑습니다.'% name)"
   ]
  },
  {
   "cell_type": "code",
   "execution_count": 57,
   "metadata": {},
   "outputs": [
    {
     "name": "stdout",
     "output_type": "stream",
     "text": [
      "첫 번째 숫자를 입력하세요 : 2.4\n",
      "두 번째 숫자를 입력하세요 : 3.5\n",
      "2.43.5\n",
      "<class 'str'> <class 'str'> <class 'str'>\n"
     ]
    },
    {
     "ename": "ValueError",
     "evalue": "invalid literal for int() with base 10: '2.4'",
     "output_type": "error",
     "traceback": [
      "\u001b[1;31m---------------------------------------------------------------------------\u001b[0m",
      "\u001b[1;31mValueError\u001b[0m                                Traceback (most recent call last)",
      "\u001b[1;32m<ipython-input-57-9521d3e4095e>\u001b[0m in \u001b[0;36m<module>\u001b[1;34m\u001b[0m\n\u001b[0;32m      8\u001b[0m \u001b[0mprint\u001b[0m\u001b[1;33m(\u001b[0m\u001b[0mtype\u001b[0m\u001b[1;33m(\u001b[0m\u001b[0ma\u001b[0m\u001b[1;33m)\u001b[0m\u001b[1;33m,\u001b[0m\u001b[0mtype\u001b[0m\u001b[1;33m(\u001b[0m\u001b[0mb\u001b[0m\u001b[1;33m)\u001b[0m\u001b[1;33m,\u001b[0m\u001b[0mtype\u001b[0m\u001b[1;33m(\u001b[0m\u001b[0mc\u001b[0m\u001b[1;33m)\u001b[0m\u001b[1;33m)\u001b[0m\u001b[1;33m\u001b[0m\u001b[1;33m\u001b[0m\u001b[0m\n\u001b[0;32m      9\u001b[0m \u001b[1;33m\u001b[0m\u001b[0m\n\u001b[1;32m---> 10\u001b[1;33m \u001b[0mc\u001b[0m \u001b[1;33m=\u001b[0m \u001b[0mint\u001b[0m\u001b[1;33m(\u001b[0m\u001b[0ma\u001b[0m\u001b[1;33m)\u001b[0m \u001b[1;33m+\u001b[0m \u001b[0mint\u001b[0m\u001b[1;33m(\u001b[0m\u001b[0mb\u001b[0m\u001b[1;33m)\u001b[0m\u001b[1;33m\u001b[0m\u001b[1;33m\u001b[0m\u001b[0m\n\u001b[0m\u001b[0;32m     11\u001b[0m \u001b[1;33m\u001b[0m\u001b[0m\n\u001b[0;32m     12\u001b[0m \u001b[0mprint\u001b[0m\u001b[1;33m(\u001b[0m\u001b[0mc\u001b[0m\u001b[1;33m)\u001b[0m\u001b[1;33m\u001b[0m\u001b[1;33m\u001b[0m\u001b[0m\n",
      "\u001b[1;31mValueError\u001b[0m: invalid literal for int() with base 10: '2.4'"
     ]
    }
   ],
   "source": [
    "#예제 2-32\n",
    "a = input('첫 번째 숫자를 입력하세요 : ')\n",
    "b = input('두 번째 숫자를 입력하세요 : ')\n",
    "\n",
    "c = a + b \n",
    "\n",
    "print(c)\n",
    "print(type(a),type(b),type(c))\n",
    "\n",
    "c = int(a) + int(b)\n",
    "\n",
    "print(c)"
   ]
  },
  {
   "cell_type": "code",
   "execution_count": 58,
   "metadata": {},
   "outputs": [
    {
     "name": "stdout",
     "output_type": "stream",
     "text": [
      "30\n"
     ]
    }
   ],
   "source": [
    "#예제2-35 주석문\n",
    "\"\"\"\n",
    "프로그램명 : 두 수 더하기\n",
    "작성자 : 홍길동\n",
    "작성일:2021.9.20\n",
    "\"\"\"\n",
    "\n",
    "a = 10\n",
    "b = 20\n",
    "\n",
    "c= a + b\n",
    "\n",
    "print(c)"
   ]
  },
  {
   "cell_type": "code",
   "execution_count": null,
   "metadata": {},
   "outputs": [],
   "source": []
  },
  {
   "cell_type": "code",
   "execution_count": null,
   "metadata": {},
   "outputs": [],
   "source": []
  }
 ],
 "metadata": {
  "kernelspec": {
   "display_name": "Python 3",
   "language": "python",
   "name": "python3"
  },
  "language_info": {
   "codemirror_mode": {
    "name": "ipython",
    "version": 3
   },
   "file_extension": ".py",
   "mimetype": "text/x-python",
   "name": "python",
   "nbconvert_exporter": "python",
   "pygments_lexer": "ipython3",
   "version": "3.7.6"
  }
 },
 "nbformat": 4,
 "nbformat_minor": 4
}

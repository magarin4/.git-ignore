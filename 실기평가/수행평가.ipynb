{
 "cells": [
  {
   "cell_type": "markdown",
   "metadata": {},
   "source": [
    " ##  실기평가"
   ]
  },
  {
   "cell_type": "code",
   "execution_count": 84,
   "metadata": {},
   "outputs": [
    {
     "name": "stdout",
     "output_type": "stream",
     "text": [
      "   *       *\n",
      "  ***     ***\n",
      " *****   *****\n",
      "******* *******\n"
     ]
    }
   ],
   "source": [
    "#1\n",
    "space = []\n",
    "star = 7\n",
    "for star in range(0,star,2) :\n",
    "    star += 1\n",
    "    space = int((4 - (star-1))/2)\n",
    "    #print(space)\n",
    "    #space2 = int(space/2)\n",
    "    if space == -1:\n",
    "        print('*'*star,'*'*star)\n",
    "    else :\n",
    "        print(' '*space,'*'*star,' '*space,' '*space,'*'*star)"
   ]
  },
  {
   "cell_type": "code",
   "execution_count": 85,
   "metadata": {},
   "outputs": [
    {
     "name": "stdout",
     "output_type": "stream",
     "text": [
      "n: (단,n은 3이상)5\n",
      "*....\n",
      "*.*..\n",
      "...*.\n",
      "...**\n",
      "....*\n",
      "output\n",
      "*3110\n",
      "*3*21\n",
      "123*3\n",
      "002**\n",
      "0013*\n"
     ]
    }
   ],
   "source": [
    "#2\n",
    "import random\n",
    "n = int(input(\"n: (단,n은 3이상)\"))\n",
    "m = int(n)\n",
    "if n < 3 :\n",
    "    print(\"다시 실행해주세요\")\n",
    "else :\n",
    "    if not(n > 2 and m <= 100):\n",
    "        raise Exception(\"N > 2, M <= 100\")\n",
    "    mn = [[random.choice(['.','.','.','.','*']) for x in range(n)] for y in range(m)]\n",
    "    for y in mn:\n",
    "        print(''.join(y))\n",
    "    r = mn.copy()\n",
    "    for y, yd in enumerate(r):\n",
    "        for x, xd in enumerate(yd):\n",
    "            if r[y][x] == '*': continue\n",
    "            count = 0\n",
    "            c = [[''] if y - 1 < 0 else r[y-1][0 if x - 1 < 0 else x - 1:x+2],\n",
    "                 r[y][0 if x - 1 < 0 else x - 1:x+2],             \n",
    "                 [''] if y + 1 >= m else r[y+1][0 if x - 1 < 0 else x - 1:x+2]]\n",
    "            for z in c:\n",
    "                count+=z.count('*')\n",
    "            r[y][x] = str(count)\n",
    "            \n",
    "    print(\"output\")\n",
    "    for y in r:\n",
    "        print(''.join(y))  "
   ]
  },
  {
   "cell_type": "code",
   "execution_count": 89,
   "metadata": {},
   "outputs": [],
   "source": [
    "#3\n",
    "import matplotlib.pyplot as plt\n",
    "import matplotlib as mpl\n",
    "mpl.rcParams['axes.unicode_minus'] = False\n",
    "mpl.rc('font', family='Malgun Gothic')\n",
    "%matplotlib inline\n",
    "import matplotlib.pyplot as plt\n",
    "%matplotlib inline\n",
    "import numpy as np\n",
    "import math as mt"
   ]
  },
  {
   "cell_type": "code",
   "execution_count": 90,
   "metadata": {},
   "outputs": [
    {
     "data": {
      "image/png": "[encoded data removed]",
      "text/plain": [
       "<Figure size 432x288 with 1 Axes>"
      ]
     },
     "metadata": {
      "needs_background": "light"
     },
     "output_type": "display_data"
    }
   ],
   "source": [
    "x = np.arange(-2*np.pi,2*np.pi,0.05)\n",
    "y1 = np.tanh(x)\n",
    "plt.plot(x,y1)\n",
    "plt.xlim(-7,7)\n",
    "plt.ylim(-1.2,1.2)\n",
    "plt.grid(True)\n",
    "plt.show()"
   ]
  },
  {
   "cell_type": "code",
   "execution_count": 91,
   "metadata": {},
   "outputs": [],
   "source": [
    "from bs4 import BeautifulSoup\n",
    "from urllib.request import urlopen\n",
    "import requests"
   ]
  },
  {
   "cell_type": "code",
   "execution_count": 92,
   "metadata": {},
   "outputs": [],
   "source": [
    "#4\n",
    "header = {'User-Agent': 'Mozilla/5.0 (Windows NT 6.3; Trident/7.0; rv:11.0) like Gecko'}\n",
    "url_base = \"https://www.melon.com/chart/month/index.\"\n",
    "url_sub = 'htm#params%5Bidx%5D='\n",
    "url_page = '1'\n",
    "url_sub2 = '&params%5BrankMonth%5D=202005&params%5BisFirstDate%5D=false&params%5BisLastDate%5D=true'\n",
    "url = url_base + url_sub + url_page + url_sub2\n",
    "url\n",
    "req = requests.get(url, headers = header) ## 주간 차트를 크롤링 할 것임\n",
    "html = req.text\n",
    "#url_sub = 'htm#params%5Bidx%5D=1'\n",
    "#url = url_base + url_sub\n",
    "#tml = urlopen(url)\n",
    "soup = BeautifulSoup(html, 'html.parser')"
   ]
  },
  {
   "cell_type": "code",
   "execution_count": 93,
   "metadata": {},
   "outputs": [],
   "source": [
    "#ifr_url = soup.find_all('class')['service_list_song type02']\n",
    "#ifr_url"
   ]
  },
  {
   "cell_type": "code",
   "execution_count": 94,
   "metadata": {},
   "outputs": [],
   "source": [
    "number = soup.find_all(class_=\"rank\")\n",
    "#number"
   ]
  },
  {
   "cell_type": "code",
   "execution_count": 95,
   "metadata": {},
   "outputs": [],
   "source": [
    "number = soup.find_all(class_=\"rank\")\n",
    "#number"
   ]
  },
  {
   "cell_type": "code",
   "execution_count": 96,
   "metadata": {},
   "outputs": [],
   "source": [
    "rank = soup.find_all(class_=\"wrap t_center\")\n",
    "#rank"
   ]
  },
  {
   "cell_type": "code",
   "execution_count": 97,
   "metadata": {},
   "outputs": [],
   "source": [
    "#rank = soup.find_all(class_=\"wrap t_center\").find('span').get_text()\n",
    "#rank"
   ]
  },
  {
   "cell_type": "code",
   "execution_count": 98,
   "metadata": {},
   "outputs": [],
   "source": [
    "result = soup.find(class_='service_list_song')"
   ]
  },
  {
   "cell_type": "code",
   "execution_count": 99,
   "metadata": {},
   "outputs": [],
   "source": [
    "lis = result.find_all('tr')\n",
    "#lis"
   ]
  },
  {
   "cell_type": "code",
   "execution_count": 101,
   "metadata": {},
   "outputs": [],
   "source": [
    "li = lis[1]\n",
    "#li"
   ]
  },
  {
   "cell_type": "code",
   "execution_count": 102,
   "metadata": {
    "scrolled": true
   },
   "outputs": [],
   "source": [
    "rank = li.find(class_='wrap t_center').find('span').get_text()\n",
    "#print(rank)\n",
    "rank = int(rank)"
   ]
  },
  {
   "cell_type": "code",
   "execution_count": 103,
   "metadata": {},
   "outputs": [],
   "source": [
    "title = li.find(class_='ellipsis').find('a').get_text()\n",
    "#title"
   ]
  },
  {
   "cell_type": "code",
   "execution_count": 104,
   "metadata": {},
   "outputs": [],
   "source": [
    "albem = li.find(class_='ellipsis rank03').find('a').get_text()\n",
    "#albem"
   ]
  },
  {
   "cell_type": "code",
   "execution_count": 105,
   "metadata": {},
   "outputs": [],
   "source": [
    "singer = li.find(class_='ellipsis rank02').find('a').get_text()\n",
    "#singer"
   ]
  },
  {
   "cell_type": "code",
   "execution_count": 106,
   "metadata": {},
   "outputs": [],
   "source": [
    "li = lis[5]"
   ]
  },
  {
   "cell_type": "code",
   "execution_count": 107,
   "metadata": {},
   "outputs": [],
   "source": [
    "lmr = li.find(class_='bullet_icons').get_text()\n",
    "if lmr == '순위 진입' :\n",
    "    lmr = 'NEW'\n",
    "elif lmr == '단계 하락' :\n",
    "    lmr = li.find(class_='down').get_text()\n",
    "    lmr = str('-')+ lmr\n",
    "elif lmr == '단계 상승' :\n",
    "    lmr = li.find(class_='up').get_text()\n",
    "    lmr = str('+')+ lmr\n",
    "#rint(lmr)\n"
   ]
  },
  {
   "cell_type": "code",
   "execution_count": 108,
   "metadata": {
    "scrolled": true
   },
   "outputs": [],
   "source": [
    "rp = []\n",
    "title = []\n",
    "albem = []\n",
    "lmr = []\n",
    "singer = []\n",
    "\n",
    "for page in range(1,52,50) :\n",
    "    url = url = url_base + url_sub + str(page) + url_sub2\n",
    "    #print(url)\n",
    "    html = req.text\n",
    "    soup = BeautifulSoup(html, 'html.parser')"
   ]
  },
  {
   "cell_type": "code",
   "execution_count": 109,
   "metadata": {},
   "outputs": [],
   "source": [
    "rank = li.find(class_='wrap t_center').find('span').get_text()\n",
    "#rank"
   ]
  },
  {
   "cell_type": "code",
   "execution_count": 110,
   "metadata": {},
   "outputs": [],
   "source": [
    "#print(lis)\n",
    "\n",
    "#print(len(lis))\n",
    "li = lis[0]\n",
    "a = 1\n",
    "for a in range(1,101):\n",
    "    #print(a)\n",
    "    li = lis[a]\n",
    " #   print(li)\n",
    "    rank = li.find(class_='wrap t_center').find('span').get_text()\n",
    "    #print(rank)\n",
    "    rank = int(rank)\n",
    "    rp.append(rank)\n",
    "    title.append(li.find(class_='ellipsis').find('a').get_text())\n",
    "    #print(title)\n",
    "    #date.append(li.find(class_='score_reple').find_all('em')[1].get_text())\n",
    "    albem.append(li.find(class_='ellipsis rank03').find('a').get_text())\n",
    "    singer.append(li.find(class_='ellipsis rank02').find('a').get_text())\n",
    "    lmrl = li.find(class_='bullet_icons').get_text()\n",
    "    if lmrl == '순위 진입' :\n",
    "        lmrl = 'NEW'\n",
    "    elif lmrl == '단계 하락' :\n",
    "        lmrl = li.find(class_='down').get_text()\n",
    "        lmrl = str('-')+ lmrl\n",
    "    elif lmrl == '단계 상승' :\n",
    "        lmrl = li.find(class_='up').get_text()\n",
    "        lmrl = str('+')+ lmrl\n",
    "    lmr.append(lmrl)\n",
    "#lmr\n",
    "#print(rp)\n",
    "#print(title)\n",
    "#print(albem)\n",
    "#print(lmr)"
   ]
  },
  {
   "cell_type": "code",
   "execution_count": 137,
   "metadata": {},
   "outputs": [
    {
     "data": {
      "text/html": [
       "<div>\n",
       "<style scoped>\n",
       "    .dataframe tbody tr th:only-of-type {\n",
       "        vertical-align: middle;\n",
       "    }\n",
       "\n",
       "    .dataframe tbody tr th {\n",
       "        vertical-align: top;\n",
       "    }\n",
       "\n",
       "    .dataframe thead th {\n",
       "        text-align: right;\n",
       "    }\n",
       "</style>\n",
       "<table border=\"1\" class=\"dataframe\">\n",
       "  <thead>\n",
       "    <tr style=\"text-align: right;\">\n",
       "      <th></th>\n",
       "      <th>제목</th>\n",
       "      <th>가수</th>\n",
       "      <th>앨범명</th>\n",
       "      <th>전월순위</th>\n",
       "    </tr>\n",
       "  </thead>\n",
       "  <tbody>\n",
       "    <tr>\n",
       "      <th>0</th>\n",
       "      <td>에잇(Prod.&amp;Feat. SUGA of BTS)</td>\n",
       "      <td>아이유</td>\n",
       "      <td>에잇</td>\n",
       "      <td>NEW</td>\n",
       "    </tr>\n",
       "    <tr>\n",
       "      <th>1</th>\n",
       "      <td>아로하</td>\n",
       "      <td>조정석</td>\n",
       "      <td>슬기로운 의사생활 OST Part 3</td>\n",
       "      <td>순위 동일</td>\n",
       "    </tr>\n",
       "    <tr>\n",
       "      <th>2</th>\n",
       "      <td>살짝 설렜어 (Nonstop)</td>\n",
       "      <td>오마이걸</td>\n",
       "      <td>NONSTOP</td>\n",
       "      <td>NEW</td>\n",
       "    </tr>\n",
       "    <tr>\n",
       "      <th>3</th>\n",
       "      <td>나비와 고양이 (feat.백현 (BAEKHYUN))</td>\n",
       "      <td>볼빨간사춘기</td>\n",
       "      <td>사춘기집Ⅱ 꽃 본 나비</td>\n",
       "      <td>NEW</td>\n",
       "    </tr>\n",
       "    <tr>\n",
       "      <th>4</th>\n",
       "      <td>시작</td>\n",
       "      <td>가호 (Gaho)</td>\n",
       "      <td>이태원 클라쓰 OST Part.2</td>\n",
       "      <td>-2</td>\n",
       "    </tr>\n",
       "    <tr>\n",
       "      <th>...</th>\n",
       "      <td>...</td>\n",
       "      <td>...</td>\n",
       "      <td>...</td>\n",
       "      <td>...</td>\n",
       "    </tr>\n",
       "    <tr>\n",
       "      <th>95</th>\n",
       "      <td>아마두 (feat.우원재, 김효은, 넉살, Huckleberry P)</td>\n",
       "      <td>염따</td>\n",
       "      <td>Dingo X DAMOIM (Part 2)</td>\n",
       "      <td>-34</td>\n",
       "    </tr>\n",
       "    <tr>\n",
       "      <th>96</th>\n",
       "      <td>Señorita</td>\n",
       "      <td>Shawn Mendes</td>\n",
       "      <td>Señorita</td>\n",
       "      <td>-14</td>\n",
       "    </tr>\n",
       "    <tr>\n",
       "      <th>97</th>\n",
       "      <td>Zombie</td>\n",
       "      <td>DAY6 (데이식스)</td>\n",
       "      <td>The Book of Us : The Demon</td>\n",
       "      <td>NEW</td>\n",
       "    </tr>\n",
       "    <tr>\n",
       "      <th>98</th>\n",
       "      <td>자나깨나 (Feat. 조이 of Red Velvet)</td>\n",
       "      <td>Crush</td>\n",
       "      <td>homemade 1</td>\n",
       "      <td>NEW</td>\n",
       "    </tr>\n",
       "    <tr>\n",
       "      <th>99</th>\n",
       "      <td>나쁜 놈</td>\n",
       "      <td>벤</td>\n",
       "      <td>Off The Record</td>\n",
       "      <td>NEW</td>\n",
       "    </tr>\n",
       "  </tbody>\n",
       "</table>\n",
       "<p>100 rows × 4 columns</p>\n",
       "</div>"
      ],
      "text/plain": [
       "                                        제목            가수  \\\n",
       "0              에잇(Prod.&Feat. SUGA of BTS)           아이유   \n",
       "1                                      아로하           조정석   \n",
       "2                         살짝 설렜어 (Nonstop)          오마이걸   \n",
       "3             나비와 고양이 (feat.백현 (BAEKHYUN))        볼빨간사춘기   \n",
       "4                                       시작     가호 (Gaho)   \n",
       "..                                     ...           ...   \n",
       "95  아마두 (feat.우원재, 김효은, 넉살, Huckleberry P)            염따   \n",
       "96                                Señorita  Shawn Mendes   \n",
       "97                                  Zombie   DAY6 (데이식스)   \n",
       "98           자나깨나 (Feat. 조이 of Red Velvet)         Crush   \n",
       "99                                    나쁜 놈             벤   \n",
       "\n",
       "                           앨범명   전월순위  \n",
       "0                           에잇    NEW  \n",
       "1         슬기로운 의사생활 OST Part 3  순위 동일  \n",
       "2                      NONSTOP    NEW  \n",
       "3                 사춘기집Ⅱ 꽃 본 나비    NEW  \n",
       "4           이태원 클라쓰 OST Part.2     -2  \n",
       "..                         ...    ...  \n",
       "95     Dingo X DAMOIM (Part 2)    -34  \n",
       "96                    Señorita    -14  \n",
       "97  The Book of Us : The Demon    NEW  \n",
       "98                  homemade 1    NEW  \n",
       "99              Off The Record    NEW  \n",
       "\n",
       "[100 rows x 4 columns]"
      ]
     },
     "execution_count": 137,
     "metadata": {},
     "output_type": "execute_result"
    }
   ],
   "source": [
    "import pandas as pd\n",
    "df = pd.DataFrame({'제목':title, '가수':singer, '앨범명':albem,'전월순위' : lmr})\n",
    "df"
   ]
  },
  {
   "cell_type": "code",
   "execution_count": 138,
   "metadata": {},
   "outputs": [],
   "source": [
    "df2 = df\n",
    "df2['순위'] = range(1,101)\n",
    "#df2"
   ]
  },
  {
   "cell_type": "code",
   "execution_count": 139,
   "metadata": {
    "scrolled": true
   },
   "outputs": [],
   "source": [
    "df3 = df2.set_index('순위')\n",
    "#df3"
   ]
  },
  {
   "cell_type": "code",
   "execution_count": 140,
   "metadata": {},
   "outputs": [
    {
     "data": {
      "text/html": [
       "<div>\n",
       "<style scoped>\n",
       "    .dataframe tbody tr th:only-of-type {\n",
       "        vertical-align: middle;\n",
       "    }\n",
       "\n",
       "    .dataframe tbody tr th {\n",
       "        vertical-align: top;\n",
       "    }\n",
       "\n",
       "    .dataframe thead th {\n",
       "        text-align: right;\n",
       "    }\n",
       "</style>\n",
       "<table border=\"1\" class=\"dataframe\">\n",
       "  <thead>\n",
       "    <tr style=\"text-align: right;\">\n",
       "      <th></th>\n",
       "      <th>제목</th>\n",
       "      <th>가수</th>\n",
       "      <th>앨범명</th>\n",
       "      <th>전월순위</th>\n",
       "    </tr>\n",
       "    <tr>\n",
       "      <th>순위</th>\n",
       "      <th></th>\n",
       "      <th></th>\n",
       "      <th></th>\n",
       "      <th></th>\n",
       "    </tr>\n",
       "  </thead>\n",
       "  <tbody>\n",
       "    <tr>\n",
       "      <th>1</th>\n",
       "      <td>에잇(Prod.&amp;Feat. SUGA of BTS)</td>\n",
       "      <td>아이유</td>\n",
       "      <td>에잇</td>\n",
       "      <td>NEW</td>\n",
       "    </tr>\n",
       "    <tr>\n",
       "      <th>2</th>\n",
       "      <td>아로하</td>\n",
       "      <td>조정석</td>\n",
       "      <td>슬기로운 의사생활 OST Part 3</td>\n",
       "      <td>순위 동일</td>\n",
       "    </tr>\n",
       "    <tr>\n",
       "      <th>3</th>\n",
       "      <td>살짝 설렜어 (Nonstop)</td>\n",
       "      <td>오마이걸</td>\n",
       "      <td>NONSTOP</td>\n",
       "      <td>NEW</td>\n",
       "    </tr>\n",
       "    <tr>\n",
       "      <th>4</th>\n",
       "      <td>나비와 고양이 (feat.백현 (BAEKHYUN))</td>\n",
       "      <td>볼빨간사춘기</td>\n",
       "      <td>사춘기집Ⅱ 꽃 본 나비</td>\n",
       "      <td>NEW</td>\n",
       "    </tr>\n",
       "    <tr>\n",
       "      <th>5</th>\n",
       "      <td>시작</td>\n",
       "      <td>가호 (Gaho)</td>\n",
       "      <td>이태원 클라쓰 OST Part.2</td>\n",
       "      <td>-2</td>\n",
       "    </tr>\n",
       "    <tr>\n",
       "      <th>6</th>\n",
       "      <td>처음처럼</td>\n",
       "      <td>엠씨더맥스 (M.C the MAX)</td>\n",
       "      <td>CEREMONIA</td>\n",
       "      <td>-5</td>\n",
       "    </tr>\n",
       "    <tr>\n",
       "      <th>7</th>\n",
       "      <td>덤더럼(Dumhdurum)</td>\n",
       "      <td>Apink (에이핑크)</td>\n",
       "      <td>LOOK</td>\n",
       "      <td>+4</td>\n",
       "    </tr>\n",
       "    <tr>\n",
       "      <th>8</th>\n",
       "      <td>좋은 사람 있으면 소개시켜줘</td>\n",
       "      <td>조이 (JOY)</td>\n",
       "      <td>슬기로운 의사생활 OST Part 2</td>\n",
       "      <td>+8</td>\n",
       "    </tr>\n",
       "    <tr>\n",
       "      <th>9</th>\n",
       "      <td>흔들리는 꽃들 속에서 네 샴푸향이 느껴진거야</td>\n",
       "      <td>장범준</td>\n",
       "      <td>멜로가 체질 OST Part 3</td>\n",
       "      <td>-5</td>\n",
       "    </tr>\n",
       "    <tr>\n",
       "      <th>10</th>\n",
       "      <td>Happy</td>\n",
       "      <td>태연 (TAEYEON)</td>\n",
       "      <td>Happy</td>\n",
       "      <td>NEW</td>\n",
       "    </tr>\n",
       "  </tbody>\n",
       "</table>\n",
       "</div>"
      ],
      "text/plain": [
       "                              제목                   가수                   앨범명  \\\n",
       "순위                                                                            \n",
       "1    에잇(Prod.&Feat. SUGA of BTS)                  아이유                    에잇   \n",
       "2                            아로하                  조정석  슬기로운 의사생활 OST Part 3   \n",
       "3               살짝 설렜어 (Nonstop)                 오마이걸               NONSTOP   \n",
       "4   나비와 고양이 (feat.백현 (BAEKHYUN))               볼빨간사춘기          사춘기집Ⅱ 꽃 본 나비   \n",
       "5                             시작            가호 (Gaho)    이태원 클라쓰 OST Part.2   \n",
       "6                           처음처럼  엠씨더맥스 (M.C the MAX)             CEREMONIA   \n",
       "7                 덤더럼(Dumhdurum)         Apink (에이핑크)                  LOOK   \n",
       "8                좋은 사람 있으면 소개시켜줘             조이 (JOY)  슬기로운 의사생활 OST Part 2   \n",
       "9       흔들리는 꽃들 속에서 네 샴푸향이 느껴진거야                  장범준     멜로가 체질 OST Part 3   \n",
       "10                         Happy         태연 (TAEYEON)                 Happy   \n",
       "\n",
       "     전월순위  \n",
       "순위         \n",
       "1     NEW  \n",
       "2   순위 동일  \n",
       "3     NEW  \n",
       "4     NEW  \n",
       "5      -2  \n",
       "6      -5  \n",
       "7      +4  \n",
       "8      +8  \n",
       "9      -5  \n",
       "10    NEW  "
      ]
     },
     "execution_count": 140,
     "metadata": {},
     "output_type": "execute_result"
    }
   ],
   "source": [
    "df3.head(10)"
   ]
  },
  {
   "cell_type": "code",
   "execution_count": null,
   "metadata": {},
   "outputs": [],
   "source": []
  }
 ],
 "metadata": {
  "kernelspec": {
   "display_name": "Python 3",
   "language": "python",
   "name": "python3"
  },
  "language_info": {
   "codemirror_mode": {
    "name": "ipython",
    "version": 3
   },
   "file_extension": ".py",
   "mimetype": "text/x-python",
   "name": "python",
   "nbconvert_exporter": "python",
   "pygments_lexer": "ipython3",
   "version": "3.7.6"
  }
 },
 "nbformat": 4,
 "nbformat_minor": 4
}
